{
 "cells": [
  {
   "cell_type": "markdown",
   "metadata": {},
   "source": [
    "## Model Selection and Fitting"
   ]
  },
  {
   "cell_type": "code",
   "execution_count": 39,
   "metadata": {
    "hide_input": true
   },
   "outputs": [],
   "source": [
    "import pandas as pd\n",
    "from statsmodels.stats.multicomp import (pairwise_tukeyhsd,MultiComparison)\n",
    "import matplotlib.pyplot as plt\n",
    "import numpy as np\n",
    "import statsmodels.api as sm"
   ]
  },
  {
   "cell_type": "code",
   "execution_count": 40,
   "metadata": {
    "hide_input": true
   },
   "outputs": [],
   "source": [
    "df = pd.read_csv('~/Desktop/merged_data.csv')\n",
    "\n",
    "df=df.drop(columns=['Unnamed: 0'])"
   ]
  },
  {
   "cell_type": "markdown",
   "metadata": {},
   "source": [
    "### Variables Description\n",
    "\n",
    "- PlayerID: A numerical number range from 1 to 17, indicating a unique playerID for each player\n",
    "- SessionType: A categorical variable describing the training session types: Skills, Mobility/Recovery, Game, Conditioning, Strength, Combat, Speed\n",
    "- Duration: A float representing session length, ranging from 3.00 to 120.00\n",
    "- RPE: An integer representing rate of perceived exertion (0-10 scale)\n",
    "- SessionLoad: A float obtained by Duration * RPE\n",
    "- DailyLoad: A float that is the sum of SessionLoad for a given day\n",
    "- AcuteLoad: A float that is the average daily load over past 7 days\n",
    "- ChronicLoad: A float that is the average daily load over past 30 days\n",
    "- AcuteChronicRatio: A float that is calculated by AcuteLoad/ChronicLoad\n",
    "- Load_Status: A categorical variable, which is dependent on AcuteChronicRatio.If ratio>1.2, status is high. If ratio<0.8, status is recovering. In between it is normal\n",
    "- GameID: An integer representing a unique game ID, there are 38 games in total\n",
    "- game_date: A date that indicates the date of the game\n",
    "- train_date: A date that indicates the training date, which is one day ahead of game day\n",
    "- AccelImpulse: A float that is the max absolute value of change in speed divided by change in time\n",
    "- AccelLoad: A float that indicates the max load detected by the accelerometer\n",
    "- Speed: A float that is the max movement speed of the player, in meters per second\n",
    "- PerformanceScore: A measurement that is the weighted average of AccelImpulse, AccelLoad, and Speed. This measurement is considered as reponse variable in our model. It indicates how good the performance is for each player\n",
    "- Outcome: A binary categorical variable, W indicates win, and L indicates loss.\n",
    "- PointsDiff: An integer, which is the difference of scores. A positive difference indicates winning by how many points.\n",
    "- Pain: A binary categorical variable(Yes or No) indicates whether a player is in pain\n",
    "- llness: A categorical variable indicates whether a player is feeling ill, all possible values are  Yes, No, and Slightly Off\n",
    "- Menstruation: A binary categorical variable(Yes or No) indicates whether a player is currently menstruating. \n",
    "- Nutrition: A binary categorical variable(Excellent or Okay)\n",
    "- NutritionAdjustment: A binary categorical varibale indicates whether the player has made a nutrition adjustment that day\n",
    "- EWMScore: A float number that measures the exponential moving average of wellness score"
   ]
  },
  {
   "cell_type": "markdown",
   "metadata": {},
   "source": [
    "### Model Selection\n",
    "\n",
    "   The typical regression model assumes all rows should be independent. However, in our data set, we have multiple observations(rows) for each player. These rows are dependent. We should not use typical linear regression.\n",
    "   \n",
    "   Linear mixed models are an extension of simple linear models to allow both fixed and random effects, and are particularly used when there is non independence in the data, such as arises from a hierarchical structure.\n",
    "   \n",
    "   When there are multiple levels, such as performances on different date from same player, the variability in the outcome can be thought of as being either within group or between group. Performance level observations are not independent, as within a given player performance are more similar.\n",
    "   \n",
    "   The advantages of using mixed:\n",
    "   1. Keep as many rows of data as possible, instead of aggregating data by player. Although aggregate data analysis yields consistent and effect estimates and standard errors, it does not really take advantage of all the data, because player data are simply averaged.\n",
    "   \n",
    "   2. Even if we can run regression for each player, each model does not take advantage of the information in data from other players. This can cause some bias since we consider only for one specific player.\n",
    "   \n",
    "   3. It keeps the flexibility in treating time as continuous.\n",
    "   \n",
    "#### Linear Mixed Effects Model (LME)\n",
    "\n",
    "A typical regression model: \n",
    "\n",
    "       Y = Xβ + ε, where X is fixed effects, ε is random noise\n",
    "\n",
    "Linear Mixed Effects Model:\n",
    "\n",
    "        Y = Xβ + Zu + ε \n",
    "\n",
    "Where y is a N×1 column vector of the outcome variables,\n",
    "X is a N×p matrix of the p predictor variables,\n",
    "β is a p×1 column vector of the fixed-effects regression coefficients,\n",
    "Z is a N×q design matrix for random effects, \n",
    "u is a q×1 random complement to fixed β,\n",
    "ε is a N×1 column vector of the residuals\n",
    "\n",
    "#### Model Assumptions\n",
    "\n",
    "1. Performance variance should be homogeneous for all players\n",
    "2. Linearity(Residuals should be random)\n",
    "3. Normality(Residuals should form a normal distribution"
   ]
  },
  {
   "cell_type": "markdown",
   "metadata": {},
   "source": [
    "### Model Fitting"
   ]
  },
  {
   "cell_type": "markdown",
   "metadata": {},
   "source": [
    "Our goad is to predict a player's overall performace based on variables from wellness, rpe, gps data as described above. We would like to build a multiple linear mixed effects model on variables that are significantly impacting player's performance. In order to achieve this, we applied Backward Elimination. We will firstly build a full model based on all variables we have. Consider the feature with the highest P-Value. If its P-value is greater than significance level (We fix 0.1 as significance level), we will eliminate this variable and build a new model. Until every variable has p-value < 0.1, our model is ready.\n",
    "\n",
    "The reason for choosing Backward Elimination:\n",
    "1. Although backward elimination and forward elimination will give the same result, by using backward elimination, we can manually reduce our model step by step, instead of running a built-in function and only getting the final model\n",
    "2. By reducing on varibale at a time, we can also compare some other criteria to determine if the reduced model is as good as the previous model. For example, we can compare AIC, BIC, Likelihood, and Anova table.\n",
    "\n",
    "In linear mixed effects model, in order to measure how good the model is, a useful technique is called REML – residual maximum likelihood. We will use this criteria to determine whether the reduced model is as good as full model.\n",
    "\n",
    "Let's take a look at our full model"
   ]
  },
  {
   "cell_type": "code",
   "execution_count": 41,
   "metadata": {
    "hide_input": true
   },
   "outputs": [
    {
     "name": "stdout",
     "output_type": "stream",
     "text": [
      "                    Mixed Linear Model Regression Results\n",
      "=============================================================================\n",
      "Model:                 MixedLM      Dependent Variable:      PerformanceScore\n",
      "No. Observations:      562          Method:                  REML            \n",
      "No. Groups:            17           Scale:                   58.6021         \n",
      "Min. group size:       3            Likelihood:              -1956.4791      \n",
      "Max. group size:       80           Converged:               Yes             \n",
      "Mean group size:       33.1                                                  \n",
      "-----------------------------------------------------------------------------\n",
      "                                  Coef.  Std.Err.   z    P>|z|  [0.025 0.975]\n",
      "-----------------------------------------------------------------------------\n",
      "Intercept                         50.766    8.679  5.849 0.000  33.755 67.777\n",
      "SessionType[T.Game]               -0.501    2.385 -0.210 0.834  -5.175  4.173\n",
      "SessionType[T.Mobility/Recovery]   0.331    2.774  0.119 0.905  -5.106  5.769\n",
      "SessionType[T.Skills]              1.829    2.469  0.741 0.459  -3.010  6.668\n",
      "SessionType[T.Speed]               2.498    3.187  0.784 0.433  -3.748  8.744\n",
      "SessionType[T.Strength]            5.037    3.126  1.611 0.107  -1.090 11.163\n",
      "Load_Status[T.normal]             -6.476    2.475 -2.617 0.009 -11.327 -1.626\n",
      "Load_Status[T.recovering]         -4.472    3.045 -1.468 0.142 -10.440  1.497\n",
      "Outcome[T.W]                      -2.591    1.320 -1.963 0.050  -5.178 -0.004\n",
      "Pain[T.Yes]                        3.424    1.951  1.755 0.079  -0.399  7.248\n",
      "Illness[T.Slightly Off]            4.863    1.910  2.547 0.011   1.120  8.606\n",
      "Illness[T.Yes]                   -10.834    5.806 -1.866 0.062 -22.215  0.546\n",
      "Menstruation[T.Yes]               -0.170    1.288 -0.132 0.895  -2.695  2.355\n",
      "Nutrition[T.Okay]                  4.690    1.452  3.230 0.001   1.844  7.537\n",
      "NutritionAdjustment[T.No]          6.456    4.876  1.324 0.185  -3.100 16.013\n",
      "NutritionAdjustment[T.Yes]         8.217    3.508  2.342 0.019   1.341 15.092\n",
      "Duration                           0.026    0.042  0.626 0.531  -0.056  0.109\n",
      "RPE                                0.419    0.345  1.215 0.224  -0.257  1.095\n",
      "SessionLoad                       -0.014    0.007 -1.926 0.054  -0.028  0.000\n",
      "DailyLoad                          0.009    0.002  3.813 0.000   0.004  0.013\n",
      "AcuteLoad                         -0.034    0.016 -2.043 0.041  -0.066 -0.001\n",
      "ChronicLoad                        0.000    0.013  0.010 0.992  -0.025  0.026\n",
      "AcuteChronicRatio                  6.841    5.802  1.179 0.238  -4.532 18.213\n",
      "PointsDiff                         0.125    0.039  3.182 0.001   0.048  0.202\n",
      "EWMScore                          -0.412    0.244 -1.685 0.092  -0.891  0.067\n",
      "Group Var                         79.990    4.328                            \n",
      "=============================================================================\n",
      "\n"
     ]
    }
   ],
   "source": [
    "import statsmodels.api as sm\n",
    "\n",
    "import statsmodels.formula.api as smf\n",
    "\n",
    "full_md = smf.mixedlm(\"PerformanceScore  ~ SessionType +  Duration + RPE + SessionLoad + \\\n",
    "    DailyLoad + AcuteLoad + ChronicLoad + AcuteChronicRatio + Load_Status + \\\n",
    "        Outcome + PointsDiff + Pain + Illness + Menstruation + \\\n",
    "       Nutrition + NutritionAdjustment + EWMScore\", df,groups = df[\"PlayerID\"])\n",
    "                 \n",
    "mdf = full_md.fit()\n",
    "print(mdf.summary())"
   ]
  },
  {
   "cell_type": "markdown",
   "metadata": {},
   "source": [
    "As we can see, ChronicLoad has p-value 0.992, which is significantly larger than 0.1, we will drop it for next model. Keep in mind, the REML is about 58.6."
   ]
  },
  {
   "cell_type": "code",
   "execution_count": 42,
   "metadata": {
    "hide_input": true
   },
   "outputs": [
    {
     "name": "stdout",
     "output_type": "stream",
     "text": [
      "                    Mixed Linear Model Regression Results\n",
      "=============================================================================\n",
      "Model:                 MixedLM      Dependent Variable:      PerformanceScore\n",
      "No. Observations:      562          Method:                  REML            \n",
      "No. Groups:            17           Scale:                   58.4976         \n",
      "Min. group size:       3            Likelihood:              -1953.0431      \n",
      "Max. group size:       80           Converged:               Yes             \n",
      "Mean group size:       33.1                                                  \n",
      "-----------------------------------------------------------------------------\n",
      "                                  Coef.  Std.Err.   z    P>|z|  [0.025 0.975]\n",
      "-----------------------------------------------------------------------------\n",
      "Intercept                         50.784    8.618  5.893 0.000  33.893 67.674\n",
      "SessionType[T.Game]               -0.500    2.380 -0.210 0.834  -5.165  4.165\n",
      "SessionType[T.Mobility/Recovery]   0.334    2.765  0.121 0.904  -5.086  5.754\n",
      "SessionType[T.Skills]              1.832    2.462  0.744 0.457  -2.995  6.658\n",
      "SessionType[T.Speed]               2.501    3.169  0.789 0.430  -3.710  8.711\n",
      "SessionType[T.Strength]            5.038    3.119  1.615 0.106  -1.076 11.152\n",
      "Load_Status[T.normal]             -6.476    2.471 -2.621 0.009 -11.320 -1.633\n",
      "Load_Status[T.recovering]         -4.471    3.039 -1.471 0.141 -10.428  1.485\n",
      "Outcome[T.W]                      -2.591    1.318 -1.966 0.049  -5.174 -0.008\n",
      "Pain[T.Yes]                        3.424    1.942  1.763 0.078  -0.382  7.229\n",
      "Illness[T.Slightly Off]            4.862    1.892  2.570 0.010   1.154  8.569\n",
      "Illness[T.Yes]                   -10.838    5.797 -1.870 0.062 -22.200  0.524\n",
      "Menstruation[T.Yes]               -0.169    1.286 -0.132 0.895  -2.690  2.351\n",
      "Nutrition[T.Okay]                  4.690    1.449  3.237 0.001   1.850  7.529\n",
      "NutritionAdjustment[T.No]          6.454    4.870  1.325 0.185  -3.090 15.999\n",
      "NutritionAdjustment[T.Yes]         8.216    3.504  2.345 0.019   1.348 15.084\n",
      "Duration                           0.026    0.042  0.629 0.529  -0.056  0.108\n",
      "RPE                                0.419    0.344  1.218 0.223  -0.256  1.094\n",
      "SessionLoad                       -0.014    0.007 -1.928 0.054  -0.028  0.000\n",
      "DailyLoad                          0.009    0.002  3.820 0.000   0.004  0.013\n",
      "AcuteLoad                         -0.034    0.008 -4.386 0.000  -0.049 -0.019\n",
      "AcuteChronicRatio                  6.795    3.263  2.082 0.037   0.399 13.190\n",
      "PointsDiff                         0.125    0.039  3.186 0.001   0.048  0.202\n",
      "EWMScore                          -0.411    0.223 -1.844 0.065  -0.848  0.026\n",
      "Group Var                         79.628    4.269                            \n",
      "=============================================================================\n",
      "\n"
     ]
    }
   ],
   "source": [
    "md1 = smf.mixedlm(\"PerformanceScore  ~ SessionType +  Duration + RPE + SessionLoad + \\\n",
    "    DailyLoad + AcuteLoad +  AcuteChronicRatio + Load_Status + \\\n",
    "        Outcome + PointsDiff + Pain + Illness + Menstruation + \\\n",
    "       Nutrition + NutritionAdjustment + EWMScore\", df,groups = df[\"PlayerID\"])\n",
    "                 \n",
    "mdf = md1.fit()\n",
    "print(mdf.summary())"
   ]
  },
  {
   "cell_type": "markdown",
   "metadata": {},
   "source": [
    "As we can see, SessionType[T.Mobility/Recovery] has p-value 0.904, which is significantly larger than 0.1. Also, for the rest levels of this categorical variable, all p-value are greater than 0.1, we will drop it for next model. The REML is about 58.5."
   ]
  },
  {
   "cell_type": "code",
   "execution_count": 43,
   "metadata": {
    "hide_input": true
   },
   "outputs": [
    {
     "name": "stdout",
     "output_type": "stream",
     "text": [
      "                 Mixed Linear Model Regression Results\n",
      "=======================================================================\n",
      "Model:               MixedLM    Dependent Variable:    PerformanceScore\n",
      "No. Observations:    562        Method:                REML            \n",
      "No. Groups:          17         Scale:                 58.6317         \n",
      "Min. group size:     3          Likelihood:            -1963.8942      \n",
      "Max. group size:     80         Converged:             Yes             \n",
      "Mean group size:     33.1                                              \n",
      "-----------------------------------------------------------------------\n",
      "                            Coef.  Std.Err.   z    P>|z|  [0.025 0.975]\n",
      "-----------------------------------------------------------------------\n",
      "Intercept                   52.713    8.434  6.250 0.000  36.182 69.244\n",
      "Load_Status[T.normal]       -6.701    2.449 -2.737 0.006 -11.500 -1.902\n",
      "Load_Status[T.recovering]   -4.881    2.982 -1.637 0.102 -10.726  0.963\n",
      "Outcome[T.W]                -2.659    1.315 -2.022 0.043  -5.236 -0.082\n",
      "Pain[T.Yes]                  3.811    1.871  2.037 0.042   0.144  7.478\n",
      "Illness[T.Slightly Off]      5.203    1.886  2.759 0.006   1.507  8.900\n",
      "Illness[T.Yes]             -10.215    5.790 -1.764 0.078 -21.564  1.134\n",
      "Menstruation[T.Yes]         -0.157    1.284 -0.122 0.903  -2.673  2.359\n",
      "Nutrition[T.Okay]            5.078    1.417  3.584 0.000   2.301  7.855\n",
      "NutritionAdjustment[T.No]    6.560    4.851  1.352 0.176  -2.948 16.068\n",
      "NutritionAdjustment[T.Yes]   8.765    3.495  2.508 0.012   1.914 15.615\n",
      "Duration                     0.058    0.037  1.544 0.123  -0.016  0.131\n",
      "RPE                          0.328    0.255  1.288 0.198  -0.171  0.828\n",
      "SessionLoad                 -0.014    0.007 -1.908 0.056  -0.028  0.000\n",
      "DailyLoad                    0.008    0.002  3.532 0.000   0.003  0.012\n",
      "AcuteLoad                   -0.031    0.007 -4.137 0.000  -0.046 -0.016\n",
      "AcuteChronicRatio            5.729    3.176  1.803 0.071  -0.497 11.954\n",
      "PointsDiff                   0.126    0.039  3.219 0.001   0.049  0.203\n",
      "EWMScore                    -0.471    0.219 -2.151 0.031  -0.901 -0.042\n",
      "Group Var                   77.071    4.148                            \n",
      "=======================================================================\n",
      "\n"
     ]
    }
   ],
   "source": [
    "md2 = smf.mixedlm(\"PerformanceScore  ~  Duration + RPE + SessionLoad + \\\n",
    "    DailyLoad + AcuteLoad +  AcuteChronicRatio + Load_Status + \\\n",
    "        Outcome + PointsDiff + Pain + Illness + Menstruation + \\\n",
    "       Nutrition + NutritionAdjustment + EWMScore\", df,groups = df[\"PlayerID\"])\n",
    "                 \n",
    "mdf = md2.fit()\n",
    "print(mdf.summary())"
   ]
  },
  {
   "cell_type": "markdown",
   "metadata": {},
   "source": [
    "As we can see, Menstruation has p-value 0.903, which is significantly larger than 0.1, we will drop it for next model. The REML is about 58.6."
   ]
  },
  {
   "cell_type": "code",
   "execution_count": 44,
   "metadata": {
    "hide_input": true
   },
   "outputs": [
    {
     "name": "stdout",
     "output_type": "stream",
     "text": [
      "                 Mixed Linear Model Regression Results\n",
      "=======================================================================\n",
      "Model:               MixedLM    Dependent Variable:    PerformanceScore\n",
      "No. Observations:    562        Method:                REML            \n",
      "No. Groups:          17         Scale:                 58.5248         \n",
      "Min. group size:     3          Likelihood:            -1965.0699      \n",
      "Max. group size:     80         Converged:             Yes             \n",
      "Mean group size:     33.1                                              \n",
      "-----------------------------------------------------------------------\n",
      "                            Coef.  Std.Err.   z    P>|z|  [0.025 0.975]\n",
      "-----------------------------------------------------------------------\n",
      "Intercept                   52.513    8.271  6.349 0.000  36.301 68.724\n",
      "Load_Status[T.normal]       -6.693    2.445 -2.737 0.006 -11.486 -1.900\n",
      "Load_Status[T.recovering]   -4.864    2.976 -1.635 0.102 -10.696  0.968\n",
      "Outcome[T.W]                -2.674    1.308 -2.045 0.041  -5.237 -0.111\n",
      "Pain[T.Yes]                  3.800    1.867  2.035 0.042   0.140  7.459\n",
      "Illness[T.Slightly Off]      5.272    1.798  2.933 0.003   1.749  8.796\n",
      "Illness[T.Yes]             -10.191    5.782 -1.763 0.078 -21.524  1.141\n",
      "Nutrition[T.Okay]            5.061    1.409  3.593 0.000   2.300  7.822\n",
      "NutritionAdjustment[T.No]    6.614    4.827  1.370 0.171  -2.846 16.075\n",
      "NutritionAdjustment[T.Yes]   8.793    3.485  2.524 0.012   1.964 15.623\n",
      "Duration                     0.058    0.037  1.548 0.122  -0.015  0.131\n",
      "RPE                          0.330    0.254  1.297 0.195  -0.169  0.829\n",
      "SessionLoad                 -0.014    0.007 -1.913 0.056  -0.028  0.000\n",
      "DailyLoad                    0.008    0.002  3.539 0.000   0.003  0.012\n",
      "AcuteLoad                   -0.031    0.007 -4.234 0.000  -0.045 -0.016\n",
      "AcuteChronicRatio            5.686    3.154  1.803 0.071  -0.497 11.868\n",
      "PointsDiff                   0.127    0.039  3.258 0.001   0.051  0.203\n",
      "EWMScore                    -0.467    0.216 -2.161 0.031  -0.891 -0.043\n",
      "Group Var                   76.964    4.146                            \n",
      "=======================================================================\n",
      "\n"
     ]
    }
   ],
   "source": [
    "md3 = smf.mixedlm(\"PerformanceScore  ~  Duration + RPE + SessionLoad + \\\n",
    "    DailyLoad + AcuteLoad +  AcuteChronicRatio + Load_Status + \\\n",
    "        Outcome + PointsDiff + Pain + Illness +\\\n",
    "       Nutrition + NutritionAdjustment + EWMScore\", df,groups = df[\"PlayerID\"])\n",
    "                 \n",
    "mdf = md3.fit()\n",
    "print(mdf.summary())"
   ]
  },
  {
   "cell_type": "markdown",
   "metadata": {},
   "source": [
    "Again, even if we have insigificant p-value for some levels in a categrical variable, we still need to keep it if there exist at least some significant levels. In this round, RPE will be gone. \n",
    "REML is about 58.5.\n"
   ]
  },
  {
   "cell_type": "code",
   "execution_count": 45,
   "metadata": {
    "hide_input": true
   },
   "outputs": [
    {
     "name": "stdout",
     "output_type": "stream",
     "text": [
      "                 Mixed Linear Model Regression Results\n",
      "=======================================================================\n",
      "Model:               MixedLM    Dependent Variable:    PerformanceScore\n",
      "No. Observations:    562        Method:                REML            \n",
      "No. Groups:          17         Scale:                 58.6464         \n",
      "Min. group size:     3          Likelihood:            -1965.4590      \n",
      "Max. group size:     80         Converged:             Yes             \n",
      "Mean group size:     33.1                                              \n",
      "-----------------------------------------------------------------------\n",
      "                            Coef.  Std.Err.   z    P>|z|  [0.025 0.975]\n",
      "-----------------------------------------------------------------------\n",
      "Intercept                   53.926    8.193  6.582 0.000  37.869 69.983\n",
      "Load_Status[T.normal]       -6.552    2.445 -2.680 0.007 -11.344 -1.760\n",
      "Load_Status[T.recovering]   -4.635    2.973 -1.559 0.119 -10.461  1.191\n",
      "Outcome[T.W]                -2.662    1.309 -2.034 0.042  -5.228 -0.097\n",
      "Pain[T.Yes]                  3.725    1.868  1.994 0.046   0.063  7.386\n",
      "Illness[T.Slightly Off]      5.373    1.798  2.989 0.003   1.850  8.896\n",
      "Illness[T.Yes]             -10.085    5.787 -1.743 0.081 -21.427  1.257\n",
      "Nutrition[T.Okay]            4.882    1.401  3.483 0.000   2.135  7.629\n",
      "NutritionAdjustment[T.No]    6.457    4.825  1.338 0.181  -2.999 15.914\n",
      "NutritionAdjustment[T.Yes]   8.640    3.486  2.479 0.013   1.808 15.471\n",
      "Duration                     0.023    0.026  0.880 0.379  -0.028  0.073\n",
      "SessionLoad                 -0.006    0.004 -1.464 0.143  -0.014  0.002\n",
      "DailyLoad                    0.007    0.002  3.342 0.001   0.003  0.011\n",
      "AcuteLoad                   -0.029    0.007 -4.046 0.000  -0.043 -0.015\n",
      "AcuteChronicRatio            5.601    3.157  1.774 0.076  -0.586 11.787\n",
      "PointsDiff                   0.127    0.039  3.262 0.001   0.051  0.204\n",
      "EWMScore                    -0.466    0.216 -2.154 0.031  -0.889 -0.042\n",
      "Group Var                   74.825    4.029                            \n",
      "=======================================================================\n",
      "\n"
     ]
    }
   ],
   "source": [
    "md4 = smf.mixedlm(\"PerformanceScore  ~  Duration +  SessionLoad + DailyLoad + AcuteLoad +  \\\n",
    "AcuteChronicRatio + Load_Status + Outcome + PointsDiff + Pain + Illness +\\\n",
    "       Nutrition + NutritionAdjustment + EWMScore\", df,groups = df[\"PlayerID\"])\n",
    "                 \n",
    "mdf = md4.fit()\n",
    "print(mdf.summary())"
   ]
  },
  {
   "cell_type": "markdown",
   "metadata": {},
   "source": [
    "As we can see, SessionLoad has p-value 0.143, which is significantly larger than 0.05, we will drop it for next model. Keep in mind, the REML is about 58.6."
   ]
  },
  {
   "cell_type": "code",
   "execution_count": 46,
   "metadata": {
    "hide_input": true
   },
   "outputs": [
    {
     "name": "stdout",
     "output_type": "stream",
     "text": [
      "                Mixed Linear Model Regression Results\n",
      "======================================================================\n",
      "Model:                MixedLM   Dependent Variable:   PerformanceScore\n",
      "No. Observations:     562       Method:               REML            \n",
      "No. Groups:           17        Scale:                58.7834         \n",
      "Min. group size:      3         Likelihood:           -1961.9832      \n",
      "Max. group size:      80        Converged:            Yes             \n",
      "Mean group size:      33.1                                            \n",
      "----------------------------------------------------------------------\n",
      "                           Coef.  Std.Err.   z    P>|z|  [0.025 0.975]\n",
      "----------------------------------------------------------------------\n",
      "Intercept                  55.121    8.159  6.756 0.000  39.131 71.112\n",
      "Load_Status[T.normal]      -6.722    2.445 -2.750 0.006 -11.514 -1.931\n",
      "Load_Status[T.recovering]  -4.914    2.970 -1.655 0.098 -10.735  0.907\n",
      "Outcome[T.W]               -2.606    1.310 -1.989 0.047  -5.174 -0.038\n",
      "Pain[T.Yes]                 3.795    1.870  2.030 0.042   0.130  7.459\n",
      "Illness[T.Slightly Off]     5.443    1.799  3.026 0.002   1.918  8.969\n",
      "Illness[T.Yes]             -9.985    5.793 -1.724 0.085 -21.340  1.369\n",
      "Nutrition[T.Okay]           4.863    1.403  3.465 0.001   2.112  7.613\n",
      "NutritionAdjustment[T.No]   5.874    4.812  1.221 0.222  -3.557 15.304\n",
      "NutritionAdjustment[T.Yes]  8.402    3.486  2.410 0.016   1.570 15.234\n",
      "Duration                   -0.009    0.014 -0.615 0.539  -0.036  0.019\n",
      "DailyLoad                   0.006    0.002  3.082 0.002   0.002  0.010\n",
      "AcuteLoad                  -0.028    0.007 -3.928 0.000  -0.042 -0.014\n",
      "AcuteChronicRatio           5.258    3.151  1.668 0.095  -0.919 11.435\n",
      "PointsDiff                  0.127    0.039  3.248 0.001   0.050  0.203\n",
      "EWMScore                   -0.475    0.216 -2.197 0.028  -0.899 -0.051\n",
      "Group Var                  74.336    4.010                            \n",
      "======================================================================\n",
      "\n"
     ]
    }
   ],
   "source": [
    "md5 = smf.mixedlm(\"PerformanceScore  ~  Duration +  DailyLoad + AcuteLoad +  \\\n",
    "AcuteChronicRatio + Load_Status + Outcome + PointsDiff + Pain + Illness +\\\n",
    "       Nutrition + NutritionAdjustment + EWMScore\", df,groups = df[\"PlayerID\"])\n",
    "                 \n",
    "mdf = md5.fit()\n",
    "print(mdf.summary())"
   ]
  },
  {
   "cell_type": "markdown",
   "metadata": {},
   "source": [
    "As we can see, Duration has p-value 0.5393, which is significantly larger than 0.05, we will drop it for next model. Keep in mind, the REML is about 58.8."
   ]
  },
  {
   "cell_type": "code",
   "execution_count": 47,
   "metadata": {
    "hide_input": true
   },
   "outputs": [
    {
     "name": "stdout",
     "output_type": "stream",
     "text": [
      "                 Mixed Linear Model Regression Results\n",
      "=======================================================================\n",
      "Model:               MixedLM    Dependent Variable:    PerformanceScore\n",
      "No. Observations:    562        Method:                REML            \n",
      "No. Groups:          17         Scale:                 58.7169         \n",
      "Min. group size:     3          Likelihood:            -1958.8323      \n",
      "Max. group size:     80         Converged:             Yes             \n",
      "Mean group size:     33.1                                              \n",
      "-----------------------------------------------------------------------\n",
      "                            Coef.  Std.Err.   z    P>|z|  [0.025 0.975]\n",
      "-----------------------------------------------------------------------\n",
      "Intercept                   54.331    8.054  6.746 0.000  38.546 70.116\n",
      "Load_Status[T.normal]       -6.640    2.440 -2.722 0.006 -11.422 -1.859\n",
      "Load_Status[T.recovering]   -4.826    2.965 -1.628 0.104 -10.636  0.984\n",
      "Outcome[T.W]                -2.610    1.309 -1.994 0.046  -5.176 -0.044\n",
      "Pain[T.Yes]                  3.772    1.868  2.019 0.044   0.110  7.434\n",
      "Illness[T.Slightly Off]      5.420    1.797  3.016 0.003   1.898  8.943\n",
      "Illness[T.Yes]             -10.046    5.789 -1.735 0.083 -21.392  1.301\n",
      "Nutrition[T.Okay]            4.800    1.398  3.433 0.001   2.060  7.541\n",
      "NutritionAdjustment[T.No]    5.764    4.806  1.199 0.230  -3.655 15.183\n",
      "NutritionAdjustment[T.Yes]   8.274    3.478  2.379 0.017   1.458 15.090\n",
      "DailyLoad                    0.006    0.002  3.060 0.002   0.002  0.010\n",
      "AcuteLoad                   -0.028    0.007 -3.953 0.000  -0.042 -0.014\n",
      "AcuteChronicRatio            5.410    3.140  1.723 0.085  -0.743 11.564\n",
      "PointsDiff                   0.125    0.039  3.211 0.001   0.049  0.201\n",
      "EWMScore                    -0.459    0.215 -2.139 0.032  -0.880 -0.039\n",
      "Group Var                   74.236    4.005                            \n",
      "=======================================================================\n",
      "\n"
     ]
    }
   ],
   "source": [
    "md6 = smf.mixedlm(\"PerformanceScore  ~ DailyLoad + AcuteLoad +  \\\n",
    "AcuteChronicRatio + Load_Status + Outcome + PointsDiff + Pain + Illness +\\\n",
    "       Nutrition + NutritionAdjustment + EWMScore\", df,groups = df[\"PlayerID\"])\n",
    "                 \n",
    "mdf = md6.fit()\n",
    "print(mdf.summary())"
   ]
  },
  {
   "cell_type": "code",
   "execution_count": 48,
   "metadata": {
    "hide_input": true
   },
   "outputs": [
    {
     "name": "stdout",
     "output_type": "stream",
     "text": [
      "                Mixed Linear Model Regression Results\n",
      "======================================================================\n",
      "Model:                MixedLM   Dependent Variable:   PerformanceScore\n",
      "No. Observations:     562       Method:               REML            \n",
      "No. Groups:           17        Scale:                58.9085         \n",
      "Min. group size:      3         Likelihood:           -1962.3783      \n",
      "Max. group size:      80        Converged:            Yes             \n",
      "Mean group size:      33.1                                            \n",
      "----------------------------------------------------------------------\n",
      "                           Coef.  Std.Err.   z    P>|z|  [0.025 0.975]\n",
      "----------------------------------------------------------------------\n",
      "Intercept                  58.509    7.704  7.594 0.000  43.409 73.609\n",
      "Load_Status[T.normal]      -8.456    2.204 -3.836 0.000 -12.776 -4.136\n",
      "Load_Status[T.recovering]  -8.037    2.309 -3.481 0.000 -12.563 -3.512\n",
      "Outcome[T.W]               -2.655    1.311 -2.025 0.043  -5.225 -0.086\n",
      "Pain[T.Yes]                 3.473    1.864  1.864 0.062  -0.179  7.126\n",
      "Illness[T.Slightly Off]     5.687    1.794  3.170 0.002   2.171  9.203\n",
      "Illness[T.Yes]             -9.025    5.768 -1.565 0.118 -20.331  2.281\n",
      "Nutrition[T.Okay]           4.851    1.401  3.461 0.001   2.104  7.597\n",
      "NutritionAdjustment[T.No]   5.207    4.804  1.084 0.278  -4.210 14.623\n",
      "NutritionAdjustment[T.Yes]  8.095    3.482  2.325 0.020   1.270 14.919\n",
      "DailyLoad                   0.006    0.002  2.852 0.004   0.002  0.010\n",
      "AcuteLoad                  -0.022    0.006 -3.566 0.000  -0.034 -0.010\n",
      "PointsDiff                  0.121    0.039  3.117 0.002   0.045  0.198\n",
      "EWMScore                   -0.412    0.213 -1.929 0.054  -0.830  0.007\n",
      "Group Var                  75.393    4.051                            \n",
      "======================================================================\n",
      "\n"
     ]
    }
   ],
   "source": [
    "md7 = smf.mixedlm(\"PerformanceScore  ~ DailyLoad + AcuteLoad +  Load_Status + Outcome + PointsDiff + \\\n",
    "Pain + Illness + Nutrition + NutritionAdjustment + EWMScore\", df,groups = df[\"PlayerID\"])\n",
    "                 \n",
    "mdf = md7.fit()\n",
    "print(mdf.summary())"
   ]
  },
  {
   "cell_type": "markdown",
   "metadata": {},
   "source": [
    "Up untill this model, our REML climb up to 58.9, and all variables or at least one level of categorical varibale have p-value <0.1, we confirm this is our final model.\n",
    "\n",
    "Some Intepretations: \n",
    "1. The coefficients for two levels of Load_Status are about -8. The baseline level is high, so we can conclude if a player did a high load training before the game, their performance score is about 8 higher than normal traing or recovering.\n",
    "\n",
    "2. The coefficients for two levels of Illness are about 5.6 and -9. The baseline level is No, so we can conclude if a player is ill, her performance score is lower by 9. It is noticable that if the player felt sightly off, her performance score is actually 5.67 higher.\n",
    "\n",
    "3. EWMScore has coefficient -0.412, which indicates a negative relationship between performace and EWM score. This makes sense, since a high EWMScore means less soreness, fatigue. This indicates their training load is not high. Thus, it is consistent with first intepretation."
   ]
  },
  {
   "cell_type": "code",
   "execution_count": null,
   "metadata": {},
   "outputs": [],
   "source": []
  }
 ],
 "metadata": {
  "kernelspec": {
   "display_name": "Python 3",
   "language": "python",
   "name": "python3"
  },
  "language_info": {
   "codemirror_mode": {
    "name": "ipython",
    "version": 3
   },
   "file_extension": ".py",
   "mimetype": "text/x-python",
   "name": "python",
   "nbconvert_exporter": "python",
   "pygments_lexer": "ipython3",
   "version": "3.7.3"
  }
 },
 "nbformat": 4,
 "nbformat_minor": 2
}
