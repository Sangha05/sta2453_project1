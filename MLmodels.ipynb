{
 "cells": [
  {
   "cell_type": "code",
   "execution_count": 1,
   "metadata": {},
   "outputs": [
    {
     "name": "stdout",
     "output_type": "stream",
     "text": [
      "<class 'pandas.core.frame.DataFrame'>\n",
      "RangeIndex: 5011 entries, 0 to 5010\n",
      "Data columns (total 10 columns):\n",
      "Date                5011 non-null object\n",
      "PlayerID            5011 non-null int64\n",
      "MonitoringScore     5011 non-null int64\n",
      "Energy              5011 non-null float64\n",
      "Nourishment         5011 non-null float64\n",
      "Discomfort          5011 non-null float64\n",
      "Determination       5011 non-null float64\n",
      "Training_load_f1    5011 non-null float64\n",
      "Training_load_f2    5011 non-null float64\n",
      "Performance         5011 non-null float64\n",
      "dtypes: float64(7), int64(2), object(1)\n",
      "memory usage: 391.6+ KB\n"
     ]
    }
   ],
   "source": [
    "import numpy as np\n",
    "import pandas as pd\n",
    "import matplotlib.pyplot as plt\n",
    "import xgboost as xgb\n",
    "from sklearn.metrics import mean_squared_error\n",
    "from sklearn.model_selection import train_test_split\n",
    "from tpot import TPOTRegressor\n",
    "\n",
    "df = pd.read_csv('WellnessMeasure.csv')\n",
    "df[\"Training_load_f1\"] = np.random.normal(5,2,5011) + np.random.uniform(0,1,5011)\n",
    "df[\"Training_load_f2\"] = np.random.normal(5,1,5011)\n",
    "df[\"Performance\"] = np.random.normal(2,0.5,5011)\n",
    "df.info()"
   ]
  },
  {
   "cell_type": "code",
   "execution_count": 2,
   "metadata": {},
   "outputs": [
    {
     "data": {
      "text/html": [
       "<div>\n",
       "<style scoped>\n",
       "    .dataframe tbody tr th:only-of-type {\n",
       "        vertical-align: middle;\n",
       "    }\n",
       "\n",
       "    .dataframe tbody tr th {\n",
       "        vertical-align: top;\n",
       "    }\n",
       "\n",
       "    .dataframe thead th {\n",
       "        text-align: right;\n",
       "    }\n",
       "</style>\n",
       "<table border=\"1\" class=\"dataframe\">\n",
       "  <thead>\n",
       "    <tr style=\"text-align: right;\">\n",
       "      <th></th>\n",
       "      <th>Determination</th>\n",
       "      <th>Discomfort</th>\n",
       "      <th>Energy</th>\n",
       "      <th>MonitoringScore</th>\n",
       "      <th>Nourishment</th>\n",
       "      <th>Training_load_f1</th>\n",
       "      <th>Training_load_f2</th>\n",
       "    </tr>\n",
       "  </thead>\n",
       "  <tbody>\n",
       "    <tr>\n",
       "      <td>0</td>\n",
       "      <td>5.102797</td>\n",
       "      <td>1.985388</td>\n",
       "      <td>9.559896</td>\n",
       "      <td>13</td>\n",
       "      <td>3.501880</td>\n",
       "      <td>1.650210</td>\n",
       "      <td>3.807354</td>\n",
       "    </tr>\n",
       "    <tr>\n",
       "      <td>1</td>\n",
       "      <td>7.796001</td>\n",
       "      <td>1.142109</td>\n",
       "      <td>12.702699</td>\n",
       "      <td>19</td>\n",
       "      <td>3.698991</td>\n",
       "      <td>4.122889</td>\n",
       "      <td>5.719969</td>\n",
       "    </tr>\n",
       "    <tr>\n",
       "      <td>2</td>\n",
       "      <td>10.350426</td>\n",
       "      <td>2.500879</td>\n",
       "      <td>11.972553</td>\n",
       "      <td>19</td>\n",
       "      <td>4.232901</td>\n",
       "      <td>5.918594</td>\n",
       "      <td>6.314797</td>\n",
       "    </tr>\n",
       "    <tr>\n",
       "      <td>3</td>\n",
       "      <td>9.512673</td>\n",
       "      <td>2.167529</td>\n",
       "      <td>8.645920</td>\n",
       "      <td>15</td>\n",
       "      <td>3.802447</td>\n",
       "      <td>2.211795</td>\n",
       "      <td>6.939862</td>\n",
       "    </tr>\n",
       "    <tr>\n",
       "      <td>4</td>\n",
       "      <td>10.583512</td>\n",
       "      <td>2.508064</td>\n",
       "      <td>12.738104</td>\n",
       "      <td>20</td>\n",
       "      <td>3.489422</td>\n",
       "      <td>4.974455</td>\n",
       "      <td>5.990129</td>\n",
       "    </tr>\n",
       "  </tbody>\n",
       "</table>\n",
       "</div>"
      ],
      "text/plain": [
       "   Determination  Discomfort     Energy  MonitoringScore  Nourishment  \\\n",
       "0       5.102797    1.985388   9.559896               13     3.501880   \n",
       "1       7.796001    1.142109  12.702699               19     3.698991   \n",
       "2      10.350426    2.500879  11.972553               19     4.232901   \n",
       "3       9.512673    2.167529   8.645920               15     3.802447   \n",
       "4      10.583512    2.508064  12.738104               20     3.489422   \n",
       "\n",
       "   Training_load_f1  Training_load_f2  \n",
       "0          1.650210          3.807354  \n",
       "1          4.122889          5.719969  \n",
       "2          5.918594          6.314797  \n",
       "3          2.211795          6.939862  \n",
       "4          4.974455          5.990129  "
      ]
     },
     "execution_count": 2,
     "metadata": {},
     "output_type": "execute_result"
    }
   ],
   "source": [
    "df = df[df.columns.difference([\"Date\",\"PlayerID\"])]\n",
    "y = df[\"Performance\"]\n",
    "X = df[df.columns.difference([\"Performance\"])]\n",
    "X.head()"
   ]
  },
  {
   "cell_type": "markdown",
   "metadata": {},
   "source": [
    "## XGBoost"
   ]
  },
  {
   "cell_type": "code",
   "execution_count": 12,
   "metadata": {},
   "outputs": [
    {
     "name": "stdout",
     "output_type": "stream",
     "text": [
      "RMSE: 0.733186\n"
     ]
    },
    {
     "name": "stderr",
     "output_type": "stream",
     "text": [
      "C:\\Users\\sangh\\Miniconda3\\lib\\site-packages\\xgboost\\core.py:587: FutureWarning: Series.base is deprecated and will be removed in a future version\n",
      "  if getattr(data, 'base', None) is not None and \\\n",
      "C:\\Users\\sangh\\Miniconda3\\lib\\site-packages\\xgboost\\core.py:588: FutureWarning: Series.base is deprecated and will be removed in a future version\n",
      "  data.base is not None and isinstance(data, np.ndarray) \\\n"
     ]
    }
   ],
   "source": [
    "data_dmatrix = xgb.DMatrix(data=X,label=y)\n",
    "X_train, X_test, y_train, y_test = train_test_split(X, y, test_size=0.3, random_state=511)\n",
    "\n",
    "xg_reg = xgb.XGBRegressor(objective ='reg:squarederror', colsample_bytree = 0.4, learning_rate = 0.1, subsample = 0.75, \\\n",
    "                          max_depth = 5, alpha = 10, n_estimators = 10)\n",
    "\n",
    "xg_reg.fit(X_train,y_train)\n",
    "\n",
    "preds = xg_reg.predict(X_test)\n",
    "\n",
    "rmse = np.sqrt(mean_squared_error(y_test, preds))\n",
    "print(\"RMSE: %f\" % (rmse))"
   ]
  },
  {
   "cell_type": "code",
   "execution_count": 13,
   "metadata": {},
   "outputs": [
    {
     "data": {
      "image/png": "[encoded data removed]",
      "text/plain": [
       "<Figure size 792x360 with 1 Axes>"
      ]
     },
     "metadata": {
      "needs_background": "light"
     },
     "output_type": "display_data"
    }
   ],
   "source": [
    "xgb.plot_importance(xg_reg)\n",
    "plt.rcParams['figure.figsize'] = [11, 5]\n",
    "plt.show()"
   ]
  },
  {
   "cell_type": "code",
   "execution_count": null,
   "metadata": {},
   "outputs": [],
   "source": []
  }
 ],
 "metadata": {
  "kernelspec": {
   "display_name": "Python 3",
   "language": "python",
   "name": "python3"
  },
  "language_info": {
   "codemirror_mode": {
    "name": "ipython",
    "version": 3
   },
   "file_extension": ".py",
   "mimetype": "text/x-python",
   "name": "python",
   "nbconvert_exporter": "python",
   "pygments_lexer": "ipython3",
   "version": "3.7.3"
  }
 },
 "nbformat": 4,
 "nbformat_minor": 2
}
