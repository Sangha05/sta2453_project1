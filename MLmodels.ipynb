{
 "cells": [
  {
   "cell_type": "code",
   "execution_count": 14,
   "metadata": {},
   "outputs": [
    {
     "name": "stdout",
     "output_type": "stream",
     "text": [
      "<class 'pandas.core.frame.DataFrame'>\n",
      "RangeIndex: 5011 entries, 0 to 5010\n",
      "Data columns (total 10 columns):\n",
      "Date                5011 non-null object\n",
      "PlayerID            5011 non-null int64\n",
      "MonitoringScore     5011 non-null int64\n",
      "Energy              5011 non-null float64\n",
      "Nourishment         5011 non-null float64\n",
      "Discomfort          5011 non-null float64\n",
      "Determination       5011 non-null float64\n",
      "Training_load_f1    5011 non-null float64\n",
      "Training_load_f2    5011 non-null float64\n",
      "Performance         5011 non-null float64\n",
      "dtypes: float64(7), int64(2), object(1)\n",
      "memory usage: 391.6+ KB\n"
     ]
    }
   ],
   "source": [
    "import numpy as np\n",
    "import pandas as pd\n",
    "import matplotlib.pyplot as plt\n",
    "import xgboost as xgb\n",
    "from sklearn.metrics import mean_squared_error\n",
    "from sklearn.model_selection import train_test_split\n",
    "from tpot import TPOTRegressor\n",
    "\n",
    "df = pd.read_csv('WellnessMeasure.csv')\n",
    "df[\"Training_load_f1\"] = np.random.normal(5,2,5011) + np.random.uniform(0,1,5011)\n",
    "df[\"Training_load_f2\"] = np.random.normal(5,1,5011)\n",
    "df[\"Performance\"] = np.random.normal(2,0.5,5011)\n",
    "df.info()"
   ]
  },
  {
   "cell_type": "code",
   "execution_count": 15,
   "metadata": {},
   "outputs": [
    {
     "data": {
      "text/html": [
       "<div>\n",
       "<style scoped>\n",
       "    .dataframe tbody tr th:only-of-type {\n",
       "        vertical-align: middle;\n",
       "    }\n",
       "\n",
       "    .dataframe tbody tr th {\n",
       "        vertical-align: top;\n",
       "    }\n",
       "\n",
       "    .dataframe thead th {\n",
       "        text-align: right;\n",
       "    }\n",
       "</style>\n",
       "<table border=\"1\" class=\"dataframe\">\n",
       "  <thead>\n",
       "    <tr style=\"text-align: right;\">\n",
       "      <th></th>\n",
       "      <th>Determination</th>\n",
       "      <th>Discomfort</th>\n",
       "      <th>Energy</th>\n",
       "      <th>MonitoringScore</th>\n",
       "      <th>Nourishment</th>\n",
       "      <th>Training_load_f1</th>\n",
       "      <th>Training_load_f2</th>\n",
       "    </tr>\n",
       "  </thead>\n",
       "  <tbody>\n",
       "    <tr>\n",
       "      <td>0</td>\n",
       "      <td>5.102797</td>\n",
       "      <td>1.985388</td>\n",
       "      <td>9.559896</td>\n",
       "      <td>13</td>\n",
       "      <td>3.501880</td>\n",
       "      <td>6.862328</td>\n",
       "      <td>4.769693</td>\n",
       "    </tr>\n",
       "    <tr>\n",
       "      <td>1</td>\n",
       "      <td>7.796001</td>\n",
       "      <td>1.142109</td>\n",
       "      <td>12.702699</td>\n",
       "      <td>19</td>\n",
       "      <td>3.698991</td>\n",
       "      <td>10.469057</td>\n",
       "      <td>4.332932</td>\n",
       "    </tr>\n",
       "    <tr>\n",
       "      <td>2</td>\n",
       "      <td>10.350426</td>\n",
       "      <td>2.500879</td>\n",
       "      <td>11.972553</td>\n",
       "      <td>19</td>\n",
       "      <td>4.232901</td>\n",
       "      <td>2.734421</td>\n",
       "      <td>4.234884</td>\n",
       "    </tr>\n",
       "    <tr>\n",
       "      <td>3</td>\n",
       "      <td>9.512673</td>\n",
       "      <td>2.167529</td>\n",
       "      <td>8.645920</td>\n",
       "      <td>15</td>\n",
       "      <td>3.802447</td>\n",
       "      <td>3.775594</td>\n",
       "      <td>4.057900</td>\n",
       "    </tr>\n",
       "    <tr>\n",
       "      <td>4</td>\n",
       "      <td>10.583512</td>\n",
       "      <td>2.508064</td>\n",
       "      <td>12.738104</td>\n",
       "      <td>20</td>\n",
       "      <td>3.489422</td>\n",
       "      <td>6.152570</td>\n",
       "      <td>4.348555</td>\n",
       "    </tr>\n",
       "  </tbody>\n",
       "</table>\n",
       "</div>"
      ],
      "text/plain": [
       "   Determination  Discomfort     Energy  MonitoringScore  Nourishment  \\\n",
       "0       5.102797    1.985388   9.559896               13     3.501880   \n",
       "1       7.796001    1.142109  12.702699               19     3.698991   \n",
       "2      10.350426    2.500879  11.972553               19     4.232901   \n",
       "3       9.512673    2.167529   8.645920               15     3.802447   \n",
       "4      10.583512    2.508064  12.738104               20     3.489422   \n",
       "\n",
       "   Training_load_f1  Training_load_f2  \n",
       "0          6.862328          4.769693  \n",
       "1         10.469057          4.332932  \n",
       "2          2.734421          4.234884  \n",
       "3          3.775594          4.057900  \n",
       "4          6.152570          4.348555  "
      ]
     },
     "execution_count": 15,
     "metadata": {},
     "output_type": "execute_result"
    }
   ],
   "source": [
    "df = df[df.columns.difference([\"Date\",\"PlayerID\"])]\n",
    "y = df[\"Performance\"]\n",
    "X = df[df.columns.difference([\"Performance\"])]\n",
    "X.head()"
   ]
  },
  {
   "cell_type": "markdown",
   "metadata": {},
   "source": [
    "## XGBoost"
   ]
  },
  {
   "cell_type": "code",
   "execution_count": 16,
   "metadata": {},
   "outputs": [
    {
     "name": "stdout",
     "output_type": "stream",
     "text": [
      "RMSE: 0.722269\n",
      "Explained variance: -809.678055\n"
     ]
    },
    {
     "name": "stderr",
     "output_type": "stream",
     "text": [
      "C:\\Users\\sangh\\Miniconda3\\lib\\site-packages\\xgboost\\core.py:587: FutureWarning: Series.base is deprecated and will be removed in a future version\n",
      "  if getattr(data, 'base', None) is not None and \\\n",
      "C:\\Users\\sangh\\Miniconda3\\lib\\site-packages\\xgboost\\core.py:588: FutureWarning: Series.base is deprecated and will be removed in a future version\n",
      "  data.base is not None and isinstance(data, np.ndarray) \\\n"
     ]
    }
   ],
   "source": [
    "data_dmatrix = xgb.DMatrix(data=X,label=y)\n",
    "X_train, X_test, y_train, y_test = train_test_split(X, y, test_size=0.3, random_state=511)\n",
    "\n",
    "xg_reg = xgb.XGBRegressor(objective ='reg:squarederror', colsample_bytree = 0.4, learning_rate = 0.1, subsample = 0.75, \\\n",
    "                          max_depth = 5, alpha = 10, n_estimators = 10)\n",
    "\n",
    "xg_reg.fit(X_train,y_train)\n",
    "preds = xg_reg.predict(X_test)\n",
    "\n",
    "rmse = np.sqrt(mean_squared_error(y_test, preds))\n",
    "var = explained_variance_score(preds,y_test)\n",
    "\n",
    "print(\"RMSE: %f\" % (rmse))\n",
    "print(\"Explained variance: %f\" % (var))"
   ]
  },
  {
   "cell_type": "code",
   "execution_count": 17,
   "metadata": {},
   "outputs": [
    {
     "data": {
      "image/png": "[encoded data removed]",
      "text/plain": [
       "<Figure size 792x360 with 1 Axes>"
      ]
     },
     "metadata": {
      "needs_background": "light"
     },
     "output_type": "display_data"
    }
   ],
   "source": [
    "xgb.plot_importance(xg_reg)\n",
    "plt.rcParams['figure.figsize'] = [11, 5]\n",
    "plt.show()"
   ]
  },
  {
   "cell_type": "markdown",
   "metadata": {},
   "source": [
    "## Linear Regression"
   ]
  },
  {
   "cell_type": "code",
   "execution_count": 18,
   "metadata": {},
   "outputs": [
    {
     "name": "stdout",
     "output_type": "stream",
     "text": [
      "                            OLS Regression Results                            \n",
      "==============================================================================\n",
      "Dep. Variable:            Performance   R-squared:                       0.000\n",
      "Model:                            OLS   Adj. R-squared:                 -0.001\n",
      "Method:                 Least Squares   F-statistic:                    0.3001\n",
      "Date:                Tue, 19 Nov 2019   Prob (F-statistic):              0.954\n",
      "Time:                        23:36:43   Log-Likelihood:                -3686.9\n",
      "No. Observations:                5011   AIC:                             7390.\n",
      "Df Residuals:                    5003   BIC:                             7442.\n",
      "Df Model:                           7                                         \n",
      "Covariance Type:            nonrobust                                         \n",
      "====================================================================================\n",
      "                       coef    std err          t      P>|t|      [0.025      0.975]\n",
      "------------------------------------------------------------------------------------\n",
      "Intercept            1.9855      0.069     28.786      0.000       1.850       2.121\n",
      "MonitoringScore     -0.0072      0.011     -0.634      0.526      -0.029       0.015\n",
      "Energy               0.0088      0.015      0.593      0.553      -0.020       0.038\n",
      "Nourishment         -0.0008      0.011     -0.076      0.940      -0.022       0.020\n",
      "Discomfort           0.0090      0.020      0.448      0.654      -0.030       0.048\n",
      "Determination        0.0038      0.010      0.401      0.689      -0.015       0.023\n",
      "Training_load_f1    -0.0037      0.004     -1.049      0.294      -0.011       0.003\n",
      "Training_load_f2     0.0036      0.007      0.511      0.609      -0.010       0.018\n",
      "==============================================================================\n",
      "Omnibus:                        1.884   Durbin-Watson:                   2.003\n",
      "Prob(Omnibus):                  0.390   Jarque-Bera (JB):                1.882\n",
      "Skew:                           0.025   Prob(JB):                        0.390\n",
      "Kurtosis:                       2.919   Cond. No.                         250.\n",
      "==============================================================================\n",
      "\n",
      "Warnings:\n",
      "[1] Standard Errors assume that the covariance matrix of the errors is correctly specified.\n"
     ]
    }
   ],
   "source": [
    "import statsmodels.formula.api as smf\n",
    "model = smf.ols(\"Performance ~ MonitoringScore + Energy + Nourishment + Discomfort + Determination + Training_load_f1 + Training_load_f2\", \\\n",
    "                data = df).fit()\n",
    "print(model.summary())"
   ]
  },
  {
   "cell_type": "code",
   "execution_count": 20,
   "metadata": {},
   "outputs": [
    {
     "name": "stdout",
     "output_type": "stream",
     "text": [
      "Test Mean squared error: 0.26\n",
      "Train Mean squared error: 0.25\n",
      "R^2 score: -0.00\n",
      "Explained variance: -0.00\n"
     ]
    }
   ],
   "source": [
    "from sklearn.linear_model import LinearRegression\n",
    "from sklearn.metrics import explained_variance_score, r2_score\n",
    "regr = LinearRegression()\n",
    "regr.fit(X_train, y_train)\n",
    "\n",
    "y_pred = regr.predict(X_test)\n",
    "y_pred_train = regr.predict(X_train)\n",
    "\n",
    "print(\"Test Mean squared error: %.2f\" % mean_squared_error(y_test,y_pred))\n",
    "print(\"Train Mean squared error: %.2f\" % mean_squared_error(y_train,y_pred_train))\n",
    "print(\"R^2 score: %.2f\" % r2_score(y_test, y_pred))\n",
    "print(\"Explained variance: %.2f\" % explained_variance_score(y_test,y_pred))"
   ]
  },
  {
   "cell_type": "code",
   "execution_count": null,
   "metadata": {},
   "outputs": [],
   "source": []
  }
 ],
 "metadata": {
  "kernelspec": {
   "display_name": "Python 3",
   "language": "python",
   "name": "python3"
  },
  "language_info": {
   "codemirror_mode": {
    "name": "ipython",
    "version": 3
   },
   "file_extension": ".py",
   "mimetype": "text/x-python",
   "name": "python",
   "nbconvert_exporter": "python",
   "pygments_lexer": "ipython3",
   "version": "3.7.3"
  }
 },
 "nbformat": 4,
 "nbformat_minor": 2
}
