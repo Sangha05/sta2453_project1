{
 "cells": [
  {
   "cell_type": "code",
   "execution_count": null,
   "metadata": {},
   "outputs": [],
   "source": [
    "import pandas as pd\n",
    "import numpy as np\n",
    "\n",
    "performance_file = 'https://www.dropbox.com/s/n7pvlxy60qwyy91/gps.csv?dl=1'\n",
    "performance = pd.read_csv(performance_file)\n",
    "performance.shape"
   ]
  },
  {
   "cell_type": "code",
   "execution_count": null,
   "metadata": {},
   "outputs": [],
   "source": [
    "df_performance = performance.loc[performance['Speed'] != 0]\n",
    "idx = df_performance.groupby(['GameID','Half','PlayerID'])['Speed'].transform(max) == df_performance['Speed']\n",
    "df_max_speed = df_performance[idx]\n",
    "df_max_speed.head()"
   ]
  },
  {
   "cell_type": "code",
   "execution_count": null,
   "metadata": {},
   "outputs": [],
   "source": [
    "df_max_speed = df_max_speed[['GameID','Half','PlayerID','Speed','AccelImpulse','AccelLoad']]\n",
    "index = df_max_speed.groupby(['GameID','Half','PlayerID'])['AccelImpulse'].transform(max) == df_max_speed['AccelImpulse']\n",
    "df_final_performance = df_max_speed[index]\n",
    "df_final_performance.reset_index(inplace=True,drop=True)\n",
    "df_final_performance"
   ]
  },
  {
   "cell_type": "code",
   "execution_count": null,
   "metadata": {},
   "outputs": [],
   "source": [
    "game_file = 'https://www.dropbox.com/s/tk13ad7sca5nkwy/games.csv?dl=1'\n",
    "games = pd.read_csv(game_file)\n",
    "games.head()"
   ]
  },
  {
   "cell_type": "code",
   "execution_count": null,
   "metadata": {},
   "outputs": [],
   "source": [
    "df_games = games[['GameID','Date']]\n",
    "dfPerformance = pd.merge(df_final_performance, df_games, left_on='GameID',right_on='GameID', how='left')\n",
    "dfPerformance"
   ]
  },
  {
   "cell_type": "code",
   "execution_count": null,
   "metadata": {},
   "outputs": [],
   "source": [
    "dfPer = dfPerformance[dfPerformance.columns.difference([\"GameID\",\"Half\"])]\n",
    "dfPer = dfPer.groupby(['Date','PlayerID']).mean()\n",
    "dfPer.reset_index(inplace=True)\n",
    "dfPer"
   ]
  },
  {
   "cell_type": "code",
   "execution_count": null,
   "metadata": {},
   "outputs": [],
   "source": [
    "from sklearn import preprocessing\n",
    "min_max_scaler = preprocessing.MinMaxScaler()\n",
    "dfPer[[\"Speed\",\"AccelImpulse\",\"AccelLoad\"]] = min_max_scaler.fit_transform(dfPer[[\"Speed\",\"AccelImpulse\",\"AccelLoad\"]])\n",
    "dfPer"
   ]
  },
  {
   "cell_type": "code",
   "execution_count": null,
   "metadata": {},
   "outputs": [],
   "source": [
    "dfPer[\"PerformanceScore\"] = (dfPer[\"AccelImpulse\"] + dfPer[\"AccelLoad\"] + dfPer[\"Speed\"])*100/3\n",
    "dfPer"
   ]
  },
  {
   "cell_type": "code",
   "execution_count": null,
   "metadata": {},
   "outputs": [],
   "source": [
    "games = pd.read_csv('https://raw.githubusercontent.com/weilixiang/sta2453_project1/master/Clean%20Data/games.csv')\n",
    "games.head()"
   ]
  },
  {
   "cell_type": "code",
   "execution_count": null,
   "metadata": {},
   "outputs": [],
   "source": [
    "dfPer = pd.merge(dfPer, games, left_on='Date',right_on='Date', how='left')\n",
    "dfPer"
   ]
  },
  {
   "cell_type": "code",
   "execution_count": null,
   "metadata": {},
   "outputs": [],
   "source": [
    "from matplotlib import pyplot as plt\n",
    "fig, ax = plt.subplots(figsize=(15,7))\n",
    "plt.title('Player Performance Comparison')\n",
    "firstfive = dfPer[\"PlayerID\"].isin([1,2,3,4,5])\n",
    "dfPerfive = dfPer[firstfive]\n",
    "dfPerfive.set_index('GameID', inplace=True)\n",
    "dfPerfive.groupby(['PlayerID'])['PerformanceScore'].plot(legend='True')\n",
    "plt.ylabel(\"Performance Score\")\n",
    "plt.show()"
   ]
  },
  {
   "cell_type": "code",
   "execution_count": null,
   "metadata": {},
   "outputs": [],
   "source": [
    "from celluloid import Camera\n",
    "\n",
    "fig = plt.figure()\n",
    "camera = Camera(fig)\n",
    "#Players 18-21 did not play any game\n",
    "plt.xlabel('Games')\n",
    "plt.ylabel('Performance Score')\n",
    "plt.title('Player Performance over time (Game) GIF')\n",
    "dfPer.set_index('GameID', inplace=True)\n",
    "for i in range(17):\n",
    "    t = plt.plot(dfPer[dfPer[\"PlayerID\"] == i+1].PerformanceScore)\n",
    "    plt.legend(t, [f'Player {i+1}'])\n",
    "    camera.snap()\n",
    "animation = camera.animate()\n",
    "animation.save('Performance.gif', writer = 'imagemagick')\n",
    "dfPer.reset_index(inplace=True)\n",
    "dfPer.head()"
   ]
  },
  {
   "cell_type": "code",
   "execution_count": null,
   "metadata": {},
   "outputs": [],
   "source": [
    "dfPer[\"PerformanceScore\"].max()"
   ]
  },
  {
   "cell_type": "code",
   "execution_count": null,
   "metadata": {},
   "outputs": [],
   "source": [
    "dfPer[\"PerformanceScore\"].min()"
   ]
  },
  {
   "cell_type": "code",
   "execution_count": null,
   "metadata": {},
   "outputs": [],
   "source": [
    "dfPer = dfPer.drop(dfPer[(dfPer['PlayerID']>17)].index)\n",
    "dfPer.reset_index(inplace=True,drop=True)\n",
    "dfPer"
   ]
  },
  {
   "cell_type": "code",
   "execution_count": null,
   "metadata": {},
   "outputs": [],
   "source": [
    "dfPer.to_csv(\"Clean Data/PerformanceMeasure.csv\", index = None, header=True)"
   ]
  }
 ],
 "metadata": {
  "kernelspec": {
   "display_name": "Python 3",
   "language": "python",
   "name": "python3"
  },
  "language_info": {
   "codemirror_mode": {
    "name": "ipython",
    "version": 3
   },
   "file_extension": ".py",
   "mimetype": "text/x-python",
   "name": "python",
   "nbconvert_exporter": "python",
   "pygments_lexer": "ipython3",
   "version": "3.7.3"
  }
 },
 "nbformat": 4,
 "nbformat_minor": 2
}
