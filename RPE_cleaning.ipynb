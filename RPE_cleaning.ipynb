{
 "cells": [
  {
   "cell_type": "code",
   "execution_count": 12,
   "metadata": {},
   "outputs": [],
   "source": [
    "import pandas as pd\n",
    "from statsmodels.stats.multicomp import (pairwise_tukeyhsd,MultiComparison)"
   ]
  },
  {
   "cell_type": "code",
   "execution_count": 27,
   "metadata": {},
   "outputs": [
    {
     "data": {
      "text/plain": [
       "(8860, 14)"
      ]
     },
     "execution_count": 27,
     "metadata": {},
     "output_type": "execute_result"
    }
   ],
   "source": [
    "rpe_file = '~/Desktop/rpe.csv'\n",
    "rpe_data = pd.read_csv(rpe_file)\n",
    "rpe_data.shape\n"
   ]
  },
  {
   "cell_type": "code",
   "execution_count": 28,
   "metadata": {},
   "outputs": [
    {
     "name": "stdout",
     "output_type": "stream",
     "text": [
      "['Date', 'PlayerID', 'Training', 'SessionType', 'Duration', 'RPE', 'SessionLoad', 'DailyLoad', 'AcuteLoad', 'ChronicLoad', 'AcuteChronicRatio', 'ObjectiveRating', 'FocusRating', 'BestOutOfMyself']\n"
     ]
    }
   ],
   "source": [
    "print(list(rpe_data.columns))"
   ]
  },
  {
   "cell_type": "code",
   "execution_count": 30,
   "metadata": {},
   "outputs": [
    {
     "data": {
      "text/plain": [
       "(7621, 14)"
      ]
     },
     "execution_count": 30,
     "metadata": {},
     "output_type": "execute_result"
    }
   ],
   "source": [
    "rpe_data = rpe_data.dropna(subset=['RPE'])\n",
    "rpe_data.shape"
   ]
  },
  {
   "cell_type": "code",
   "execution_count": 7,
   "metadata": {},
   "outputs": [
    {
     "data": {
      "text/html": [
       "<div>\n",
       "<style scoped>\n",
       "    .dataframe tbody tr th:only-of-type {\n",
       "        vertical-align: middle;\n",
       "    }\n",
       "\n",
       "    .dataframe tbody tr th {\n",
       "        vertical-align: top;\n",
       "    }\n",
       "\n",
       "    .dataframe thead th {\n",
       "        text-align: right;\n",
       "    }\n",
       "</style>\n",
       "<table border=\"1\" class=\"dataframe\">\n",
       "  <thead>\n",
       "    <tr style=\"text-align: right;\">\n",
       "      <th></th>\n",
       "      <th>Date</th>\n",
       "      <th>PlayerID</th>\n",
       "      <th>Training</th>\n",
       "      <th>SessionType</th>\n",
       "      <th>Duration</th>\n",
       "      <th>RPE</th>\n",
       "      <th>SessionLoad</th>\n",
       "      <th>DailyLoad</th>\n",
       "      <th>AcuteLoad</th>\n",
       "      <th>ChronicLoad</th>\n",
       "      <th>AcuteChronicRatio</th>\n",
       "      <th>ObjectiveRating</th>\n",
       "      <th>FocusRating</th>\n",
       "      <th>BestOutOfMyself</th>\n",
       "    </tr>\n",
       "  </thead>\n",
       "  <tbody>\n",
       "    <tr>\n",
       "      <th>0</th>\n",
       "      <td>2018-07-21</td>\n",
       "      <td>13</td>\n",
       "      <td>Yes</td>\n",
       "      <td>Mobility/Recovery</td>\n",
       "      <td>5.0</td>\n",
       "      <td>0.0</td>\n",
       "      <td>0.0</td>\n",
       "      <td>446.0</td>\n",
       "      <td>323.1</td>\n",
       "      <td>303.25</td>\n",
       "      <td>1.07</td>\n",
       "      <td>NaN</td>\n",
       "      <td>NaN</td>\n",
       "      <td>Not at all</td>\n",
       "    </tr>\n",
       "    <tr>\n",
       "      <th>1</th>\n",
       "      <td>2018-07-21</td>\n",
       "      <td>13</td>\n",
       "      <td>Yes</td>\n",
       "      <td>Game</td>\n",
       "      <td>29.0</td>\n",
       "      <td>7.0</td>\n",
       "      <td>203.0</td>\n",
       "      <td>NaN</td>\n",
       "      <td>NaN</td>\n",
       "      <td>NaN</td>\n",
       "      <td>NaN</td>\n",
       "      <td>NaN</td>\n",
       "      <td>NaN</td>\n",
       "      <td>Not at all</td>\n",
       "    </tr>\n",
       "    <tr>\n",
       "      <th>2</th>\n",
       "      <td>2018-07-21</td>\n",
       "      <td>13</td>\n",
       "      <td>Yes</td>\n",
       "      <td>Game</td>\n",
       "      <td>27.0</td>\n",
       "      <td>9.0</td>\n",
       "      <td>243.0</td>\n",
       "      <td>NaN</td>\n",
       "      <td>NaN</td>\n",
       "      <td>NaN</td>\n",
       "      <td>NaN</td>\n",
       "      <td>NaN</td>\n",
       "      <td>NaN</td>\n",
       "      <td>Not at all</td>\n",
       "    </tr>\n",
       "    <tr>\n",
       "      <th>3</th>\n",
       "      <td>2018-07-20</td>\n",
       "      <td>11</td>\n",
       "      <td>Yes</td>\n",
       "      <td>Game</td>\n",
       "      <td>36.0</td>\n",
       "      <td>6.0</td>\n",
       "      <td>216.0</td>\n",
       "      <td>534.0</td>\n",
       "      <td>256.3</td>\n",
       "      <td>344.18</td>\n",
       "      <td>0.74</td>\n",
       "      <td>9.0</td>\n",
       "      <td>10.0</td>\n",
       "      <td>Absolutely</td>\n",
       "    </tr>\n",
       "    <tr>\n",
       "      <th>4</th>\n",
       "      <td>2018-07-20</td>\n",
       "      <td>11</td>\n",
       "      <td>Yes</td>\n",
       "      <td>Game</td>\n",
       "      <td>36.0</td>\n",
       "      <td>8.0</td>\n",
       "      <td>288.0</td>\n",
       "      <td>NaN</td>\n",
       "      <td>NaN</td>\n",
       "      <td>NaN</td>\n",
       "      <td>NaN</td>\n",
       "      <td>9.0</td>\n",
       "      <td>10.0</td>\n",
       "      <td>Absolutely</td>\n",
       "    </tr>\n",
       "  </tbody>\n",
       "</table>\n",
       "</div>"
      ],
      "text/plain": [
       "         Date  PlayerID Training        SessionType  Duration  RPE  \\\n",
       "0  2018-07-21        13      Yes  Mobility/Recovery       5.0  0.0   \n",
       "1  2018-07-21        13      Yes               Game      29.0  7.0   \n",
       "2  2018-07-21        13      Yes               Game      27.0  9.0   \n",
       "3  2018-07-20        11      Yes               Game      36.0  6.0   \n",
       "4  2018-07-20        11      Yes               Game      36.0  8.0   \n",
       "\n",
       "   SessionLoad  DailyLoad  AcuteLoad  ChronicLoad  AcuteChronicRatio  \\\n",
       "0          0.0      446.0      323.1       303.25               1.07   \n",
       "1        203.0        NaN        NaN          NaN                NaN   \n",
       "2        243.0        NaN        NaN          NaN                NaN   \n",
       "3        216.0      534.0      256.3       344.18               0.74   \n",
       "4        288.0        NaN        NaN          NaN                NaN   \n",
       "\n",
       "   ObjectiveRating  FocusRating BestOutOfMyself  \n",
       "0              NaN          NaN      Not at all  \n",
       "1              NaN          NaN      Not at all  \n",
       "2              NaN          NaN      Not at all  \n",
       "3              9.0         10.0      Absolutely  \n",
       "4              9.0         10.0      Absolutely  "
      ]
     },
     "execution_count": 7,
     "metadata": {},
     "output_type": "execute_result"
    }
   ],
   "source": [
    "rpe_data.head()"
   ]
  },
  {
   "cell_type": "code",
   "execution_count": 19,
   "metadata": {},
   "outputs": [
    {
     "data": {
      "text/plain": [
       "SessionType\n",
       "Combat                193\n",
       "Conditioning          960\n",
       "Game                  463\n",
       "Mobility/Recovery     992\n",
       "Skills               1859\n",
       "Speed                1245\n",
       "Strength             1909\n",
       "Name: SessionType, dtype: int64"
      ]
     },
     "execution_count": 19,
     "metadata": {},
     "output_type": "execute_result"
    }
   ],
   "source": [
    "rpe_data.groupby(rpe_data[\"SessionType\"])[\"SessionType\"].count()\n"
   ]
  },
  {
   "cell_type": "code",
   "execution_count": 31,
   "metadata": {},
   "outputs": [
    {
     "data": {
      "text/plain": [
       "7621"
      ]
     },
     "execution_count": 31,
     "metadata": {},
     "output_type": "execute_result"
    }
   ],
   "source": [
    "rpe_data[\"RPE\"].count()\n"
   ]
  },
  {
   "cell_type": "code",
   "execution_count": 33,
   "metadata": {},
   "outputs": [
    {
     "data": {
      "text/html": [
       "<table class=\"simpletable\">\n",
       "<caption>Multiple Comparison of Means - Tukey HSD, FWER=0.05</caption>\n",
       "<tr>\n",
       "       <th>group1</th>            <th>group2</th>       <th>meandiff</th>  <th>p-adj</th>  <th>lower</th>   <th>upper</th>  <th>reject</th>\n",
       "</tr>\n",
       "<tr>\n",
       "       <td>Combat</td>         <td>Conditioning</td>     <td>2.1053</td>   <td>0.001</td> <td>1.7308</td>  <td>2.4799</td>   <td>True</td> \n",
       "</tr>\n",
       "<tr>\n",
       "       <td>Combat</td>             <td>Game</td>         <td>2.0734</td>   <td>0.001</td> <td>1.6666</td>  <td>2.4803</td>   <td>True</td> \n",
       "</tr>\n",
       "<tr>\n",
       "       <td>Combat</td>       <td>Mobility/Recovery</td>  <td>-3.1398</td>  <td>0.001</td> <td>-3.5134</td> <td>-2.7663</td>  <td>True</td> \n",
       "</tr>\n",
       "<tr>\n",
       "       <td>Combat</td>            <td>Skills</td>        <td>-0.1147</td>   <td>0.9</td>  <td>-0.4737</td> <td>0.2444</td>   <td>False</td>\n",
       "</tr>\n",
       "<tr>\n",
       "       <td>Combat</td>             <td>Speed</td>        <td>-0.1785</td> <td>0.7567</td> <td>-0.5458</td> <td>0.1888</td>   <td>False</td>\n",
       "</tr>\n",
       "<tr>\n",
       "       <td>Combat</td>           <td>Strength</td>       <td>0.8609</td>   <td>0.001</td> <td>0.5023</td>  <td>1.2196</td>   <td>True</td> \n",
       "</tr>\n",
       "<tr>\n",
       "    <td>Conditioning</td>          <td>Game</td>         <td>-0.0319</td>   <td>0.9</td>  <td>-0.3006</td> <td>0.2368</td>   <td>False</td>\n",
       "</tr>\n",
       "<tr>\n",
       "    <td>Conditioning</td>    <td>Mobility/Recovery</td>  <td>-5.2452</td>  <td>0.001</td> <td>-5.4601</td> <td>-5.0302</td>  <td>True</td> \n",
       "</tr>\n",
       "<tr>\n",
       "    <td>Conditioning</td>         <td>Skills</td>         <td>-2.22</td>   <td>0.001</td> <td>-2.4087</td> <td>-2.0313</td>  <td>True</td> \n",
       "</tr>\n",
       "<tr>\n",
       "    <td>Conditioning</td>          <td>Speed</td>        <td>-2.2839</td>  <td>0.001</td> <td>-2.4878</td> <td>-2.0799</td>  <td>True</td> \n",
       "</tr>\n",
       "<tr>\n",
       "    <td>Conditioning</td>        <td>Strength</td>       <td>-1.2444</td>  <td>0.001</td> <td>-1.4323</td> <td>-1.0565</td>  <td>True</td> \n",
       "</tr>\n",
       "<tr>\n",
       "        <td>Game</td>        <td>Mobility/Recovery</td>  <td>-5.2133</td>  <td>0.001</td> <td>-5.4805</td> <td>-4.946</td>   <td>True</td> \n",
       "</tr>\n",
       "<tr>\n",
       "        <td>Game</td>             <td>Skills</td>        <td>-2.1881</td>  <td>0.001</td> <td>-2.4347</td> <td>-1.9415</td>  <td>True</td> \n",
       "</tr>\n",
       "<tr>\n",
       "        <td>Game</td>              <td>Speed</td>        <td>-2.252</td>   <td>0.001</td> <td>-2.5104</td> <td>-1.9935</td>  <td>True</td> \n",
       "</tr>\n",
       "<tr>\n",
       "        <td>Game</td>            <td>Strength</td>       <td>-1.2125</td>  <td>0.001</td> <td>-1.4585</td> <td>-0.9665</td>  <td>True</td> \n",
       "</tr>\n",
       "<tr>\n",
       "  <td>Mobility/Recovery</td>      <td>Skills</td>        <td>3.0252</td>   <td>0.001</td> <td>2.8385</td>  <td>3.2118</td>   <td>True</td> \n",
       "</tr>\n",
       "<tr>\n",
       "  <td>Mobility/Recovery</td>       <td>Speed</td>        <td>2.9613</td>   <td>0.001</td> <td>2.7592</td>  <td>3.1634</td>   <td>True</td> \n",
       "</tr>\n",
       "<tr>\n",
       "  <td>Mobility/Recovery</td>     <td>Strength</td>       <td>4.0008</td>   <td>0.001</td> <td>3.8149</td>  <td>4.1866</td>   <td>True</td> \n",
       "</tr>\n",
       "<tr>\n",
       "       <td>Skills</td>             <td>Speed</td>        <td>-0.0639</td>   <td>0.9</td>  <td>-0.2377</td>  <td>0.11</td>    <td>False</td>\n",
       "</tr>\n",
       "<tr>\n",
       "       <td>Skills</td>           <td>Strength</td>       <td>0.9756</td>   <td>0.001</td> <td>0.8209</td>  <td>1.1303</td>   <td>True</td> \n",
       "</tr>\n",
       "<tr>\n",
       "        <td>Speed</td>           <td>Strength</td>       <td>1.0395</td>   <td>0.001</td> <td>0.8665</td>  <td>1.2124</td>   <td>True</td> \n",
       "</tr>\n",
       "</table>"
      ],
      "text/plain": [
       "<class 'statsmodels.iolib.table.SimpleTable'>"
      ]
     },
     "execution_count": 33,
     "metadata": {},
     "output_type": "execute_result"
    }
   ],
   "source": [
    "pairwise_tukeyhsd(rpe_data[\"RPE\"],rpe_data[\"SessionType\"]).summary()"
   ]
  },
  {
   "cell_type": "markdown",
   "metadata": {},
   "source": [
    "Since most of groups have different mean for RPE, we can include that SessionType is highly correlated to RPE"
   ]
  }
 ],
 "metadata": {
  "kernelspec": {
   "display_name": "Python 3",
   "language": "python",
   "name": "python3"
  },
  "language_info": {
   "codemirror_mode": {
    "name": "ipython",
    "version": 3
   },
   "file_extension": ".py",
   "mimetype": "text/x-python",
   "name": "python",
   "nbconvert_exporter": "python",
   "pygments_lexer": "ipython3",
   "version": "3.7.3"
  }
 },
 "nbformat": 4,
 "nbformat_minor": 2
}
