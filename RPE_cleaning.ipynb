{
 "cells": [
  {
   "cell_type": "code",
   "execution_count": 2,
   "metadata": {},
   "outputs": [],
   "source": [
    "import pandas as pd\n",
    "from statsmodels.stats.multicomp import (pairwise_tukeyhsd,MultiComparison)\n",
    "import matplotlib.pyplot as plt\n",
    "import numpy as np\n",
    "from factor_analyzer import FactorAnalyzer"
   ]
  },
  {
   "cell_type": "code",
   "execution_count": 3,
   "metadata": {},
   "outputs": [
    {
     "data": {
      "text/html": [
       "<div>\n",
       "<style scoped>\n",
       "    .dataframe tbody tr th:only-of-type {\n",
       "        vertical-align: middle;\n",
       "    }\n",
       "\n",
       "    .dataframe tbody tr th {\n",
       "        vertical-align: top;\n",
       "    }\n",
       "\n",
       "    .dataframe thead th {\n",
       "        text-align: right;\n",
       "    }\n",
       "</style>\n",
       "<table border=\"1\" class=\"dataframe\">\n",
       "  <thead>\n",
       "    <tr style=\"text-align: right;\">\n",
       "      <th></th>\n",
       "      <th>Date</th>\n",
       "      <th>PlayerID</th>\n",
       "      <th>Training</th>\n",
       "      <th>SessionType</th>\n",
       "      <th>Duration</th>\n",
       "      <th>RPE</th>\n",
       "      <th>SessionLoad</th>\n",
       "      <th>DailyLoad</th>\n",
       "      <th>AcuteLoad</th>\n",
       "      <th>ChronicLoad</th>\n",
       "      <th>AcuteChronicRatio</th>\n",
       "      <th>ObjectiveRating</th>\n",
       "      <th>FocusRating</th>\n",
       "      <th>BestOutOfMyself</th>\n",
       "    </tr>\n",
       "  </thead>\n",
       "  <tbody>\n",
       "    <tr>\n",
       "      <th>0</th>\n",
       "      <td>2018-07-21</td>\n",
       "      <td>13</td>\n",
       "      <td>Yes</td>\n",
       "      <td>Mobility/Recovery</td>\n",
       "      <td>5.0</td>\n",
       "      <td>0.0</td>\n",
       "      <td>0.0</td>\n",
       "      <td>446.0</td>\n",
       "      <td>323.1</td>\n",
       "      <td>303.25</td>\n",
       "      <td>1.07</td>\n",
       "      <td>NaN</td>\n",
       "      <td>NaN</td>\n",
       "      <td>Not at all</td>\n",
       "    </tr>\n",
       "    <tr>\n",
       "      <th>1</th>\n",
       "      <td>2018-07-21</td>\n",
       "      <td>13</td>\n",
       "      <td>Yes</td>\n",
       "      <td>Game</td>\n",
       "      <td>29.0</td>\n",
       "      <td>7.0</td>\n",
       "      <td>203.0</td>\n",
       "      <td>NaN</td>\n",
       "      <td>NaN</td>\n",
       "      <td>NaN</td>\n",
       "      <td>NaN</td>\n",
       "      <td>NaN</td>\n",
       "      <td>NaN</td>\n",
       "      <td>Not at all</td>\n",
       "    </tr>\n",
       "    <tr>\n",
       "      <th>2</th>\n",
       "      <td>2018-07-21</td>\n",
       "      <td>13</td>\n",
       "      <td>Yes</td>\n",
       "      <td>Game</td>\n",
       "      <td>27.0</td>\n",
       "      <td>9.0</td>\n",
       "      <td>243.0</td>\n",
       "      <td>NaN</td>\n",
       "      <td>NaN</td>\n",
       "      <td>NaN</td>\n",
       "      <td>NaN</td>\n",
       "      <td>NaN</td>\n",
       "      <td>NaN</td>\n",
       "      <td>Not at all</td>\n",
       "    </tr>\n",
       "    <tr>\n",
       "      <th>3</th>\n",
       "      <td>2018-07-20</td>\n",
       "      <td>11</td>\n",
       "      <td>Yes</td>\n",
       "      <td>Game</td>\n",
       "      <td>36.0</td>\n",
       "      <td>6.0</td>\n",
       "      <td>216.0</td>\n",
       "      <td>534.0</td>\n",
       "      <td>256.3</td>\n",
       "      <td>344.18</td>\n",
       "      <td>0.74</td>\n",
       "      <td>9.0</td>\n",
       "      <td>10.0</td>\n",
       "      <td>Absolutely</td>\n",
       "    </tr>\n",
       "    <tr>\n",
       "      <th>4</th>\n",
       "      <td>2018-07-20</td>\n",
       "      <td>11</td>\n",
       "      <td>Yes</td>\n",
       "      <td>Game</td>\n",
       "      <td>36.0</td>\n",
       "      <td>8.0</td>\n",
       "      <td>288.0</td>\n",
       "      <td>NaN</td>\n",
       "      <td>NaN</td>\n",
       "      <td>NaN</td>\n",
       "      <td>NaN</td>\n",
       "      <td>9.0</td>\n",
       "      <td>10.0</td>\n",
       "      <td>Absolutely</td>\n",
       "    </tr>\n",
       "  </tbody>\n",
       "</table>\n",
       "</div>"
      ],
      "text/plain": [
       "         Date  PlayerID Training        SessionType  Duration  RPE  \\\n",
       "0  2018-07-21        13      Yes  Mobility/Recovery       5.0  0.0   \n",
       "1  2018-07-21        13      Yes               Game      29.0  7.0   \n",
       "2  2018-07-21        13      Yes               Game      27.0  9.0   \n",
       "3  2018-07-20        11      Yes               Game      36.0  6.0   \n",
       "4  2018-07-20        11      Yes               Game      36.0  8.0   \n",
       "\n",
       "   SessionLoad  DailyLoad  AcuteLoad  ChronicLoad  AcuteChronicRatio  \\\n",
       "0          0.0      446.0      323.1       303.25               1.07   \n",
       "1        203.0        NaN        NaN          NaN                NaN   \n",
       "2        243.0        NaN        NaN          NaN                NaN   \n",
       "3        216.0      534.0      256.3       344.18               0.74   \n",
       "4        288.0        NaN        NaN          NaN                NaN   \n",
       "\n",
       "   ObjectiveRating  FocusRating BestOutOfMyself  \n",
       "0              NaN          NaN      Not at all  \n",
       "1              NaN          NaN      Not at all  \n",
       "2              NaN          NaN      Not at all  \n",
       "3              9.0         10.0      Absolutely  \n",
       "4              9.0         10.0      Absolutely  "
      ]
     },
     "execution_count": 3,
     "metadata": {},
     "output_type": "execute_result"
    }
   ],
   "source": [
    "df = pd.read_csv('https://www.dropbox.com/s/2kgsd9x1fv1b7fl/rpe.csv?dl=1')\n",
    "df.head()"
   ]
  },
  {
   "cell_type": "markdown",
   "metadata": {},
   "source": [
    "Since the ratio and load data are reported only once a day, we need to capture these NaN values from the same date data."
   ]
  },
  {
   "cell_type": "code",
   "execution_count": 4,
   "metadata": {},
   "outputs": [],
   "source": [
    "for i in range(len(df)):\n",
    "     if i!= 0 and i < df.shape[0]:\n",
    "            if df.loc[i,'Date'] == df.loc[i-1,'Date'] and df.loc[i,'PlayerID'] == df.loc[i-1,'PlayerID']:\n",
    "                    df.loc[i,'DailyLoad'] = df.loc[i-1,'DailyLoad']\n",
    "                    df.loc[i,'AcuteLoad'] = df.loc[i-1,'AcuteLoad']\n",
    "                    df.loc[i,'ChronicLoad'] = df.loc[i-1,'ChronicLoad']\n",
    "                    df.loc[i,'AcuteChronicRatio'] = df.loc[i-1,'AcuteChronicRatio']"
   ]
  },
  {
   "cell_type": "code",
   "execution_count": 5,
   "metadata": {},
   "outputs": [
    {
     "data": {
      "text/html": [
       "<div>\n",
       "<style scoped>\n",
       "    .dataframe tbody tr th:only-of-type {\n",
       "        vertical-align: middle;\n",
       "    }\n",
       "\n",
       "    .dataframe tbody tr th {\n",
       "        vertical-align: top;\n",
       "    }\n",
       "\n",
       "    .dataframe thead th {\n",
       "        text-align: right;\n",
       "    }\n",
       "</style>\n",
       "<table border=\"1\" class=\"dataframe\">\n",
       "  <thead>\n",
       "    <tr style=\"text-align: right;\">\n",
       "      <th></th>\n",
       "      <th>Date</th>\n",
       "      <th>PlayerID</th>\n",
       "      <th>Training</th>\n",
       "      <th>SessionType</th>\n",
       "      <th>Duration</th>\n",
       "      <th>RPE</th>\n",
       "      <th>SessionLoad</th>\n",
       "      <th>DailyLoad</th>\n",
       "      <th>AcuteLoad</th>\n",
       "      <th>ChronicLoad</th>\n",
       "      <th>AcuteChronicRatio</th>\n",
       "      <th>ObjectiveRating</th>\n",
       "      <th>FocusRating</th>\n",
       "      <th>BestOutOfMyself</th>\n",
       "    </tr>\n",
       "  </thead>\n",
       "  <tbody>\n",
       "    <tr>\n",
       "      <th>0</th>\n",
       "      <td>2018-07-21</td>\n",
       "      <td>13</td>\n",
       "      <td>Yes</td>\n",
       "      <td>Mobility/Recovery</td>\n",
       "      <td>5.0</td>\n",
       "      <td>0.0</td>\n",
       "      <td>0.0</td>\n",
       "      <td>446.0</td>\n",
       "      <td>323.1</td>\n",
       "      <td>303.25</td>\n",
       "      <td>1.07</td>\n",
       "      <td>NaN</td>\n",
       "      <td>NaN</td>\n",
       "      <td>Not at all</td>\n",
       "    </tr>\n",
       "    <tr>\n",
       "      <th>1</th>\n",
       "      <td>2018-07-21</td>\n",
       "      <td>13</td>\n",
       "      <td>Yes</td>\n",
       "      <td>Game</td>\n",
       "      <td>29.0</td>\n",
       "      <td>7.0</td>\n",
       "      <td>203.0</td>\n",
       "      <td>446.0</td>\n",
       "      <td>323.1</td>\n",
       "      <td>303.25</td>\n",
       "      <td>1.07</td>\n",
       "      <td>NaN</td>\n",
       "      <td>NaN</td>\n",
       "      <td>Not at all</td>\n",
       "    </tr>\n",
       "    <tr>\n",
       "      <th>2</th>\n",
       "      <td>2018-07-21</td>\n",
       "      <td>13</td>\n",
       "      <td>Yes</td>\n",
       "      <td>Game</td>\n",
       "      <td>27.0</td>\n",
       "      <td>9.0</td>\n",
       "      <td>243.0</td>\n",
       "      <td>446.0</td>\n",
       "      <td>323.1</td>\n",
       "      <td>303.25</td>\n",
       "      <td>1.07</td>\n",
       "      <td>NaN</td>\n",
       "      <td>NaN</td>\n",
       "      <td>Not at all</td>\n",
       "    </tr>\n",
       "    <tr>\n",
       "      <th>3</th>\n",
       "      <td>2018-07-20</td>\n",
       "      <td>11</td>\n",
       "      <td>Yes</td>\n",
       "      <td>Game</td>\n",
       "      <td>36.0</td>\n",
       "      <td>6.0</td>\n",
       "      <td>216.0</td>\n",
       "      <td>534.0</td>\n",
       "      <td>256.3</td>\n",
       "      <td>344.18</td>\n",
       "      <td>0.74</td>\n",
       "      <td>9.0</td>\n",
       "      <td>10.0</td>\n",
       "      <td>Absolutely</td>\n",
       "    </tr>\n",
       "    <tr>\n",
       "      <th>4</th>\n",
       "      <td>2018-07-20</td>\n",
       "      <td>11</td>\n",
       "      <td>Yes</td>\n",
       "      <td>Game</td>\n",
       "      <td>36.0</td>\n",
       "      <td>8.0</td>\n",
       "      <td>288.0</td>\n",
       "      <td>534.0</td>\n",
       "      <td>256.3</td>\n",
       "      <td>344.18</td>\n",
       "      <td>0.74</td>\n",
       "      <td>9.0</td>\n",
       "      <td>10.0</td>\n",
       "      <td>Absolutely</td>\n",
       "    </tr>\n",
       "  </tbody>\n",
       "</table>\n",
       "</div>"
      ],
      "text/plain": [
       "         Date  PlayerID Training        SessionType  Duration  RPE  \\\n",
       "0  2018-07-21        13      Yes  Mobility/Recovery       5.0  0.0   \n",
       "1  2018-07-21        13      Yes               Game      29.0  7.0   \n",
       "2  2018-07-21        13      Yes               Game      27.0  9.0   \n",
       "3  2018-07-20        11      Yes               Game      36.0  6.0   \n",
       "4  2018-07-20        11      Yes               Game      36.0  8.0   \n",
       "\n",
       "   SessionLoad  DailyLoad  AcuteLoad  ChronicLoad  AcuteChronicRatio  \\\n",
       "0          0.0      446.0      323.1       303.25               1.07   \n",
       "1        203.0      446.0      323.1       303.25               1.07   \n",
       "2        243.0      446.0      323.1       303.25               1.07   \n",
       "3        216.0      534.0      256.3       344.18               0.74   \n",
       "4        288.0      534.0      256.3       344.18               0.74   \n",
       "\n",
       "   ObjectiveRating  FocusRating BestOutOfMyself  \n",
       "0              NaN          NaN      Not at all  \n",
       "1              NaN          NaN      Not at all  \n",
       "2              NaN          NaN      Not at all  \n",
       "3              9.0         10.0      Absolutely  \n",
       "4              9.0         10.0      Absolutely  "
      ]
     },
     "execution_count": 5,
     "metadata": {},
     "output_type": "execute_result"
    }
   ],
   "source": [
    "df.head()"
   ]
  },
  {
   "cell_type": "code",
   "execution_count": 38,
   "metadata": {},
   "outputs": [
    {
     "name": "stdout",
     "output_type": "stream",
     "text": [
      "['Date', 'PlayerID', 'Training', 'SessionType', 'Duration', 'RPE', 'SessionLoad', 'DailyLoad', 'AcuteLoad', 'ChronicLoad', 'AcuteChronicRatio', 'ObjectiveRating', 'FocusRating', 'BestOutOfMyself']\n"
     ]
    },
    {
     "data": {
      "text/plain": [
       "(8860, 14)"
      ]
     },
     "execution_count": 38,
     "metadata": {},
     "output_type": "execute_result"
    }
   ],
   "source": [
    "print(list(df.columns))\n",
    "df.shape"
   ]
  },
  {
   "cell_type": "markdown",
   "metadata": {},
   "source": [
    "Since there are too many missing values in ObjectiveRating and FocusRating, we will drop these two columns. Also, we decide to drop all the rows with missing values."
   ]
  },
  {
   "cell_type": "code",
   "execution_count": 7,
   "metadata": {},
   "outputs": [
    {
     "data": {
      "text/plain": [
       "(7621, 11)"
      ]
     },
     "execution_count": 7,
     "metadata": {},
     "output_type": "execute_result"
    }
   ],
   "source": [
    "df = df.dropna(subset=['RPE'])\n",
    "df = df.dropna(subset=['SessionType'])\n",
    "df = df.dropna(subset=['Duration'])\n",
    "df = df.dropna(subset=['SessionLoad'])\n",
    "df = df[[\"Date\",\"PlayerID\",\"Training\",\"SessionType\",\"Duration\",\"RPE\",\n",
    "        \"SessionLoad\",\"DailyLoad\",\"AcuteLoad\",\"ChronicLoad\",\"AcuteChronicRatio\"]]\n",
    "df.shape"
   ]
  },
  {
   "cell_type": "markdown",
   "metadata": {},
   "source": [
    "Also, we need to average the player's training load if they have multiple same sessions for one day."
   ]
  },
  {
   "cell_type": "code",
   "execution_count": 9,
   "metadata": {},
   "outputs": [
    {
     "data": {
      "text/plain": [
       "(7192, 10)"
      ]
     },
     "execution_count": 9,
     "metadata": {},
     "output_type": "execute_result"
    }
   ],
   "source": [
    "df_rpe = df.groupby(['Date','PlayerID','SessionType'])['Duration',\"RPE\",\"SessionLoad\",\"DailyLoad\",\"AcuteLoad\",\"ChronicLoad\",\"AcuteChronicRatio\"].mean()\n",
    "df_rpe = df_rpe.reset_index()\n",
    "# dimension is (7192, 10)\n",
    "df_rpe.shape"
   ]
  },
  {
   "cell_type": "markdown",
   "metadata": {},
   "source": [
    "Categorize the train load status into 3 groups. If the ratio is greater than 1.2, it is high training load. \n",
    "If it is smaller than 0.8, treat it as recovering, Everything else in between is regarded as normal."
   ]
  },
  {
   "cell_type": "code",
   "execution_count": 21,
   "metadata": {},
   "outputs": [],
   "source": [
    "conditions = [\n",
    "    (df_rpe['AcuteChronicRatio'] <= 0.8),\n",
    "    (df_rpe['AcuteChronicRatio'] > 0.8) & (df_rpe['AcuteChronicRatio'] < 1.2),\n",
    "    (df_rpe['AcuteChronicRatio'] >=1.2)]\n",
    "choices = ['recovering', 'normal', 'high']\n",
    "df_rpe[\"Load_Status\"] = np.select(conditions,choices)"
   ]
  },
  {
   "cell_type": "code",
   "execution_count": 11,
   "metadata": {},
   "outputs": [
    {
     "data": {
      "text/html": [
       "<div>\n",
       "<style scoped>\n",
       "    .dataframe tbody tr th:only-of-type {\n",
       "        vertical-align: middle;\n",
       "    }\n",
       "\n",
       "    .dataframe tbody tr th {\n",
       "        vertical-align: top;\n",
       "    }\n",
       "\n",
       "    .dataframe thead th {\n",
       "        text-align: right;\n",
       "    }\n",
       "</style>\n",
       "<table border=\"1\" class=\"dataframe\">\n",
       "  <thead>\n",
       "    <tr style=\"text-align: right;\">\n",
       "      <th></th>\n",
       "      <th>Date</th>\n",
       "      <th>PlayerID</th>\n",
       "      <th>SessionType</th>\n",
       "      <th>Duration</th>\n",
       "      <th>RPE</th>\n",
       "      <th>SessionLoad</th>\n",
       "      <th>DailyLoad</th>\n",
       "      <th>AcuteLoad</th>\n",
       "      <th>ChronicLoad</th>\n",
       "      <th>AcuteChronicRatio</th>\n",
       "      <th>Load Status</th>\n",
       "    </tr>\n",
       "  </thead>\n",
       "  <tbody>\n",
       "    <tr>\n",
       "      <th>0</th>\n",
       "      <td>2017-08-01</td>\n",
       "      <td>1</td>\n",
       "      <td>Speed</td>\n",
       "      <td>60.0</td>\n",
       "      <td>3.0</td>\n",
       "      <td>180.0</td>\n",
       "      <td>540.0</td>\n",
       "      <td>77.1</td>\n",
       "      <td>19.29</td>\n",
       "      <td>4.00</td>\n",
       "      <td>high</td>\n",
       "    </tr>\n",
       "    <tr>\n",
       "      <th>1</th>\n",
       "      <td>2017-08-01</td>\n",
       "      <td>1</td>\n",
       "      <td>Strength</td>\n",
       "      <td>90.0</td>\n",
       "      <td>4.0</td>\n",
       "      <td>360.0</td>\n",
       "      <td>540.0</td>\n",
       "      <td>77.1</td>\n",
       "      <td>19.29</td>\n",
       "      <td>4.00</td>\n",
       "      <td>high</td>\n",
       "    </tr>\n",
       "    <tr>\n",
       "      <th>2</th>\n",
       "      <td>2017-08-01</td>\n",
       "      <td>3</td>\n",
       "      <td>Speed</td>\n",
       "      <td>45.0</td>\n",
       "      <td>5.0</td>\n",
       "      <td>225.0</td>\n",
       "      <td>675.0</td>\n",
       "      <td>96.4</td>\n",
       "      <td>24.11</td>\n",
       "      <td>4.00</td>\n",
       "      <td>high</td>\n",
       "    </tr>\n",
       "    <tr>\n",
       "      <th>3</th>\n",
       "      <td>2017-08-01</td>\n",
       "      <td>3</td>\n",
       "      <td>Strength</td>\n",
       "      <td>90.0</td>\n",
       "      <td>5.0</td>\n",
       "      <td>450.0</td>\n",
       "      <td>675.0</td>\n",
       "      <td>96.4</td>\n",
       "      <td>24.11</td>\n",
       "      <td>4.00</td>\n",
       "      <td>high</td>\n",
       "    </tr>\n",
       "    <tr>\n",
       "      <th>4</th>\n",
       "      <td>2017-08-01</td>\n",
       "      <td>5</td>\n",
       "      <td>Speed</td>\n",
       "      <td>30.0</td>\n",
       "      <td>3.0</td>\n",
       "      <td>90.0</td>\n",
       "      <td>330.0</td>\n",
       "      <td>47.1</td>\n",
       "      <td>11.79</td>\n",
       "      <td>3.99</td>\n",
       "      <td>high</td>\n",
       "    </tr>\n",
       "  </tbody>\n",
       "</table>\n",
       "</div>"
      ],
      "text/plain": [
       "         Date  PlayerID SessionType  Duration  RPE  SessionLoad  DailyLoad  \\\n",
       "0  2017-08-01         1       Speed      60.0  3.0        180.0      540.0   \n",
       "1  2017-08-01         1    Strength      90.0  4.0        360.0      540.0   \n",
       "2  2017-08-01         3       Speed      45.0  5.0        225.0      675.0   \n",
       "3  2017-08-01         3    Strength      90.0  5.0        450.0      675.0   \n",
       "4  2017-08-01         5       Speed      30.0  3.0         90.0      330.0   \n",
       "\n",
       "   AcuteLoad  ChronicLoad  AcuteChronicRatio Load Status  \n",
       "0       77.1        19.29               4.00        high  \n",
       "1       77.1        19.29               4.00        high  \n",
       "2       96.4        24.11               4.00        high  \n",
       "3       96.4        24.11               4.00        high  \n",
       "4       47.1        11.79               3.99        high  "
      ]
     },
     "execution_count": 11,
     "metadata": {},
     "output_type": "execute_result"
    }
   ],
   "source": [
    "df_rpe.head()"
   ]
  },
  {
   "cell_type": "markdown",
   "metadata": {},
   "source": [
    "## Some Visualizations"
   ]
  },
  {
   "cell_type": "code",
   "execution_count": 13,
   "metadata": {},
   "outputs": [
    {
     "data": {
      "text/plain": [
       "SessionType\n",
       "Combat                171\n",
       "Conditioning          783\n",
       "Game                  185\n",
       "Mobility/Recovery     790\n",
       "Skills               1522\n",
       "Speed                1075\n",
       "Strength             1642\n",
       "Name: SessionType, dtype: int64"
      ]
     },
     "execution_count": 13,
     "metadata": {},
     "output_type": "execute_result"
    }
   ],
   "source": [
    "df.groupby(df_rpe[\"SessionType\"])[\"SessionType\"].count()\n"
   ]
  },
  {
   "cell_type": "code",
   "execution_count": 14,
   "metadata": {},
   "outputs": [
    {
     "data": {
      "text/plain": [
       "<Figure size 7200x3600 with 0 Axes>"
      ]
     },
     "execution_count": 14,
     "metadata": {},
     "output_type": "execute_result"
    },
    {
     "data": {
      "image/png": "[encoded data removed]",
      "text/plain": [
       "<Figure size 432x288 with 1 Axes>"
      ]
     },
     "metadata": {
      "needs_background": "light"
     },
     "output_type": "display_data"
    },
    {
     "data": {
      "text/plain": [
       "<Figure size 7200x3600 with 0 Axes>"
      ]
     },
     "metadata": {},
     "output_type": "display_data"
    }
   ],
   "source": [
    "df_rpe.boxplot(column = 'RPE',by = 'SessionType')\n",
    "plt.figure(figsize=(100,50))"
   ]
  },
  {
   "cell_type": "markdown",
   "metadata": {},
   "source": [
    "In order to confirm what variables will affect RPE, we conduct Tukey Test on multiple variables. The first one is as below, which is the impact of SessionType on RPE. The null hypothesis is the mean of each pair of groups are equal. From here, we can see most of null hypothesis are rejected. We can conclude that SessionType will have impact on RPE."
   ]
  },
  {
   "cell_type": "code",
   "execution_count": 23,
   "metadata": {},
   "outputs": [
    {
     "data": {
      "text/html": [
       "<table class=\"simpletable\">\n",
       "<caption>Multiple Comparison of Means - Tukey HSD, FWER=0.05</caption>\n",
       "<tr>\n",
       "       <th>group1</th>            <th>group2</th>       <th>meandiff</th>  <th>p-adj</th>  <th>lower</th>   <th>upper</th>  <th>reject</th>\n",
       "</tr>\n",
       "<tr>\n",
       "       <td>Combat</td>         <td>Conditioning</td>     <td>2.0649</td>   <td>0.001</td> <td>1.7055</td>  <td>2.4243</td>   <td>True</td> \n",
       "</tr>\n",
       "<tr>\n",
       "       <td>Combat</td>             <td>Game</td>         <td>2.0616</td>   <td>0.001</td> <td>1.6236</td>  <td>2.4997</td>   <td>True</td> \n",
       "</tr>\n",
       "<tr>\n",
       "       <td>Combat</td>       <td>Mobility/Recovery</td>  <td>-3.1434</td>  <td>0.001</td> <td>-3.5006</td> <td>-2.7862</td>  <td>True</td> \n",
       "</tr>\n",
       "<tr>\n",
       "       <td>Combat</td>            <td>Skills</td>        <td>-0.1644</td> <td>0.7673</td> <td>-0.5069</td> <td>0.1782</td>   <td>False</td>\n",
       "</tr>\n",
       "<tr>\n",
       "       <td>Combat</td>             <td>Speed</td>        <td>-0.1779</td> <td>0.7177</td> <td>-0.5278</td>  <td>0.172</td>   <td>False</td>\n",
       "</tr>\n",
       "<tr>\n",
       "       <td>Combat</td>           <td>Strength</td>       <td>0.8625</td>   <td>0.001</td> <td>0.5209</td>  <td>1.2041</td>   <td>True</td> \n",
       "</tr>\n",
       "<tr>\n",
       "    <td>Conditioning</td>          <td>Game</td>         <td>-0.0033</td>   <td>0.9</td>  <td>-0.3336</td> <td>0.3271</td>   <td>False</td>\n",
       "</tr>\n",
       "<tr>\n",
       "    <td>Conditioning</td>    <td>Mobility/Recovery</td>  <td>-5.2083</td>  <td>0.001</td>  <td>-5.42</td>  <td>-4.9965</td>  <td>True</td> \n",
       "</tr>\n",
       "<tr>\n",
       "    <td>Conditioning</td>         <td>Skills</td>        <td>-2.2293</td>  <td>0.001</td> <td>-2.4153</td> <td>-2.0433</td>  <td>True</td> \n",
       "</tr>\n",
       "<tr>\n",
       "    <td>Conditioning</td>          <td>Speed</td>        <td>-2.2428</td>  <td>0.001</td> <td>-2.4421</td> <td>-2.0436</td>  <td>True</td> \n",
       "</tr>\n",
       "<tr>\n",
       "    <td>Conditioning</td>        <td>Strength</td>       <td>-1.2024</td>  <td>0.001</td> <td>-1.3867</td> <td>-1.0181</td>  <td>True</td> \n",
       "</tr>\n",
       "<tr>\n",
       "        <td>Game</td>        <td>Mobility/Recovery</td>  <td>-5.205</td>   <td>0.001</td> <td>-5.533</td>  <td>-4.877</td>   <td>True</td> \n",
       "</tr>\n",
       "<tr>\n",
       "        <td>Game</td>             <td>Skills</td>        <td>-2.226</td>   <td>0.001</td> <td>-2.538</td>  <td>-1.9141</td>  <td>True</td> \n",
       "</tr>\n",
       "<tr>\n",
       "        <td>Game</td>              <td>Speed</td>        <td>-2.2396</td>  <td>0.001</td> <td>-2.5596</td> <td>-1.9195</td>  <td>True</td> \n",
       "</tr>\n",
       "<tr>\n",
       "        <td>Game</td>            <td>Strength</td>       <td>-1.1991</td>  <td>0.001</td>  <td>-1.51</td>  <td>-0.8882</td>  <td>True</td> \n",
       "</tr>\n",
       "<tr>\n",
       "  <td>Mobility/Recovery</td>      <td>Skills</td>         <td>2.979</td>   <td>0.001</td> <td>2.7972</td>  <td>3.1607</td>   <td>True</td> \n",
       "</tr>\n",
       "<tr>\n",
       "  <td>Mobility/Recovery</td>       <td>Speed</td>        <td>2.9654</td>   <td>0.001</td> <td>2.7702</td>  <td>3.1607</td>   <td>True</td> \n",
       "</tr>\n",
       "<tr>\n",
       "  <td>Mobility/Recovery</td>     <td>Strength</td>       <td>4.0059</td>   <td>0.001</td> <td>3.8259</td>  <td>4.1859</td>   <td>True</td> \n",
       "</tr>\n",
       "<tr>\n",
       "       <td>Skills</td>             <td>Speed</td>        <td>-0.0135</td>   <td>0.9</td>  <td>-0.1805</td> <td>0.1535</td>   <td>False</td>\n",
       "</tr>\n",
       "<tr>\n",
       "       <td>Skills</td>           <td>Strength</td>       <td>1.0269</td>   <td>0.001</td> <td>0.8781</td>  <td>1.1757</td>   <td>True</td> \n",
       "</tr>\n",
       "<tr>\n",
       "        <td>Speed</td>           <td>Strength</td>       <td>1.0404</td>   <td>0.001</td> <td>0.8754</td>  <td>1.2055</td>   <td>True</td> \n",
       "</tr>\n",
       "</table>"
      ],
      "text/plain": [
       "<class 'statsmodels.iolib.table.SimpleTable'>"
      ]
     },
     "execution_count": 23,
     "metadata": {},
     "output_type": "execute_result"
    }
   ],
   "source": [
    "pairwise_tukeyhsd(df_rpe[\"RPE\"],df_rpe[\"SessionType\"]).summary()"
   ]
  },
  {
   "cell_type": "code",
   "execution_count": 24,
   "metadata": {},
   "outputs": [
    {
     "data": {
      "text/html": [
       "<table class=\"simpletable\">\n",
       "<caption>Multiple Comparison of Means - Tukey HSD, FWER=0.05</caption>\n",
       "<tr>\n",
       "  <th>group1</th>   <th>group2</th>   <th>meandiff</th> <th>p-adj</th>  <th>lower</th>   <th>upper</th>  <th>reject</th>\n",
       "</tr>\n",
       "<tr>\n",
       "   <td>high</td>    <td>normal</td>    <td>-0.3439</td> <td>0.001</td> <td>-0.4852</td> <td>-0.2026</td>  <td>True</td> \n",
       "</tr>\n",
       "<tr>\n",
       "   <td>high</td>  <td>recovering</td>  <td>-0.6984</td> <td>0.001</td> <td>-0.8415</td> <td>-0.5552</td>  <td>True</td> \n",
       "</tr>\n",
       "<tr>\n",
       "  <td>normal</td> <td>recovering</td>  <td>-0.3545</td> <td>0.001</td> <td>-0.4979</td> <td>-0.211</td>   <td>True</td> \n",
       "</tr>\n",
       "</table>"
      ],
      "text/plain": [
       "<class 'statsmodels.iolib.table.SimpleTable'>"
      ]
     },
     "execution_count": 24,
     "metadata": {},
     "output_type": "execute_result"
    }
   ],
   "source": [
    "pairwise_tukeyhsd(df_rpe[\"RPE\"],df_rpe[\"Load_Status\"]).summary()"
   ]
  },
  {
   "cell_type": "markdown",
   "metadata": {},
   "source": [
    "Since most of groups have different mean for RPE, we can include that Load Status is highly correlated to RPE"
   ]
  },
  {
   "cell_type": "code",
   "execution_count": 25,
   "metadata": {},
   "outputs": [
    {
     "data": {
      "text/plain": [
       "<matplotlib.axes._subplots.AxesSubplot at 0x1a2870b6a0>"
      ]
     },
     "execution_count": 25,
     "metadata": {},
     "output_type": "execute_result"
    },
    {
     "data": {
      "image/png": "[encoded data removed]",
      "text/plain": [
       "<Figure size 432x288 with 1 Axes>"
      ]
     },
     "metadata": {
      "needs_background": "light"
     },
     "output_type": "display_data"
    }
   ],
   "source": [
    "df.boxplot(column = 'Duration',by = 'SessionType')"
   ]
  },
  {
   "cell_type": "code",
   "execution_count": 26,
   "metadata": {},
   "outputs": [
    {
     "data": {
      "text/html": [
       "<table class=\"simpletable\">\n",
       "<caption>Multiple Comparison of Means - Tukey HSD, FWER=0.05</caption>\n",
       "<tr>\n",
       "       <th>group1</th>            <th>group2</th>       <th>meandiff</th>  <th>p-adj</th>   <th>lower</th>    <th>upper</th>  <th>reject</th>\n",
       "</tr>\n",
       "<tr>\n",
       "       <td>Combat</td>         <td>Conditioning</td>     <td>8.3906</td>   <td>0.001</td>  <td>3.4943</td>   <td>13.287</td>   <td>True</td> \n",
       "</tr>\n",
       "<tr>\n",
       "       <td>Combat</td>             <td>Game</td>        <td>-13.6171</td>  <td>0.001</td> <td>-19.5848</td>  <td>-7.6494</td>  <td>True</td> \n",
       "</tr>\n",
       "<tr>\n",
       "       <td>Combat</td>       <td>Mobility/Recovery</td>  <td>-2.2146</td> <td>0.8103</td>  <td>-7.0811</td>  <td>2.6518</td>   <td>False</td>\n",
       "</tr>\n",
       "<tr>\n",
       "       <td>Combat</td>            <td>Skills</td>        <td>27.3041</td>  <td>0.001</td>  <td>22.6372</td>  <td>31.9711</td>  <td>True</td> \n",
       "</tr>\n",
       "<tr>\n",
       "       <td>Combat</td>             <td>Speed</td>        <td>4.6144</td>  <td>0.0654</td>  <td>-0.1529</td>  <td>9.3816</td>   <td>False</td>\n",
       "</tr>\n",
       "<tr>\n",
       "       <td>Combat</td>           <td>Strength</td>       <td>37.7416</td>  <td>0.001</td>  <td>33.0872</td>  <td>42.396</td>   <td>True</td> \n",
       "</tr>\n",
       "<tr>\n",
       "    <td>Conditioning</td>          <td>Game</td>        <td>-22.0077</td>  <td>0.001</td> <td>-26.5084</td> <td>-17.5071</td>  <td>True</td> \n",
       "</tr>\n",
       "<tr>\n",
       "    <td>Conditioning</td>    <td>Mobility/Recovery</td> <td>-10.6053</td>  <td>0.001</td> <td>-13.4905</td>   <td>-7.72</td>   <td>True</td> \n",
       "</tr>\n",
       "<tr>\n",
       "    <td>Conditioning</td>         <td>Skills</td>        <td>18.9135</td>  <td>0.001</td>  <td>16.3792</td>  <td>21.4478</td>  <td>True</td> \n",
       "</tr>\n",
       "<tr>\n",
       "    <td>Conditioning</td>          <td>Speed</td>        <td>-3.7763</td>  <td>0.001</td>  <td>-6.4909</td>  <td>-1.0617</td>  <td>True</td> \n",
       "</tr>\n",
       "<tr>\n",
       "    <td>Conditioning</td>        <td>Strength</td>       <td>29.3509</td>  <td>0.001</td>  <td>26.8398</td>  <td>31.8621</td>  <td>True</td> \n",
       "</tr>\n",
       "<tr>\n",
       "        <td>Game</td>        <td>Mobility/Recovery</td>  <td>11.4025</td>  <td>0.001</td>  <td>6.9343</td>   <td>15.8706</td>  <td>True</td> \n",
       "</tr>\n",
       "<tr>\n",
       "        <td>Game</td>             <td>Skills</td>        <td>40.9212</td>  <td>0.001</td>  <td>36.6713</td>  <td>45.1712</td>  <td>True</td> \n",
       "</tr>\n",
       "<tr>\n",
       "        <td>Game</td>              <td>Speed</td>        <td>18.2314</td>  <td>0.001</td>  <td>13.8716</td>  <td>22.5913</td>  <td>True</td> \n",
       "</tr>\n",
       "<tr>\n",
       "        <td>Game</td>            <td>Strength</td>       <td>51.3587</td>  <td>0.001</td>  <td>47.1225</td>  <td>55.5949</td>  <td>True</td> \n",
       "</tr>\n",
       "<tr>\n",
       "  <td>Mobility/Recovery</td>      <td>Skills</td>        <td>29.5188</td>  <td>0.001</td>  <td>27.0427</td>  <td>31.9948</td>  <td>True</td> \n",
       "</tr>\n",
       "<tr>\n",
       "  <td>Mobility/Recovery</td>       <td>Speed</td>         <td>6.829</td>   <td>0.001</td>  <td>4.1687</td>   <td>9.4893</td>   <td>True</td> \n",
       "</tr>\n",
       "<tr>\n",
       "  <td>Mobility/Recovery</td>     <td>Strength</td>       <td>39.9562</td>  <td>0.001</td>  <td>37.5038</td>  <td>42.4086</td>  <td>True</td> \n",
       "</tr>\n",
       "<tr>\n",
       "       <td>Skills</td>             <td>Speed</td>       <td>-22.6898</td>  <td>0.001</td> <td>-24.9647</td> <td>-20.4148</td>  <td>True</td> \n",
       "</tr>\n",
       "<tr>\n",
       "       <td>Skills</td>           <td>Strength</td>       <td>10.4375</td>  <td>0.001</td>  <td>8.4096</td>   <td>12.4653</td>  <td>True</td> \n",
       "</tr>\n",
       "<tr>\n",
       "        <td>Speed</td>           <td>Strength</td>       <td>33.1272</td>  <td>0.001</td>  <td>30.8781</td>  <td>35.3764</td>  <td>True</td> \n",
       "</tr>\n",
       "</table>"
      ],
      "text/plain": [
       "<class 'statsmodels.iolib.table.SimpleTable'>"
      ]
     },
     "execution_count": 26,
     "metadata": {},
     "output_type": "execute_result"
    }
   ],
   "source": [
    "pairwise_tukeyhsd(df_rpe[\"Duration\"],df_rpe[\"SessionType\"]).summary()"
   ]
  },
  {
   "cell_type": "code",
   "execution_count": 29,
   "metadata": {},
   "outputs": [
    {
     "data": {
      "text/plain": [
       "Load_Status\n",
       "high          2451\n",
       "normal        2430\n",
       "recovering    2311\n",
       "Name: Load_Status, dtype: int64"
      ]
     },
     "execution_count": 29,
     "metadata": {},
     "output_type": "execute_result"
    }
   ],
   "source": [
    "df_rpe.groupby(df_rpe[\"Load_Status\"])[\"Load_Status\"].count()\n"
   ]
  },
  {
   "cell_type": "markdown",
   "metadata": {},
   "source": [
    "### Factor Analysis"
   ]
  },
  {
   "cell_type": "code",
   "execution_count": 31,
   "metadata": {},
   "outputs": [
    {
     "data": {
      "text/plain": [
       "(31406.403020206555, 0.0)"
      ]
     },
     "execution_count": 31,
     "metadata": {},
     "output_type": "execute_result"
    }
   ],
   "source": [
    "from factor_analyzer.factor_analyzer import calculate_bartlett_sphericity\n",
    "chi_square_value,p_value=calculate_bartlett_sphericity(df_rpe)\n",
    "chi_square_value, p_value"
   ]
  },
  {
   "cell_type": "markdown",
   "metadata": {},
   "source": [
    "In this Bartlett ’s test, the p-value is nearly 0. The test was statistically significant, indicating that the observed correlation matrix is not an identity matrix."
   ]
  },
  {
   "cell_type": "code",
   "execution_count": 33,
   "metadata": {},
   "outputs": [],
   "source": [
    "df_part = df_rpe[[\"Duration\",\"RPE\",\"SessionLoad\",\"DailyLoad\",\n",
    "                  \"AcuteLoad\",\"ChronicLoad\",\"AcuteChronicRatio\"]]"
   ]
  },
  {
   "cell_type": "code",
   "execution_count": 34,
   "metadata": {},
   "outputs": [
    {
     "data": {
      "text/html": [
       "<div>\n",
       "<style scoped>\n",
       "    .dataframe tbody tr th:only-of-type {\n",
       "        vertical-align: middle;\n",
       "    }\n",
       "\n",
       "    .dataframe tbody tr th {\n",
       "        vertical-align: top;\n",
       "    }\n",
       "\n",
       "    .dataframe thead th {\n",
       "        text-align: right;\n",
       "    }\n",
       "</style>\n",
       "<table border=\"1\" class=\"dataframe\">\n",
       "  <thead>\n",
       "    <tr style=\"text-align: right;\">\n",
       "      <th></th>\n",
       "      <th>Original_Eigenvalues</th>\n",
       "    </tr>\n",
       "  </thead>\n",
       "  <tbody>\n",
       "    <tr>\n",
       "      <th>0</th>\n",
       "      <td>2.972944</td>\n",
       "    </tr>\n",
       "    <tr>\n",
       "      <th>1</th>\n",
       "      <td>1.550703</td>\n",
       "    </tr>\n",
       "    <tr>\n",
       "      <th>2</th>\n",
       "      <td>1.181557</td>\n",
       "    </tr>\n",
       "    <tr>\n",
       "      <th>3</th>\n",
       "      <td>0.687368</td>\n",
       "    </tr>\n",
       "    <tr>\n",
       "      <th>4</th>\n",
       "      <td>0.421093</td>\n",
       "    </tr>\n",
       "    <tr>\n",
       "      <th>5</th>\n",
       "      <td>0.115795</td>\n",
       "    </tr>\n",
       "    <tr>\n",
       "      <th>6</th>\n",
       "      <td>0.070539</td>\n",
       "    </tr>\n",
       "  </tbody>\n",
       "</table>\n",
       "</div>"
      ],
      "text/plain": [
       "   Original_Eigenvalues\n",
       "0              2.972944\n",
       "1              1.550703\n",
       "2              1.181557\n",
       "3              0.687368\n",
       "4              0.421093\n",
       "5              0.115795\n",
       "6              0.070539"
      ]
     },
     "execution_count": 34,
     "metadata": {},
     "output_type": "execute_result"
    }
   ],
   "source": [
    "#Factor Analysis \n",
    "\n",
    "from factor_analyzer import FactorAnalyzer\n",
    "fa = FactorAnalyzer()\n",
    "fa.analyze(df_part, 7, rotation=None)\n",
    "# Check Eigenvalues\n",
    "ev, v = fa.get_eigenvalues()\n",
    "ev"
   ]
  },
  {
   "cell_type": "code",
   "execution_count": 35,
   "metadata": {},
   "outputs": [
    {
     "data": {
      "image/png": "[encoded data removed]",
      "text/plain": [
       "<Figure size 432x288 with 1 Axes>"
      ]
     },
     "metadata": {
      "needs_background": "light"
     },
     "output_type": "display_data"
    }
   ],
   "source": [
    "plt.scatter(range(1,7+1),ev)\n",
    "plt.plot(range(1,7+1),ev)\n",
    "\n",
    "plt.xlabel('Factors')\n",
    "plt.ylabel('Eigenvalue')\n",
    "plt.grid()\n",
    "plt.show()"
   ]
  },
  {
   "cell_type": "markdown",
   "metadata": {},
   "source": [
    "There are 3 eigenvalues greater than 1, which means 3 factors should be considered."
   ]
  },
  {
   "cell_type": "code",
   "execution_count": 36,
   "metadata": {},
   "outputs": [
    {
     "data": {
      "text/html": [
       "<div>\n",
       "<style scoped>\n",
       "    .dataframe tbody tr th:only-of-type {\n",
       "        vertical-align: middle;\n",
       "    }\n",
       "\n",
       "    .dataframe tbody tr th {\n",
       "        vertical-align: top;\n",
       "    }\n",
       "\n",
       "    .dataframe thead th {\n",
       "        text-align: right;\n",
       "    }\n",
       "</style>\n",
       "<table border=\"1\" class=\"dataframe\">\n",
       "  <thead>\n",
       "    <tr style=\"text-align: right;\">\n",
       "      <th></th>\n",
       "      <th>Factor1</th>\n",
       "      <th>Factor2</th>\n",
       "      <th>Factor3</th>\n",
       "    </tr>\n",
       "  </thead>\n",
       "  <tbody>\n",
       "    <tr>\n",
       "      <th>Duration</th>\n",
       "      <td>0.704403</td>\n",
       "      <td>0.041360</td>\n",
       "      <td>0.074935</td>\n",
       "    </tr>\n",
       "    <tr>\n",
       "      <th>RPE</th>\n",
       "      <td>0.606111</td>\n",
       "      <td>0.009468</td>\n",
       "      <td>0.152493</td>\n",
       "    </tr>\n",
       "    <tr>\n",
       "      <th>SessionLoad</th>\n",
       "      <td>1.025965</td>\n",
       "      <td>0.015627</td>\n",
       "      <td>0.133822</td>\n",
       "    </tr>\n",
       "    <tr>\n",
       "      <th>DailyLoad</th>\n",
       "      <td>0.461509</td>\n",
       "      <td>0.117824</td>\n",
       "      <td>0.504339</td>\n",
       "    </tr>\n",
       "    <tr>\n",
       "      <th>AcuteLoad</th>\n",
       "      <td>0.166842</td>\n",
       "      <td>0.112676</td>\n",
       "      <td>0.967606</td>\n",
       "    </tr>\n",
       "    <tr>\n",
       "      <th>ChronicLoad</th>\n",
       "      <td>0.058258</td>\n",
       "      <td>-0.582994</td>\n",
       "      <td>0.637376</td>\n",
       "    </tr>\n",
       "    <tr>\n",
       "      <th>AcuteChronicRatio</th>\n",
       "      <td>0.087478</td>\n",
       "      <td>0.983429</td>\n",
       "      <td>0.143356</td>\n",
       "    </tr>\n",
       "  </tbody>\n",
       "</table>\n",
       "</div>"
      ],
      "text/plain": [
       "                    Factor1   Factor2   Factor3\n",
       "Duration           0.704403  0.041360  0.074935\n",
       "RPE                0.606111  0.009468  0.152493\n",
       "SessionLoad        1.025965  0.015627  0.133822\n",
       "DailyLoad          0.461509  0.117824  0.504339\n",
       "AcuteLoad          0.166842  0.112676  0.967606\n",
       "ChronicLoad        0.058258 -0.582994  0.637376\n",
       "AcuteChronicRatio  0.087478  0.983429  0.143356"
      ]
     },
     "execution_count": 36,
     "metadata": {},
     "output_type": "execute_result"
    }
   ],
   "source": [
    "fa = FactorAnalyzer()\n",
    "fa.analyze(df_part, 3, rotation=\"varimax\")\n",
    "fa.loadings\n"
   ]
  },
  {
   "cell_type": "code",
   "execution_count": 38,
   "metadata": {},
   "outputs": [],
   "source": [
    "df_per = pd.read_csv('https://raw.githubusercontent.com/weilixiang/sta2453_project1/master/Clean%20Data/' +\n",
    "                          'PerformanceMeasure.csv')"
   ]
  },
  {
   "cell_type": "code",
   "execution_count": 40,
   "metadata": {},
   "outputs": [
    {
     "data": {
      "text/html": [
       "<div>\n",
       "<style scoped>\n",
       "    .dataframe tbody tr th:only-of-type {\n",
       "        vertical-align: middle;\n",
       "    }\n",
       "\n",
       "    .dataframe tbody tr th {\n",
       "        vertical-align: top;\n",
       "    }\n",
       "\n",
       "    .dataframe thead th {\n",
       "        text-align: right;\n",
       "    }\n",
       "</style>\n",
       "<table border=\"1\" class=\"dataframe\">\n",
       "  <thead>\n",
       "    <tr style=\"text-align: right;\">\n",
       "      <th></th>\n",
       "      <th>GameID</th>\n",
       "      <th>Date</th>\n",
       "      <th>PlayerID</th>\n",
       "      <th>AccelImpulse</th>\n",
       "      <th>AccelLoad</th>\n",
       "      <th>Speed</th>\n",
       "      <th>PerformanceScore</th>\n",
       "      <th>Outcome</th>\n",
       "      <th>PointsDiff</th>\n",
       "      <th>train_date</th>\n",
       "    </tr>\n",
       "  </thead>\n",
       "  <tbody>\n",
       "    <tr>\n",
       "      <th>0</th>\n",
       "      <td>1</td>\n",
       "      <td>2017-11-30</td>\n",
       "      <td>2</td>\n",
       "      <td>0.524367</td>\n",
       "      <td>0.264378</td>\n",
       "      <td>0.754193</td>\n",
       "      <td>51.431257</td>\n",
       "      <td>W</td>\n",
       "      <td>19</td>\n",
       "      <td>2017-11-29</td>\n",
       "    </tr>\n",
       "    <tr>\n",
       "      <th>1</th>\n",
       "      <td>2</td>\n",
       "      <td>2017-11-30</td>\n",
       "      <td>2</td>\n",
       "      <td>0.524367</td>\n",
       "      <td>0.264378</td>\n",
       "      <td>0.754193</td>\n",
       "      <td>51.431257</td>\n",
       "      <td>W</td>\n",
       "      <td>31</td>\n",
       "      <td>2017-11-29</td>\n",
       "    </tr>\n",
       "    <tr>\n",
       "      <th>2</th>\n",
       "      <td>3</td>\n",
       "      <td>2017-11-30</td>\n",
       "      <td>2</td>\n",
       "      <td>0.524367</td>\n",
       "      <td>0.264378</td>\n",
       "      <td>0.754193</td>\n",
       "      <td>51.431257</td>\n",
       "      <td>W</td>\n",
       "      <td>17</td>\n",
       "      <td>2017-11-29</td>\n",
       "    </tr>\n",
       "    <tr>\n",
       "      <th>3</th>\n",
       "      <td>1</td>\n",
       "      <td>2017-11-30</td>\n",
       "      <td>3</td>\n",
       "      <td>0.452520</td>\n",
       "      <td>0.333518</td>\n",
       "      <td>0.753256</td>\n",
       "      <td>51.309794</td>\n",
       "      <td>W</td>\n",
       "      <td>19</td>\n",
       "      <td>2017-11-29</td>\n",
       "    </tr>\n",
       "    <tr>\n",
       "      <th>4</th>\n",
       "      <td>2</td>\n",
       "      <td>2017-11-30</td>\n",
       "      <td>3</td>\n",
       "      <td>0.452520</td>\n",
       "      <td>0.333518</td>\n",
       "      <td>0.753256</td>\n",
       "      <td>51.309794</td>\n",
       "      <td>W</td>\n",
       "      <td>31</td>\n",
       "      <td>2017-11-29</td>\n",
       "    </tr>\n",
       "  </tbody>\n",
       "</table>\n",
       "</div>"
      ],
      "text/plain": [
       "   GameID        Date  PlayerID  AccelImpulse  AccelLoad     Speed  \\\n",
       "0       1  2017-11-30         2      0.524367   0.264378  0.754193   \n",
       "1       2  2017-11-30         2      0.524367   0.264378  0.754193   \n",
       "2       3  2017-11-30         2      0.524367   0.264378  0.754193   \n",
       "3       1  2017-11-30         3      0.452520   0.333518  0.753256   \n",
       "4       2  2017-11-30         3      0.452520   0.333518  0.753256   \n",
       "\n",
       "   PerformanceScore Outcome  PointsDiff  train_date  \n",
       "0         51.431257       W          19  2017-11-29  \n",
       "1         51.431257       W          31  2017-11-29  \n",
       "2         51.431257       W          17  2017-11-29  \n",
       "3         51.309794       W          19  2017-11-29  \n",
       "4         51.309794       W          31  2017-11-29  "
      ]
     },
     "execution_count": 40,
     "metadata": {},
     "output_type": "execute_result"
    }
   ],
   "source": [
    "from datetime import datetime  \n",
    "from datetime import timedelta\n",
    "\n",
    "fmt = '%Y-%m-%d'\n",
    "df_per[\"train_date\"]  = (pd.to_datetime(df_per[\"Date\"], format=fmt) - pd.Timedelta('1 days')).dt.strftime(date_format=fmt)\n",
    "df_per.head()"
   ]
  },
  {
   "cell_type": "code",
   "execution_count": 42,
   "metadata": {},
   "outputs": [
    {
     "data": {
      "text/html": [
       "<div>\n",
       "<style scoped>\n",
       "    .dataframe tbody tr th:only-of-type {\n",
       "        vertical-align: middle;\n",
       "    }\n",
       "\n",
       "    .dataframe tbody tr th {\n",
       "        vertical-align: top;\n",
       "    }\n",
       "\n",
       "    .dataframe thead th {\n",
       "        text-align: right;\n",
       "    }\n",
       "</style>\n",
       "<table border=\"1\" class=\"dataframe\">\n",
       "  <thead>\n",
       "    <tr style=\"text-align: right;\">\n",
       "      <th></th>\n",
       "      <th>Date_x</th>\n",
       "      <th>PlayerID</th>\n",
       "      <th>FactorSessionLoad</th>\n",
       "      <th>FactorRatio</th>\n",
       "      <th>FactorAcuteLoad</th>\n",
       "      <th>GameID</th>\n",
       "      <th>Date_y</th>\n",
       "      <th>AccelImpulse</th>\n",
       "      <th>AccelLoad</th>\n",
       "      <th>Speed</th>\n",
       "      <th>PerformanceScore</th>\n",
       "      <th>Outcome</th>\n",
       "      <th>PointsDiff</th>\n",
       "      <th>train_date</th>\n",
       "    </tr>\n",
       "  </thead>\n",
       "  <tbody>\n",
       "    <tr>\n",
       "      <th>2690</th>\n",
       "      <td>2017-11-29</td>\n",
       "      <td>2</td>\n",
       "      <td>652.915819</td>\n",
       "      <td>-140.374072</td>\n",
       "      <td>645.674315</td>\n",
       "      <td>1.0</td>\n",
       "      <td>2017-11-30</td>\n",
       "      <td>0.524367</td>\n",
       "      <td>0.264378</td>\n",
       "      <td>0.754193</td>\n",
       "      <td>51.431257</td>\n",
       "      <td>W</td>\n",
       "      <td>19.0</td>\n",
       "      <td>2017-11-29</td>\n",
       "    </tr>\n",
       "    <tr>\n",
       "      <th>2691</th>\n",
       "      <td>2017-11-29</td>\n",
       "      <td>2</td>\n",
       "      <td>652.915819</td>\n",
       "      <td>-140.374072</td>\n",
       "      <td>645.674315</td>\n",
       "      <td>2.0</td>\n",
       "      <td>2017-11-30</td>\n",
       "      <td>0.524367</td>\n",
       "      <td>0.264378</td>\n",
       "      <td>0.754193</td>\n",
       "      <td>51.431257</td>\n",
       "      <td>W</td>\n",
       "      <td>31.0</td>\n",
       "      <td>2017-11-29</td>\n",
       "    </tr>\n",
       "    <tr>\n",
       "      <th>2692</th>\n",
       "      <td>2017-11-29</td>\n",
       "      <td>2</td>\n",
       "      <td>652.915819</td>\n",
       "      <td>-140.374072</td>\n",
       "      <td>645.674315</td>\n",
       "      <td>3.0</td>\n",
       "      <td>2017-11-30</td>\n",
       "      <td>0.524367</td>\n",
       "      <td>0.264378</td>\n",
       "      <td>0.754193</td>\n",
       "      <td>51.431257</td>\n",
       "      <td>W</td>\n",
       "      <td>17.0</td>\n",
       "      <td>2017-11-29</td>\n",
       "    </tr>\n",
       "    <tr>\n",
       "      <th>2693</th>\n",
       "      <td>2017-11-29</td>\n",
       "      <td>3</td>\n",
       "      <td>648.036229</td>\n",
       "      <td>-188.874382</td>\n",
       "      <td>758.601087</td>\n",
       "      <td>1.0</td>\n",
       "      <td>2017-11-30</td>\n",
       "      <td>0.452520</td>\n",
       "      <td>0.333518</td>\n",
       "      <td>0.753256</td>\n",
       "      <td>51.309794</td>\n",
       "      <td>W</td>\n",
       "      <td>19.0</td>\n",
       "      <td>2017-11-29</td>\n",
       "    </tr>\n",
       "    <tr>\n",
       "      <th>2694</th>\n",
       "      <td>2017-11-29</td>\n",
       "      <td>3</td>\n",
       "      <td>648.036229</td>\n",
       "      <td>-188.874382</td>\n",
       "      <td>758.601087</td>\n",
       "      <td>2.0</td>\n",
       "      <td>2017-11-30</td>\n",
       "      <td>0.452520</td>\n",
       "      <td>0.333518</td>\n",
       "      <td>0.753256</td>\n",
       "      <td>51.309794</td>\n",
       "      <td>W</td>\n",
       "      <td>31.0</td>\n",
       "      <td>2017-11-29</td>\n",
       "    </tr>\n",
       "  </tbody>\n",
       "</table>\n",
       "</div>"
      ],
      "text/plain": [
       "          Date_x  PlayerID  FactorSessionLoad  FactorRatio  FactorAcuteLoad  \\\n",
       "2690  2017-11-29         2         652.915819  -140.374072       645.674315   \n",
       "2691  2017-11-29         2         652.915819  -140.374072       645.674315   \n",
       "2692  2017-11-29         2         652.915819  -140.374072       645.674315   \n",
       "2693  2017-11-29         3         648.036229  -188.874382       758.601087   \n",
       "2694  2017-11-29         3         648.036229  -188.874382       758.601087   \n",
       "\n",
       "      GameID      Date_y  AccelImpulse  AccelLoad     Speed  PerformanceScore  \\\n",
       "2690     1.0  2017-11-30      0.524367   0.264378  0.754193         51.431257   \n",
       "2691     2.0  2017-11-30      0.524367   0.264378  0.754193         51.431257   \n",
       "2692     3.0  2017-11-30      0.524367   0.264378  0.754193         51.431257   \n",
       "2693     1.0  2017-11-30      0.452520   0.333518  0.753256         51.309794   \n",
       "2694     2.0  2017-11-30      0.452520   0.333518  0.753256         51.309794   \n",
       "\n",
       "     Outcome  PointsDiff  train_date  \n",
       "2690       W        19.0  2017-11-29  \n",
       "2691       W        31.0  2017-11-29  \n",
       "2692       W        17.0  2017-11-29  \n",
       "2693       W        19.0  2017-11-29  \n",
       "2694       W        31.0  2017-11-29  "
      ]
     },
     "execution_count": 42,
     "metadata": {},
     "output_type": "execute_result"
    }
   ],
   "source": [
    "new_df = pd.DataFrame(np.dot(df_part,fa.loadings))\n",
    "new_data = pd.DataFrame({\"Date\":df_rpe[\"Date\"].tolist(),\"PlayerID\":df_rpe[\"PlayerID\"].tolist(),\n",
    "        \"FactorSessionLoad\":new_df[0].tolist(), \"FactorRatio\":new_df[1].tolist(),\n",
    "            \"FactorAcuteLoad\":new_df[2].to_list()})\n",
    "df_factor = pd.merge(new_data, df_per,  how='left',left_on=['Date','PlayerID'],right_on=[\"train_date\",'PlayerID'])\n",
    "df_factor  = df_factor.dropna()\n",
    "df_factor.head()\n"
   ]
  },
  {
   "cell_type": "markdown",
   "metadata": {},
   "source": [
    "### How is new factor?\n",
    "Plot new factors relative to Performance to see if there is any significant pattern or trend"
   ]
  },
  {
   "cell_type": "code",
   "execution_count": 44,
   "metadata": {},
   "outputs": [
    {
     "data": {
      "text/plain": [
       "Text(0, 0.5, 'Acceleration Impulse')"
      ]
     },
     "execution_count": 44,
     "metadata": {},
     "output_type": "execute_result"
    },
    {
     "data": {
      "image/png": "[encoded data removed]",
      "text/plain": [
       "<Figure size 432x288 with 1 Axes>"
      ]
     },
     "metadata": {
      "needs_background": "light"
     },
     "output_type": "display_data"
    }
   ],
   "source": [
    "df_factor.plot(x=\"FactorSessionLoad\",y=\"AccelImpulse\",style=\"o\")\n",
    "plt.ylabel(\"Acceleration Impulse\")"
   ]
  },
  {
   "cell_type": "code",
   "execution_count": 45,
   "metadata": {},
   "outputs": [
    {
     "data": {
      "text/plain": [
       "<matplotlib.axes._subplots.AxesSubplot at 0x1a28a92eb8>"
      ]
     },
     "execution_count": 45,
     "metadata": {},
     "output_type": "execute_result"
    },
    {
     "data": {
      "image/png": "[encoded data removed]",
      "text/plain": [
       "<Figure size 432x288 with 1 Axes>"
      ]
     },
     "metadata": {
      "needs_background": "light"
     },
     "output_type": "display_data"
    }
   ],
   "source": [
    "df_factor.plot(x=\"FactorRatio\",y=\"AccelImpulse\",style=\"o\")"
   ]
  },
  {
   "cell_type": "markdown",
   "metadata": {},
   "source": [
    "We cannot see any clear trend or pattern here, then we decide to take some transformation of our response.\n",
    "The first we can think of is log transformation"
   ]
  },
  {
   "cell_type": "code",
   "execution_count": 48,
   "metadata": {},
   "outputs": [
    {
     "name": "stderr",
     "output_type": "stream",
     "text": [
      "//anaconda3/lib/python3.7/site-packages/ipykernel_launcher.py:1: RuntimeWarning: divide by zero encountered in log\n",
      "  \"\"\"Entry point for launching an IPython kernel.\n"
     ]
    },
    {
     "data": {
      "text/plain": [
       "<matplotlib.axes._subplots.AxesSubplot at 0x1a29d113c8>"
      ]
     },
     "execution_count": 48,
     "metadata": {},
     "output_type": "execute_result"
    },
    {
     "data": {
      "image/png": "[encoded data removed]",
      "text/plain": [
       "<Figure size 432x288 with 1 Axes>"
      ]
     },
     "metadata": {
      "needs_background": "light"
     },
     "output_type": "display_data"
    },
    {
     "data": {
      "image/png": "[encoded data removed]",
      "text/plain": [
       "<Figure size 432x288 with 1 Axes>"
      ]
     },
     "metadata": {
      "needs_background": "light"
     },
     "output_type": "display_data"
    },
    {
     "data": {
      "image/png": "[encoded data removed]",
      "text/plain": [
       "<Figure size 432x288 with 1 Axes>"
      ]
     },
     "metadata": {
      "needs_background": "light"
     },
     "output_type": "display_data"
    }
   ],
   "source": [
    "df_factor[\"LogAccel\"] = np.log(df_factor[\"AccelImpulse\"])\n",
    "df_factor.plot(x=\"FactorSessionLoad\",y=\"LogAccel\",style=\"o\")\n",
    "plt.ylabel(\"Log of Acceleration Impulse\")\n",
    "df_factor.plot(x=\"FactorAcuteLoad\",y=\"LogAccel\",style=\"o\")\n",
    "df_factor.plot(x=\"FactorRatio\",y=\"LogAccel\",style=\"o\")"
   ]
  },
  {
   "cell_type": "markdown",
   "metadata": {},
   "source": [
    "To be honest, data points do not spread out as well. We start to think our measurement for performance is not good if we only use Acceleration Impulse. This is the reason why we have PerformanceScore as a new measurement of performance, which take Acceleration Impulse, Acceleration Load, and Max speed into consideration."
   ]
  },
  {
   "cell_type": "code",
   "execution_count": null,
   "metadata": {},
   "outputs": [],
   "source": []
  },
  {
   "cell_type": "code",
   "execution_count": null,
   "metadata": {},
   "outputs": [],
   "source": []
  }
 ],
 "metadata": {
  "kernelspec": {
   "display_name": "Python 3",
   "language": "python",
   "name": "python3"
  },
  "language_info": {
   "codemirror_mode": {
    "name": "ipython",
    "version": 3
   },
   "file_extension": ".py",
   "mimetype": "text/x-python",
   "name": "python",
   "nbconvert_exporter": "python",
   "pygments_lexer": "ipython3",
   "version": "3.7.3"
  }
 },
 "nbformat": 4,
 "nbformat_minor": 2
}
