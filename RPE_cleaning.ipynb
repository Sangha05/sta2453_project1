{
 "cells": [
  {
   "cell_type": "code",
   "execution_count": 43,
   "metadata": {},
   "outputs": [],
   "source": [
    "import pandas as pd\n",
    "from statsmodels.stats.multicomp import (pairwise_tukeyhsd,MultiComparison)\n",
    "import matplotlib.pyplot as plt\n",
    "import numpy as np\n",
    "from factor_analyzer import FactorAnalyzer"
   ]
  },
  {
   "cell_type": "code",
   "execution_count": 15,
   "metadata": {},
   "outputs": [
    {
     "data": {
      "text/plain": [
       "(8860, 14)"
      ]
     },
     "execution_count": 15,
     "metadata": {},
     "output_type": "execute_result"
    }
   ],
   "source": [
    "rpe_file = '~/Desktop/rpe.csv'\n",
    "rpe_data = pd.read_csv(rpe_file)\n",
    "rpe_data.shape\n"
   ]
  },
  {
   "cell_type": "code",
   "execution_count": 16,
   "metadata": {},
   "outputs": [
    {
     "name": "stdout",
     "output_type": "stream",
     "text": [
      "['Date', 'PlayerID', 'Training', 'SessionType', 'Duration', 'RPE', 'SessionLoad', 'DailyLoad', 'AcuteLoad', 'ChronicLoad', 'AcuteChronicRatio', 'ObjectiveRating', 'FocusRating', 'BestOutOfMyself']\n"
     ]
    }
   ],
   "source": [
    "print(list(rpe_data.columns))"
   ]
  },
  {
   "cell_type": "code",
   "execution_count": 22,
   "metadata": {},
   "outputs": [
    {
     "data": {
      "text/plain": [
       "(3149, 14)"
      ]
     },
     "execution_count": 22,
     "metadata": {},
     "output_type": "execute_result"
    }
   ],
   "source": [
    "rpe_data = rpe_data.dropna(subset=['RPE'])\n",
    "rpe_data = rpe_data.dropna(subset=['SessionType'])\n",
    "rpe_data = rpe_data.dropna(subset=['AcuteChronicRatio'])\n",
    "rpe_data = rpe_data.dropna(subset=['Duration'])\n",
    "rpe_data.shape\n"
   ]
  },
  {
   "cell_type": "code",
   "execution_count": 18,
   "metadata": {},
   "outputs": [
    {
     "data": {
      "text/html": [
       "<div>\n",
       "<style scoped>\n",
       "    .dataframe tbody tr th:only-of-type {\n",
       "        vertical-align: middle;\n",
       "    }\n",
       "\n",
       "    .dataframe tbody tr th {\n",
       "        vertical-align: top;\n",
       "    }\n",
       "\n",
       "    .dataframe thead th {\n",
       "        text-align: right;\n",
       "    }\n",
       "</style>\n",
       "<table border=\"1\" class=\"dataframe\">\n",
       "  <thead>\n",
       "    <tr style=\"text-align: right;\">\n",
       "      <th></th>\n",
       "      <th>Date</th>\n",
       "      <th>PlayerID</th>\n",
       "      <th>Training</th>\n",
       "      <th>SessionType</th>\n",
       "      <th>Duration</th>\n",
       "      <th>RPE</th>\n",
       "      <th>SessionLoad</th>\n",
       "      <th>DailyLoad</th>\n",
       "      <th>AcuteLoad</th>\n",
       "      <th>ChronicLoad</th>\n",
       "      <th>AcuteChronicRatio</th>\n",
       "      <th>ObjectiveRating</th>\n",
       "      <th>FocusRating</th>\n",
       "      <th>BestOutOfMyself</th>\n",
       "    </tr>\n",
       "  </thead>\n",
       "  <tbody>\n",
       "    <tr>\n",
       "      <th>0</th>\n",
       "      <td>2018-07-21</td>\n",
       "      <td>13</td>\n",
       "      <td>Yes</td>\n",
       "      <td>Mobility/Recovery</td>\n",
       "      <td>5.0</td>\n",
       "      <td>0.0</td>\n",
       "      <td>0.0</td>\n",
       "      <td>446.0</td>\n",
       "      <td>323.1</td>\n",
       "      <td>303.25</td>\n",
       "      <td>1.07</td>\n",
       "      <td>NaN</td>\n",
       "      <td>NaN</td>\n",
       "      <td>Not at all</td>\n",
       "    </tr>\n",
       "    <tr>\n",
       "      <th>3</th>\n",
       "      <td>2018-07-20</td>\n",
       "      <td>11</td>\n",
       "      <td>Yes</td>\n",
       "      <td>Game</td>\n",
       "      <td>36.0</td>\n",
       "      <td>6.0</td>\n",
       "      <td>216.0</td>\n",
       "      <td>534.0</td>\n",
       "      <td>256.3</td>\n",
       "      <td>344.18</td>\n",
       "      <td>0.74</td>\n",
       "      <td>9.0</td>\n",
       "      <td>10.0</td>\n",
       "      <td>Absolutely</td>\n",
       "    </tr>\n",
       "    <tr>\n",
       "      <th>6</th>\n",
       "      <td>2018-07-20</td>\n",
       "      <td>13</td>\n",
       "      <td>Yes</td>\n",
       "      <td>Game</td>\n",
       "      <td>27.0</td>\n",
       "      <td>6.0</td>\n",
       "      <td>162.0</td>\n",
       "      <td>306.0</td>\n",
       "      <td>259.4</td>\n",
       "      <td>287.32</td>\n",
       "      <td>0.90</td>\n",
       "      <td>NaN</td>\n",
       "      <td>NaN</td>\n",
       "      <td>Not at all</td>\n",
       "    </tr>\n",
       "    <tr>\n",
       "      <th>9</th>\n",
       "      <td>2018-07-19</td>\n",
       "      <td>1</td>\n",
       "      <td>Yes</td>\n",
       "      <td>Skills</td>\n",
       "      <td>60.0</td>\n",
       "      <td>3.0</td>\n",
       "      <td>180.0</td>\n",
       "      <td>180.0</td>\n",
       "      <td>87.9</td>\n",
       "      <td>140.54</td>\n",
       "      <td>0.63</td>\n",
       "      <td>NaN</td>\n",
       "      <td>NaN</td>\n",
       "      <td>NaN</td>\n",
       "    </tr>\n",
       "    <tr>\n",
       "      <th>10</th>\n",
       "      <td>2018-07-19</td>\n",
       "      <td>2</td>\n",
       "      <td>Yes</td>\n",
       "      <td>Skills</td>\n",
       "      <td>60.0</td>\n",
       "      <td>4.0</td>\n",
       "      <td>240.0</td>\n",
       "      <td>240.0</td>\n",
       "      <td>117.1</td>\n",
       "      <td>279.96</td>\n",
       "      <td>0.42</td>\n",
       "      <td>NaN</td>\n",
       "      <td>NaN</td>\n",
       "      <td>NaN</td>\n",
       "    </tr>\n",
       "  </tbody>\n",
       "</table>\n",
       "</div>"
      ],
      "text/plain": [
       "          Date  PlayerID Training        SessionType  Duration  RPE  \\\n",
       "0   2018-07-21        13      Yes  Mobility/Recovery       5.0  0.0   \n",
       "3   2018-07-20        11      Yes               Game      36.0  6.0   \n",
       "6   2018-07-20        13      Yes               Game      27.0  6.0   \n",
       "9   2018-07-19         1      Yes             Skills      60.0  3.0   \n",
       "10  2018-07-19         2      Yes             Skills      60.0  4.0   \n",
       "\n",
       "    SessionLoad  DailyLoad  AcuteLoad  ChronicLoad  AcuteChronicRatio  \\\n",
       "0           0.0      446.0      323.1       303.25               1.07   \n",
       "3         216.0      534.0      256.3       344.18               0.74   \n",
       "6         162.0      306.0      259.4       287.32               0.90   \n",
       "9         180.0      180.0       87.9       140.54               0.63   \n",
       "10        240.0      240.0      117.1       279.96               0.42   \n",
       "\n",
       "    ObjectiveRating  FocusRating BestOutOfMyself  \n",
       "0               NaN          NaN      Not at all  \n",
       "3               9.0         10.0      Absolutely  \n",
       "6               NaN          NaN      Not at all  \n",
       "9               NaN          NaN             NaN  \n",
       "10              NaN          NaN             NaN  "
      ]
     },
     "execution_count": 18,
     "metadata": {},
     "output_type": "execute_result"
    }
   ],
   "source": [
    "rpe_data.head()\n"
   ]
  },
  {
   "cell_type": "code",
   "execution_count": 19,
   "metadata": {},
   "outputs": [
    {
     "data": {
      "text/plain": [
       "SessionType\n",
       "Conditioning          454\n",
       "Game                  142\n",
       "Mobility/Recovery     427\n",
       "Skills                630\n",
       "Speed                1199\n",
       "Strength              297\n",
       "Name: SessionType, dtype: int64"
      ]
     },
     "execution_count": 19,
     "metadata": {},
     "output_type": "execute_result"
    }
   ],
   "source": [
    "rpe_data.groupby(rpe_data[\"SessionType\"])[\"SessionType\"].count()\n"
   ]
  },
  {
   "cell_type": "code",
   "execution_count": 21,
   "metadata": {},
   "outputs": [
    {
     "data": {
      "text/plain": [
       "<matplotlib.axes._subplots.AxesSubplot at 0x1a17ed5c50>"
      ]
     },
     "execution_count": 21,
     "metadata": {},
     "output_type": "execute_result"
    },
    {
     "data": {
      "image/png": "[encoded data removed]",
      "text/plain": [
       "<Figure size 432x288 with 1 Axes>"
      ]
     },
     "metadata": {
      "needs_background": "light"
     },
     "output_type": "display_data"
    }
   ],
   "source": [
    "rpe_data.boxplot(column = 'RPE',by = 'SessionType')\n"
   ]
  },
  {
   "cell_type": "code",
   "execution_count": 33,
   "metadata": {},
   "outputs": [
    {
     "data": {
      "text/html": [
       "<table class=\"simpletable\">\n",
       "<caption>Multiple Comparison of Means - Tukey HSD, FWER=0.05</caption>\n",
       "<tr>\n",
       "       <th>group1</th>            <th>group2</th>       <th>meandiff</th>  <th>p-adj</th>  <th>lower</th>   <th>upper</th>  <th>reject</th>\n",
       "</tr>\n",
       "<tr>\n",
       "       <td>Combat</td>         <td>Conditioning</td>     <td>2.1053</td>   <td>0.001</td> <td>1.7308</td>  <td>2.4799</td>   <td>True</td> \n",
       "</tr>\n",
       "<tr>\n",
       "       <td>Combat</td>             <td>Game</td>         <td>2.0734</td>   <td>0.001</td> <td>1.6666</td>  <td>2.4803</td>   <td>True</td> \n",
       "</tr>\n",
       "<tr>\n",
       "       <td>Combat</td>       <td>Mobility/Recovery</td>  <td>-3.1398</td>  <td>0.001</td> <td>-3.5134</td> <td>-2.7663</td>  <td>True</td> \n",
       "</tr>\n",
       "<tr>\n",
       "       <td>Combat</td>            <td>Skills</td>        <td>-0.1147</td>   <td>0.9</td>  <td>-0.4737</td> <td>0.2444</td>   <td>False</td>\n",
       "</tr>\n",
       "<tr>\n",
       "       <td>Combat</td>             <td>Speed</td>        <td>-0.1785</td> <td>0.7567</td> <td>-0.5458</td> <td>0.1888</td>   <td>False</td>\n",
       "</tr>\n",
       "<tr>\n",
       "       <td>Combat</td>           <td>Strength</td>       <td>0.8609</td>   <td>0.001</td> <td>0.5023</td>  <td>1.2196</td>   <td>True</td> \n",
       "</tr>\n",
       "<tr>\n",
       "    <td>Conditioning</td>          <td>Game</td>         <td>-0.0319</td>   <td>0.9</td>  <td>-0.3006</td> <td>0.2368</td>   <td>False</td>\n",
       "</tr>\n",
       "<tr>\n",
       "    <td>Conditioning</td>    <td>Mobility/Recovery</td>  <td>-5.2452</td>  <td>0.001</td> <td>-5.4601</td> <td>-5.0302</td>  <td>True</td> \n",
       "</tr>\n",
       "<tr>\n",
       "    <td>Conditioning</td>         <td>Skills</td>         <td>-2.22</td>   <td>0.001</td> <td>-2.4087</td> <td>-2.0313</td>  <td>True</td> \n",
       "</tr>\n",
       "<tr>\n",
       "    <td>Conditioning</td>          <td>Speed</td>        <td>-2.2839</td>  <td>0.001</td> <td>-2.4878</td> <td>-2.0799</td>  <td>True</td> \n",
       "</tr>\n",
       "<tr>\n",
       "    <td>Conditioning</td>        <td>Strength</td>       <td>-1.2444</td>  <td>0.001</td> <td>-1.4323</td> <td>-1.0565</td>  <td>True</td> \n",
       "</tr>\n",
       "<tr>\n",
       "        <td>Game</td>        <td>Mobility/Recovery</td>  <td>-5.2133</td>  <td>0.001</td> <td>-5.4805</td> <td>-4.946</td>   <td>True</td> \n",
       "</tr>\n",
       "<tr>\n",
       "        <td>Game</td>             <td>Skills</td>        <td>-2.1881</td>  <td>0.001</td> <td>-2.4347</td> <td>-1.9415</td>  <td>True</td> \n",
       "</tr>\n",
       "<tr>\n",
       "        <td>Game</td>              <td>Speed</td>        <td>-2.252</td>   <td>0.001</td> <td>-2.5104</td> <td>-1.9935</td>  <td>True</td> \n",
       "</tr>\n",
       "<tr>\n",
       "        <td>Game</td>            <td>Strength</td>       <td>-1.2125</td>  <td>0.001</td> <td>-1.4585</td> <td>-0.9665</td>  <td>True</td> \n",
       "</tr>\n",
       "<tr>\n",
       "  <td>Mobility/Recovery</td>      <td>Skills</td>        <td>3.0252</td>   <td>0.001</td> <td>2.8385</td>  <td>3.2118</td>   <td>True</td> \n",
       "</tr>\n",
       "<tr>\n",
       "  <td>Mobility/Recovery</td>       <td>Speed</td>        <td>2.9613</td>   <td>0.001</td> <td>2.7592</td>  <td>3.1634</td>   <td>True</td> \n",
       "</tr>\n",
       "<tr>\n",
       "  <td>Mobility/Recovery</td>     <td>Strength</td>       <td>4.0008</td>   <td>0.001</td> <td>3.8149</td>  <td>4.1866</td>   <td>True</td> \n",
       "</tr>\n",
       "<tr>\n",
       "       <td>Skills</td>             <td>Speed</td>        <td>-0.0639</td>   <td>0.9</td>  <td>-0.2377</td>  <td>0.11</td>    <td>False</td>\n",
       "</tr>\n",
       "<tr>\n",
       "       <td>Skills</td>           <td>Strength</td>       <td>0.9756</td>   <td>0.001</td> <td>0.8209</td>  <td>1.1303</td>   <td>True</td> \n",
       "</tr>\n",
       "<tr>\n",
       "        <td>Speed</td>           <td>Strength</td>       <td>1.0395</td>   <td>0.001</td> <td>0.8665</td>  <td>1.2124</td>   <td>True</td> \n",
       "</tr>\n",
       "</table>"
      ],
      "text/plain": [
       "<class 'statsmodels.iolib.table.SimpleTable'>"
      ]
     },
     "execution_count": 33,
     "metadata": {},
     "output_type": "execute_result"
    }
   ],
   "source": [
    "pairwise_tukeyhsd(rpe_data[\"RPE\"],rpe_data[\"SessionType\"]).summary()"
   ]
  },
  {
   "cell_type": "markdown",
   "metadata": {},
   "source": [
    "Since most of groups have different mean for RPE, we can include that SessionType is highly correlated to RPE"
   ]
  },
  {
   "cell_type": "code",
   "execution_count": 23,
   "metadata": {},
   "outputs": [
    {
     "data": {
      "text/plain": [
       "<matplotlib.axes._subplots.AxesSubplot at 0x1a18065550>"
      ]
     },
     "execution_count": 23,
     "metadata": {},
     "output_type": "execute_result"
    },
    {
     "data": {
      "image/png": "[encoded data removed]",
      "text/plain": [
       "<Figure size 432x288 with 1 Axes>"
      ]
     },
     "metadata": {
      "needs_background": "light"
     },
     "output_type": "display_data"
    }
   ],
   "source": [
    "rpe_data.boxplot(column = 'Duration',by = 'SessionType')"
   ]
  },
  {
   "cell_type": "code",
   "execution_count": 24,
   "metadata": {},
   "outputs": [
    {
     "data": {
      "text/html": [
       "<table class=\"simpletable\">\n",
       "<caption>Multiple Comparison of Means - Tukey HSD, FWER=0.05</caption>\n",
       "<tr>\n",
       "       <th>group1</th>            <th>group2</th>       <th>meandiff</th>  <th>p-adj</th>   <th>lower</th>    <th>upper</th>  <th>reject</th>\n",
       "</tr>\n",
       "<tr>\n",
       "    <td>Conditioning</td>          <td>Game</td>        <td>-15.5706</td>  <td>0.001</td> <td>-20.6103</td> <td>-10.5308</td>  <td>True</td> \n",
       "</tr>\n",
       "<tr>\n",
       "    <td>Conditioning</td>    <td>Mobility/Recovery</td>  <td>-8.5029</td>  <td>0.001</td> <td>-12.0364</td>  <td>-4.9694</td>  <td>True</td> \n",
       "</tr>\n",
       "<tr>\n",
       "    <td>Conditioning</td>         <td>Skills</td>        <td>15.2698</td>  <td>0.001</td>  <td>12.043</td>   <td>18.4966</td>  <td>True</td> \n",
       "</tr>\n",
       "<tr>\n",
       "    <td>Conditioning</td>          <td>Speed</td>        <td>-4.6303</td>  <td>0.001</td>  <td>-7.5187</td>  <td>-1.7419</td>  <td>True</td> \n",
       "</tr>\n",
       "<tr>\n",
       "    <td>Conditioning</td>        <td>Strength</td>       <td>26.2295</td>  <td>0.001</td>  <td>22.3178</td>  <td>30.1413</td>  <td>True</td> \n",
       "</tr>\n",
       "<tr>\n",
       "        <td>Game</td>        <td>Mobility/Recovery</td>  <td>7.0677</td>   <td>0.001</td>  <td>1.9901</td>   <td>12.1452</td>  <td>True</td> \n",
       "</tr>\n",
       "<tr>\n",
       "        <td>Game</td>             <td>Skills</td>        <td>30.8404</td>  <td>0.001</td>  <td>25.9713</td>  <td>35.7095</td>  <td>True</td> \n",
       "</tr>\n",
       "<tr>\n",
       "        <td>Game</td>              <td>Speed</td>        <td>10.9402</td>  <td>0.001</td>  <td>6.2885</td>   <td>15.592</td>   <td>True</td> \n",
       "</tr>\n",
       "<tr>\n",
       "        <td>Game</td>            <td>Strength</td>       <td>41.8001</td>  <td>0.001</td>  <td>36.4524</td>  <td>47.1478</td>  <td>True</td> \n",
       "</tr>\n",
       "<tr>\n",
       "  <td>Mobility/Recovery</td>      <td>Skills</td>        <td>23.7727</td>  <td>0.001</td>  <td>20.4872</td>  <td>27.0583</td>  <td>True</td> \n",
       "</tr>\n",
       "<tr>\n",
       "  <td>Mobility/Recovery</td>       <td>Speed</td>        <td>3.8726</td>  <td>0.0026</td>  <td>0.9187</td>   <td>6.8265</td>   <td>True</td> \n",
       "</tr>\n",
       "<tr>\n",
       "  <td>Mobility/Recovery</td>     <td>Strength</td>       <td>34.7324</td>  <td>0.001</td>  <td>30.7721</td>  <td>38.6928</td>  <td>True</td> \n",
       "</tr>\n",
       "<tr>\n",
       "       <td>Skills</td>             <td>Speed</td>       <td>-19.9002</td>  <td>0.001</td> <td>-22.4794</td>  <td>-17.321</td>  <td>True</td> \n",
       "</tr>\n",
       "<tr>\n",
       "       <td>Skills</td>           <td>Strength</td>       <td>10.9597</td>  <td>0.001</td>  <td>7.2703</td>   <td>14.649</td>   <td>True</td> \n",
       "</tr>\n",
       "<tr>\n",
       "        <td>Speed</td>           <td>Strength</td>       <td>30.8599</td>  <td>0.001</td>  <td>27.4625</td>  <td>34.2572</td>  <td>True</td> \n",
       "</tr>\n",
       "</table>"
      ],
      "text/plain": [
       "<class 'statsmodels.iolib.table.SimpleTable'>"
      ]
     },
     "execution_count": 24,
     "metadata": {},
     "output_type": "execute_result"
    }
   ],
   "source": [
    "pairwise_tukeyhsd(rpe_data[\"Duration\"],rpe_data[\"SessionType\"]).summary()"
   ]
  },
  {
   "cell_type": "code",
   "execution_count": 27,
   "metadata": {},
   "outputs": [],
   "source": [
    "\n",
    "conditions = [\n",
    "    (rpe_data['AcuteChronicRatio'] <= 0.8),\n",
    "    (rpe_data['AcuteChronicRatio'] > 0.8) & (rpe_data['AcuteChronicRatio'] < 1.2),\n",
    "    (rpe_data['AcuteChronicRatio'] >=1.2)]\n",
    "choices = ['recovering', 'normal', 'high']\n",
    "rpe_data[\"Load Status\"] = np.select(conditions,choices)"
   ]
  },
  {
   "cell_type": "code",
   "execution_count": 32,
   "metadata": {},
   "outputs": [
    {
     "data": {
      "text/plain": [
       "Load Status\n",
       "high           988\n",
       "normal        1002\n",
       "recovering    1159\n",
       "Name: Load Status, dtype: int64"
      ]
     },
     "execution_count": 32,
     "metadata": {},
     "output_type": "execute_result"
    }
   ],
   "source": [
    "rpe_data.groupby(rpe_data[\"Load Status\"])[\"Load Status\"].count()\n"
   ]
  },
  {
   "cell_type": "code",
   "execution_count": 53,
   "metadata": {},
   "outputs": [
    {
     "name": "stderr",
     "output_type": "stream",
     "text": [
      "//anaconda3/lib/python3.7/site-packages/ipykernel_launcher.py:5: SettingWithCopyWarning: \n",
      "A value is trying to be set on a copy of a slice from a DataFrame.\n",
      "Try using .loc[row_indexer,col_indexer] = value instead\n",
      "\n",
      "See the caveats in the documentation: http://pandas.pydata.org/pandas-docs/stable/indexing.html#indexing-view-versus-copy\n",
      "  \"\"\"\n",
      "//anaconda3/lib/python3.7/site-packages/ipykernel_launcher.py:6: SettingWithCopyWarning: \n",
      "A value is trying to be set on a copy of a slice from a DataFrame.\n",
      "Try using .loc[row_indexer,col_indexer] = value instead\n",
      "\n",
      "See the caveats in the documentation: http://pandas.pydata.org/pandas-docs/stable/indexing.html#indexing-view-versus-copy\n",
      "  \n"
     ]
    }
   ],
   "source": [
    "rpe_data.head()\n",
    "df = rpe_data[[\"SessionType\",\"Duration\",\"RPE\",\"AcuteChronicRatio\",\"Load Status\"]]\n",
    "df.dropna()\n",
    "df.shape\n",
    "df[\"status_factor\"] = pd.factorize(df[\"Load Status\"])[0]\n",
    "df[\"type_factor\"] = pd.factorize(df[\"SessionType\"])[0]"
   ]
  },
  {
   "cell_type": "code",
   "execution_count": 62,
   "metadata": {},
   "outputs": [
    {
     "data": {
      "text/plain": [
       "(1473.0528478720091, 1.0317176580752682e-299)"
      ]
     },
     "execution_count": 62,
     "metadata": {},
     "output_type": "execute_result"
    }
   ],
   "source": [
    "from factor_analyzer.factor_analyzer import calculate_bartlett_sphericity\n",
    "chi_square_value,p_value=calculate_bartlett_sphericity(df)\n",
    "chi_square_value, p_value"
   ]
  },
  {
   "cell_type": "markdown",
   "metadata": {},
   "source": [
    "In this Bartlett ’s test, the p-value is $1.0317176580752682\\times 10^{-299}$. The test was statistically significant, indicating that the observed correlation matrix is not an identity matrix."
   ]
  },
  {
   "cell_type": "code",
   "execution_count": 63,
   "metadata": {},
   "outputs": [
    {
     "data": {
      "text/plain": [
       "0.5574032410631249"
      ]
     },
     "execution_count": 63,
     "metadata": {},
     "output_type": "execute_result"
    }
   ],
   "source": [
    "from factor_analyzer.factor_analyzer import calculate_kmo\n",
    "kmo_all,kmo_model= calculate_kmo(df[[\"type_factor\",\"Duration\",\"RPE\",\"AcuteChronicRatio\",\"status_factor\"]])\n",
    "kmo_model"
   ]
  },
  {
   "cell_type": "markdown",
   "metadata": {},
   "source": [
    "But in KMO test, it determines the adequacy for each observed variable and for the complete model. But our value is smaller than 0.6, which suggest inadequacy."
   ]
  },
  {
   "cell_type": "code",
   "execution_count": 64,
   "metadata": {},
   "outputs": [
    {
     "data": {
      "text/html": [
       "<div>\n",
       "<style scoped>\n",
       "    .dataframe tbody tr th:only-of-type {\n",
       "        vertical-align: middle;\n",
       "    }\n",
       "\n",
       "    .dataframe tbody tr th {\n",
       "        vertical-align: top;\n",
       "    }\n",
       "\n",
       "    .dataframe thead th {\n",
       "        text-align: right;\n",
       "    }\n",
       "</style>\n",
       "<table border=\"1\" class=\"dataframe\">\n",
       "  <thead>\n",
       "    <tr style=\"text-align: right;\">\n",
       "      <th></th>\n",
       "      <th>Original_Eigenvalues</th>\n",
       "    </tr>\n",
       "  </thead>\n",
       "  <tbody>\n",
       "    <tr>\n",
       "      <th>0</th>\n",
       "      <td>1.698833</td>\n",
       "    </tr>\n",
       "    <tr>\n",
       "      <th>1</th>\n",
       "      <td>1.284132</td>\n",
       "    </tr>\n",
       "    <tr>\n",
       "      <th>2</th>\n",
       "      <td>0.846663</td>\n",
       "    </tr>\n",
       "    <tr>\n",
       "      <th>3</th>\n",
       "      <td>0.644495</td>\n",
       "    </tr>\n",
       "    <tr>\n",
       "      <th>4</th>\n",
       "      <td>0.525877</td>\n",
       "    </tr>\n",
       "  </tbody>\n",
       "</table>\n",
       "</div>"
      ],
      "text/plain": [
       "   Original_Eigenvalues\n",
       "0              1.698833\n",
       "1              1.284132\n",
       "2              0.846663\n",
       "3              0.644495\n",
       "4              0.525877"
      ]
     },
     "execution_count": 64,
     "metadata": {},
     "output_type": "execute_result"
    }
   ],
   "source": [
    "# Create factor analysis object and perform factor analysis\n",
    "\n",
    "fa = FactorAnalyzer()\n",
    "fa.analyze(df, 5, rotation=None)\n",
    "# Check Eigenvalues\n",
    "ev, v = fa.get_eigenvalues()\n",
    "ev"
   ]
  },
  {
   "cell_type": "code",
   "execution_count": 66,
   "metadata": {},
   "outputs": [
    {
     "data": {
      "image/png": "[encoded data removed]",
      "text/plain": [
       "<Figure size 432x288 with 1 Axes>"
      ]
     },
     "metadata": {
      "needs_background": "light"
     },
     "output_type": "display_data"
    }
   ],
   "source": [
    "plt.scatter(range(1,5+1),ev)\n",
    "plt.plot(range(1,5+1),ev)\n",
    "plt.title('Scree Plot')\n",
    "plt.xlabel('Factors')\n",
    "plt.ylabel('Eigenvalue')\n",
    "plt.grid()\n",
    "plt.show()"
   ]
  },
  {
   "cell_type": "code",
   "execution_count": 67,
   "metadata": {},
   "outputs": [
    {
     "data": {
      "text/html": [
       "<div>\n",
       "<style scoped>\n",
       "    .dataframe tbody tr th:only-of-type {\n",
       "        vertical-align: middle;\n",
       "    }\n",
       "\n",
       "    .dataframe tbody tr th {\n",
       "        vertical-align: top;\n",
       "    }\n",
       "\n",
       "    .dataframe thead th {\n",
       "        text-align: right;\n",
       "    }\n",
       "</style>\n",
       "<table border=\"1\" class=\"dataframe\">\n",
       "  <thead>\n",
       "    <tr style=\"text-align: right;\">\n",
       "      <th></th>\n",
       "      <th>Factor1</th>\n",
       "      <th>Factor2</th>\n",
       "    </tr>\n",
       "  </thead>\n",
       "  <tbody>\n",
       "    <tr>\n",
       "      <th>Duration</th>\n",
       "      <td>0.068676</td>\n",
       "      <td>0.354276</td>\n",
       "    </tr>\n",
       "    <tr>\n",
       "      <th>RPE</th>\n",
       "      <td>0.000546</td>\n",
       "      <td>0.778266</td>\n",
       "    </tr>\n",
       "    <tr>\n",
       "      <th>AcuteChronicRatio</th>\n",
       "      <td>0.994290</td>\n",
       "      <td>0.080418</td>\n",
       "    </tr>\n",
       "    <tr>\n",
       "      <th>status_factor</th>\n",
       "      <td>0.458746</td>\n",
       "      <td>0.095161</td>\n",
       "    </tr>\n",
       "    <tr>\n",
       "      <th>type_factor</th>\n",
       "      <td>0.093725</td>\n",
       "      <td>0.425290</td>\n",
       "    </tr>\n",
       "  </tbody>\n",
       "</table>\n",
       "</div>"
      ],
      "text/plain": [
       "                    Factor1   Factor2\n",
       "Duration           0.068676  0.354276\n",
       "RPE                0.000546  0.778266\n",
       "AcuteChronicRatio  0.994290  0.080418\n",
       "status_factor      0.458746  0.095161\n",
       "type_factor        0.093725  0.425290"
      ]
     },
     "execution_count": 67,
     "metadata": {},
     "output_type": "execute_result"
    }
   ],
   "source": [
    "fa = FactorAnalyzer()\n",
    "fa.analyze(df, 2, rotation=\"varimax\")\n",
    "fa.loadings"
   ]
  },
  {
   "cell_type": "code",
   "execution_count": 68,
   "metadata": {},
   "outputs": [
    {
     "data": {
      "text/html": [
       "<div>\n",
       "<style scoped>\n",
       "    .dataframe tbody tr th:only-of-type {\n",
       "        vertical-align: middle;\n",
       "    }\n",
       "\n",
       "    .dataframe tbody tr th {\n",
       "        vertical-align: top;\n",
       "    }\n",
       "\n",
       "    .dataframe thead th {\n",
       "        text-align: right;\n",
       "    }\n",
       "</style>\n",
       "<table border=\"1\" class=\"dataframe\">\n",
       "  <thead>\n",
       "    <tr style=\"text-align: right;\">\n",
       "      <th></th>\n",
       "      <th>Factor1</th>\n",
       "      <th>Factor2</th>\n",
       "    </tr>\n",
       "  </thead>\n",
       "  <tbody>\n",
       "    <tr>\n",
       "      <th>SS Loadings</th>\n",
       "      <td>1.212562</td>\n",
       "      <td>0.927604</td>\n",
       "    </tr>\n",
       "    <tr>\n",
       "      <th>Proportion Var</th>\n",
       "      <td>0.242512</td>\n",
       "      <td>0.185521</td>\n",
       "    </tr>\n",
       "    <tr>\n",
       "      <th>Cumulative Var</th>\n",
       "      <td>0.242512</td>\n",
       "      <td>0.428033</td>\n",
       "    </tr>\n",
       "  </tbody>\n",
       "</table>\n",
       "</div>"
      ],
      "text/plain": [
       "                 Factor1   Factor2\n",
       "SS Loadings     1.212562  0.927604\n",
       "Proportion Var  0.242512  0.185521\n",
       "Cumulative Var  0.242512  0.428033"
      ]
     },
     "execution_count": 68,
     "metadata": {},
     "output_type": "execute_result"
    }
   ],
   "source": [
    "fa.get_factor_variance()"
   ]
  },
  {
   "cell_type": "code",
   "execution_count": 71,
   "metadata": {},
   "outputs": [
    {
     "name": "stderr",
     "output_type": "stream",
     "text": [
      "//anaconda3/lib/python3.7/site-packages/ipykernel_launcher.py:11: SettingWithCopyWarning: \n",
      "A value is trying to be set on a copy of a slice from a DataFrame.\n",
      "Try using .loc[row_indexer,col_indexer] = value instead\n",
      "\n",
      "See the caveats in the documentation: http://pandas.pydata.org/pandas-docs/stable/indexing.html#indexing-view-versus-copy\n",
      "  # This is added back by InteractiveShellApp.init_path()\n"
     ]
    }
   ],
   "source": [
    "#Load Status\n",
    "#high           988\n",
    "#normal        1002\n",
    "#recovering    1159\n",
    "[p1,p2,p3]=[998,1002,1159]/np.sum([998,1002,1159]) \n",
    "conditions = [\n",
    "    (rpe_data['Load Status'] == \"high\"),\n",
    "    (rpe_data['Load Status'] == \"normal\"),\n",
    "    (rpe_data['Load Status'] == \"recovering\")]\n",
    "choices = [p1, p2, p3]\n",
    "df[\"status_porpotion\"] = np.select(conditions,choices)"
   ]
  },
  {
   "cell_type": "code",
   "execution_count": 73,
   "metadata": {},
   "outputs": [
    {
     "name": "stderr",
     "output_type": "stream",
     "text": [
      "//anaconda3/lib/python3.7/site-packages/ipykernel_launcher.py:17: SettingWithCopyWarning: \n",
      "A value is trying to be set on a copy of a slice from a DataFrame.\n",
      "Try using .loc[row_indexer,col_indexer] = value instead\n",
      "\n",
      "See the caveats in the documentation: http://pandas.pydata.org/pandas-docs/stable/indexing.html#indexing-view-versus-copy\n"
     ]
    }
   ],
   "source": [
    "#Conditioning          454\n",
    "#Game                  142\n",
    "#Mobility/Recovery     427\n",
    "#Skills                630\n",
    "#Speed                1199\n",
    "#Strength              297\n",
    "[p1,p2,p3,p4,p5,p6]=[454,142,427,630,1199,297]/np.sum([454,142,427,630,1199,297]) \n",
    "conditions = [\n",
    "    (rpe_data[\"SessionType\"] == \"Conditioning\"),\n",
    "    (rpe_data[\"SessionType\"] == \"Game\"),\n",
    "    (rpe_data[\"SessionType\"] == \"Mobility/Recovery\"),\n",
    "    (rpe_data[\"SessionType\"] == \"Skills\"),\n",
    "    (rpe_data[\"SessionType\"] == \"Speed\"),\n",
    "    (rpe_data[\"SessionType\"] == \"Strength\")\n",
    "]\n",
    "choices = [p1,p2,p3,p4,p5,p6]\n",
    "df[\"type_porpotion\"] = np.select(conditions,choices)"
   ]
  },
  {
   "cell_type": "code",
   "execution_count": 74,
   "metadata": {},
   "outputs": [
    {
     "data": {
      "text/plain": [
       "0.5288001777017137"
      ]
     },
     "execution_count": 74,
     "metadata": {},
     "output_type": "execute_result"
    }
   ],
   "source": [
    "from factor_analyzer.factor_analyzer import calculate_kmo\n",
    "kmo_all,kmo_model= calculate_kmo(df[[\"RPE\",\"type_porpotion\",\"Duration\",\"AcuteChronicRatio\",\"status_porpotion\"]])\n",
    "kmo_model"
   ]
  },
  {
   "cell_type": "code",
   "execution_count": 75,
   "metadata": {},
   "outputs": [
    {
     "data": {
      "text/html": [
       "<div>\n",
       "<style scoped>\n",
       "    .dataframe tbody tr th:only-of-type {\n",
       "        vertical-align: middle;\n",
       "    }\n",
       "\n",
       "    .dataframe tbody tr th {\n",
       "        vertical-align: top;\n",
       "    }\n",
       "\n",
       "    .dataframe thead th {\n",
       "        text-align: right;\n",
       "    }\n",
       "</style>\n",
       "<table border=\"1\" class=\"dataframe\">\n",
       "  <thead>\n",
       "    <tr style=\"text-align: right;\">\n",
       "      <th></th>\n",
       "      <th>RPE</th>\n",
       "      <th>type_porpotion</th>\n",
       "      <th>Duration</th>\n",
       "      <th>AcuteChronicRatio</th>\n",
       "      <th>status_porpotion</th>\n",
       "    </tr>\n",
       "  </thead>\n",
       "  <tbody>\n",
       "    <tr>\n",
       "      <th>RPE</th>\n",
       "      <td>4.340500</td>\n",
       "      <td>-0.019541</td>\n",
       "      <td>12.487731</td>\n",
       "      <td>0.090779</td>\n",
       "      <td>-0.003319</td>\n",
       "    </tr>\n",
       "    <tr>\n",
       "      <th>type_porpotion</th>\n",
       "      <td>-0.019541</td>\n",
       "      <td>0.014360</td>\n",
       "      <td>-0.464127</td>\n",
       "      <td>0.007733</td>\n",
       "      <td>-0.000410</td>\n",
       "    </tr>\n",
       "    <tr>\n",
       "      <th>Duration</th>\n",
       "      <td>12.487731</td>\n",
       "      <td>-0.464127</td>\n",
       "      <td>474.192978</td>\n",
       "      <td>1.411572</td>\n",
       "      <td>-0.034268</td>\n",
       "    </tr>\n",
       "    <tr>\n",
       "      <th>AcuteChronicRatio</th>\n",
       "      <td>0.090779</td>\n",
       "      <td>0.007733</td>\n",
       "      <td>1.411572</td>\n",
       "      <td>0.477481</td>\n",
       "      <td>-0.009952</td>\n",
       "    </tr>\n",
       "    <tr>\n",
       "      <th>status_porpotion</th>\n",
       "      <td>-0.003319</td>\n",
       "      <td>-0.000410</td>\n",
       "      <td>-0.034268</td>\n",
       "      <td>-0.009952</td>\n",
       "      <td>0.000590</td>\n",
       "    </tr>\n",
       "  </tbody>\n",
       "</table>\n",
       "</div>"
      ],
      "text/plain": [
       "                         RPE  type_porpotion    Duration  AcuteChronicRatio  \\\n",
       "RPE                 4.340500       -0.019541   12.487731           0.090779   \n",
       "type_porpotion     -0.019541        0.014360   -0.464127           0.007733   \n",
       "Duration           12.487731       -0.464127  474.192978           1.411572   \n",
       "AcuteChronicRatio   0.090779        0.007733    1.411572           0.477481   \n",
       "status_porpotion   -0.003319       -0.000410   -0.034268          -0.009952   \n",
       "\n",
       "                   status_porpotion  \n",
       "RPE                       -0.003319  \n",
       "type_porpotion            -0.000410  \n",
       "Duration                  -0.034268  \n",
       "AcuteChronicRatio         -0.009952  \n",
       "status_porpotion           0.000590  "
      ]
     },
     "execution_count": 75,
     "metadata": {},
     "output_type": "execute_result"
    }
   ],
   "source": [
    "df[[\"RPE\",\"type_porpotion\",\"Duration\",\"AcuteChronicRatio\",\"status_porpotion\"]].cov()"
   ]
  },
  {
   "cell_type": "code",
   "execution_count": 87,
   "metadata": {},
   "outputs": [],
   "source": [
    "new_df = df[[\"RPE\",\"type_factor\",\"Duration\",\"status_factor\"]]"
   ]
  },
  {
   "cell_type": "code",
   "execution_count": 88,
   "metadata": {},
   "outputs": [
    {
     "data": {
      "image/png": "[encoded data removed]",
      "text/plain": [
       "<Figure size 432x288 with 2 Axes>"
      ]
     },
     "metadata": {
      "needs_background": "light"
     },
     "output_type": "display_data"
    }
   ],
   "source": [
    "correlations = new_df.corr()\n",
    "# plot correlation matrix\n",
    "names = [\"RPE\",\"SessionType\",\"Duration\",\"Load Status\"]\n",
    "fig = plt.figure()\n",
    "ax = fig.add_subplot(111)\n",
    "cax = ax.matshow(correlations, vmin=-0, vmax=1)\n",
    "fig.colorbar(cax)\n",
    "ticks = np.arange(0,4,1)\n",
    "ax.set_xticks(ticks)\n",
    "ax.set_yticks(ticks)\n",
    "ax.set_xticklabels(names)\n",
    "ax.set_yticklabels(names)\n",
    "plt.show()"
   ]
  },
  {
   "cell_type": "code",
   "execution_count": 89,
   "metadata": {},
   "outputs": [
    {
     "ename": "AttributeError",
     "evalue": "'Series' object has no attribute 'standardize'",
     "output_type": "error",
     "traceback": [
      "\u001b[0;31m---------------------------------------------------------------------------\u001b[0m",
      "\u001b[0;31mAttributeError\u001b[0m                            Traceback (most recent call last)",
      "\u001b[0;32m<ipython-input-89-88bcf6aa23e8>\u001b[0m in \u001b[0;36m<module>\u001b[0;34m\u001b[0m\n\u001b[0;32m----> 1\u001b[0;31m \u001b[0mdf\u001b[0m\u001b[0;34m[\u001b[0m\u001b[0;34m\"RPE\"\u001b[0m\u001b[0;34m]\u001b[0m\u001b[0;34m.\u001b[0m\u001b[0mstandardize\u001b[0m\u001b[0;34m(\u001b[0m\u001b[0;34m)\u001b[0m\u001b[0;34m\u001b[0m\u001b[0;34m\u001b[0m\u001b[0m\n\u001b[0m",
      "\u001b[0;32m//anaconda3/lib/python3.7/site-packages/pandas/core/generic.py\u001b[0m in \u001b[0;36m__getattr__\u001b[0;34m(self, name)\u001b[0m\n\u001b[1;32m   5065\u001b[0m             \u001b[0;32mif\u001b[0m \u001b[0mself\u001b[0m\u001b[0;34m.\u001b[0m\u001b[0m_info_axis\u001b[0m\u001b[0;34m.\u001b[0m\u001b[0m_can_hold_identifiers_and_holds_name\u001b[0m\u001b[0;34m(\u001b[0m\u001b[0mname\u001b[0m\u001b[0;34m)\u001b[0m\u001b[0;34m:\u001b[0m\u001b[0;34m\u001b[0m\u001b[0;34m\u001b[0m\u001b[0m\n\u001b[1;32m   5066\u001b[0m                 \u001b[0;32mreturn\u001b[0m \u001b[0mself\u001b[0m\u001b[0;34m[\u001b[0m\u001b[0mname\u001b[0m\u001b[0;34m]\u001b[0m\u001b[0;34m\u001b[0m\u001b[0;34m\u001b[0m\u001b[0m\n\u001b[0;32m-> 5067\u001b[0;31m             \u001b[0;32mreturn\u001b[0m \u001b[0mobject\u001b[0m\u001b[0;34m.\u001b[0m\u001b[0m__getattribute__\u001b[0m\u001b[0;34m(\u001b[0m\u001b[0mself\u001b[0m\u001b[0;34m,\u001b[0m \u001b[0mname\u001b[0m\u001b[0;34m)\u001b[0m\u001b[0;34m\u001b[0m\u001b[0;34m\u001b[0m\u001b[0m\n\u001b[0m\u001b[1;32m   5068\u001b[0m \u001b[0;34m\u001b[0m\u001b[0m\n\u001b[1;32m   5069\u001b[0m     \u001b[0;32mdef\u001b[0m \u001b[0m__setattr__\u001b[0m\u001b[0;34m(\u001b[0m\u001b[0mself\u001b[0m\u001b[0;34m,\u001b[0m \u001b[0mname\u001b[0m\u001b[0;34m,\u001b[0m \u001b[0mvalue\u001b[0m\u001b[0;34m)\u001b[0m\u001b[0;34m:\u001b[0m\u001b[0;34m\u001b[0m\u001b[0;34m\u001b[0m\u001b[0m\n",
      "\u001b[0;31mAttributeError\u001b[0m: 'Series' object has no attribute 'standardize'"
     ]
    }
   ],
   "source": [
    "df[\"RPE\"].standardize()"
   ]
  },
  {
   "cell_type": "code",
   "execution_count": null,
   "metadata": {},
   "outputs": [],
   "source": [
    "df[\"RPE\"].plot(kind='bar')\n",
    "plt.show()"
   ]
  },
  {
   "cell_type": "code",
   "execution_count": 99,
   "metadata": {},
   "outputs": [
    {
     "data": {
      "image/png": "[encoded data removed]",
      "text/plain": [
       "<Figure size 432x288 with 1 Axes>"
      ]
     },
     "metadata": {
      "needs_background": "light"
     },
     "output_type": "display_data"
    }
   ],
   "source": [
    "a = plt.hist(df[\"RPE\"],bins = 10)\n",
    "plt.show()"
   ]
  },
  {
   "cell_type": "code",
   "execution_count": 110,
   "metadata": {},
   "outputs": [
    {
     "ename": "ValueError",
     "evalue": "could not convert string to float: 'Mobility/Recovery'",
     "output_type": "error",
     "traceback": [
      "\u001b[0;31m---------------------------------------------------------------------------\u001b[0m",
      "\u001b[0;31mValueError\u001b[0m                                Traceback (most recent call last)",
      "\u001b[0;32m<ipython-input-110-fa45678da163>\u001b[0m in \u001b[0;36m<module>\u001b[0;34m\u001b[0m\n\u001b[1;32m      5\u001b[0m \u001b[0mscaler\u001b[0m \u001b[0;34m=\u001b[0m \u001b[0mpreprocessing\u001b[0m\u001b[0;34m.\u001b[0m\u001b[0mStandardScaler\u001b[0m\u001b[0;34m(\u001b[0m\u001b[0;34m)\u001b[0m\u001b[0;34m\u001b[0m\u001b[0;34m\u001b[0m\u001b[0m\n\u001b[1;32m      6\u001b[0m \u001b[0;31m# Fit your data on the scaler object\u001b[0m\u001b[0;34m\u001b[0m\u001b[0;34m\u001b[0m\u001b[0;34m\u001b[0m\u001b[0m\n\u001b[0;32m----> 7\u001b[0;31m \u001b[0mscaled_df\u001b[0m \u001b[0;34m=\u001b[0m \u001b[0mscaler\u001b[0m\u001b[0;34m.\u001b[0m\u001b[0mfit_transform\u001b[0m\u001b[0;34m(\u001b[0m\u001b[0mdf\u001b[0m\u001b[0;34m)\u001b[0m\u001b[0;34m\u001b[0m\u001b[0;34m\u001b[0m\u001b[0m\n\u001b[0m\u001b[1;32m      8\u001b[0m \u001b[0mscaled_df\u001b[0m \u001b[0;34m=\u001b[0m \u001b[0mpd\u001b[0m\u001b[0;34m.\u001b[0m\u001b[0mDataFrame\u001b[0m\u001b[0;34m(\u001b[0m\u001b[0mscaled_df\u001b[0m\u001b[0;34m,\u001b[0m \u001b[0mcolumns\u001b[0m\u001b[0;34m=\u001b[0m\u001b[0mnames\u001b[0m\u001b[0;34m)\u001b[0m\u001b[0;34m\u001b[0m\u001b[0;34m\u001b[0m\u001b[0m\n",
      "\u001b[0;32m//anaconda3/lib/python3.7/site-packages/sklearn/base.py\u001b[0m in \u001b[0;36mfit_transform\u001b[0;34m(self, X, y, **fit_params)\u001b[0m\n\u001b[1;32m    551\u001b[0m         \u001b[0;32mif\u001b[0m \u001b[0my\u001b[0m \u001b[0;32mis\u001b[0m \u001b[0;32mNone\u001b[0m\u001b[0;34m:\u001b[0m\u001b[0;34m\u001b[0m\u001b[0;34m\u001b[0m\u001b[0m\n\u001b[1;32m    552\u001b[0m             \u001b[0;31m# fit method of arity 1 (unsupervised transformation)\u001b[0m\u001b[0;34m\u001b[0m\u001b[0;34m\u001b[0m\u001b[0;34m\u001b[0m\u001b[0m\n\u001b[0;32m--> 553\u001b[0;31m             \u001b[0;32mreturn\u001b[0m \u001b[0mself\u001b[0m\u001b[0;34m.\u001b[0m\u001b[0mfit\u001b[0m\u001b[0;34m(\u001b[0m\u001b[0mX\u001b[0m\u001b[0;34m,\u001b[0m \u001b[0;34m**\u001b[0m\u001b[0mfit_params\u001b[0m\u001b[0;34m)\u001b[0m\u001b[0;34m.\u001b[0m\u001b[0mtransform\u001b[0m\u001b[0;34m(\u001b[0m\u001b[0mX\u001b[0m\u001b[0;34m)\u001b[0m\u001b[0;34m\u001b[0m\u001b[0;34m\u001b[0m\u001b[0m\n\u001b[0m\u001b[1;32m    554\u001b[0m         \u001b[0;32melse\u001b[0m\u001b[0;34m:\u001b[0m\u001b[0;34m\u001b[0m\u001b[0;34m\u001b[0m\u001b[0m\n\u001b[1;32m    555\u001b[0m             \u001b[0;31m# fit method of arity 2 (supervised transformation)\u001b[0m\u001b[0;34m\u001b[0m\u001b[0;34m\u001b[0m\u001b[0;34m\u001b[0m\u001b[0m\n",
      "\u001b[0;32m//anaconda3/lib/python3.7/site-packages/sklearn/preprocessing/data.py\u001b[0m in \u001b[0;36mfit\u001b[0;34m(self, X, y)\u001b[0m\n\u001b[1;32m    637\u001b[0m         \u001b[0;31m# Reset internal state before fitting\u001b[0m\u001b[0;34m\u001b[0m\u001b[0;34m\u001b[0m\u001b[0;34m\u001b[0m\u001b[0m\n\u001b[1;32m    638\u001b[0m         \u001b[0mself\u001b[0m\u001b[0;34m.\u001b[0m\u001b[0m_reset\u001b[0m\u001b[0;34m(\u001b[0m\u001b[0;34m)\u001b[0m\u001b[0;34m\u001b[0m\u001b[0;34m\u001b[0m\u001b[0m\n\u001b[0;32m--> 639\u001b[0;31m         \u001b[0;32mreturn\u001b[0m \u001b[0mself\u001b[0m\u001b[0;34m.\u001b[0m\u001b[0mpartial_fit\u001b[0m\u001b[0;34m(\u001b[0m\u001b[0mX\u001b[0m\u001b[0;34m,\u001b[0m \u001b[0my\u001b[0m\u001b[0;34m)\u001b[0m\u001b[0;34m\u001b[0m\u001b[0;34m\u001b[0m\u001b[0m\n\u001b[0m\u001b[1;32m    640\u001b[0m \u001b[0;34m\u001b[0m\u001b[0m\n\u001b[1;32m    641\u001b[0m     \u001b[0;32mdef\u001b[0m \u001b[0mpartial_fit\u001b[0m\u001b[0;34m(\u001b[0m\u001b[0mself\u001b[0m\u001b[0;34m,\u001b[0m \u001b[0mX\u001b[0m\u001b[0;34m,\u001b[0m \u001b[0my\u001b[0m\u001b[0;34m=\u001b[0m\u001b[0;32mNone\u001b[0m\u001b[0;34m)\u001b[0m\u001b[0;34m:\u001b[0m\u001b[0;34m\u001b[0m\u001b[0;34m\u001b[0m\u001b[0m\n",
      "\u001b[0;32m//anaconda3/lib/python3.7/site-packages/sklearn/preprocessing/data.py\u001b[0m in \u001b[0;36mpartial_fit\u001b[0;34m(self, X, y)\u001b[0m\n\u001b[1;32m    661\u001b[0m         X = check_array(X, accept_sparse=('csr', 'csc'), copy=self.copy,\n\u001b[1;32m    662\u001b[0m                         \u001b[0mestimator\u001b[0m\u001b[0;34m=\u001b[0m\u001b[0mself\u001b[0m\u001b[0;34m,\u001b[0m \u001b[0mdtype\u001b[0m\u001b[0;34m=\u001b[0m\u001b[0mFLOAT_DTYPES\u001b[0m\u001b[0;34m,\u001b[0m\u001b[0;34m\u001b[0m\u001b[0;34m\u001b[0m\u001b[0m\n\u001b[0;32m--> 663\u001b[0;31m                         force_all_finite='allow-nan')\n\u001b[0m\u001b[1;32m    664\u001b[0m \u001b[0;34m\u001b[0m\u001b[0m\n\u001b[1;32m    665\u001b[0m         \u001b[0;31m# Even in the case of `with_mean=False`, we update the mean anyway\u001b[0m\u001b[0;34m\u001b[0m\u001b[0;34m\u001b[0m\u001b[0;34m\u001b[0m\u001b[0m\n",
      "\u001b[0;32m//anaconda3/lib/python3.7/site-packages/sklearn/utils/validation.py\u001b[0m in \u001b[0;36mcheck_array\u001b[0;34m(array, accept_sparse, accept_large_sparse, dtype, order, copy, force_all_finite, ensure_2d, allow_nd, ensure_min_samples, ensure_min_features, warn_on_dtype, estimator)\u001b[0m\n\u001b[1;32m    494\u001b[0m             \u001b[0;32mtry\u001b[0m\u001b[0;34m:\u001b[0m\u001b[0;34m\u001b[0m\u001b[0;34m\u001b[0m\u001b[0m\n\u001b[1;32m    495\u001b[0m                 \u001b[0mwarnings\u001b[0m\u001b[0;34m.\u001b[0m\u001b[0msimplefilter\u001b[0m\u001b[0;34m(\u001b[0m\u001b[0;34m'error'\u001b[0m\u001b[0;34m,\u001b[0m \u001b[0mComplexWarning\u001b[0m\u001b[0;34m)\u001b[0m\u001b[0;34m\u001b[0m\u001b[0;34m\u001b[0m\u001b[0m\n\u001b[0;32m--> 496\u001b[0;31m                 \u001b[0marray\u001b[0m \u001b[0;34m=\u001b[0m \u001b[0mnp\u001b[0m\u001b[0;34m.\u001b[0m\u001b[0masarray\u001b[0m\u001b[0;34m(\u001b[0m\u001b[0marray\u001b[0m\u001b[0;34m,\u001b[0m \u001b[0mdtype\u001b[0m\u001b[0;34m=\u001b[0m\u001b[0mdtype\u001b[0m\u001b[0;34m,\u001b[0m \u001b[0morder\u001b[0m\u001b[0;34m=\u001b[0m\u001b[0morder\u001b[0m\u001b[0;34m)\u001b[0m\u001b[0;34m\u001b[0m\u001b[0;34m\u001b[0m\u001b[0m\n\u001b[0m\u001b[1;32m    497\u001b[0m             \u001b[0;32mexcept\u001b[0m \u001b[0mComplexWarning\u001b[0m\u001b[0;34m:\u001b[0m\u001b[0;34m\u001b[0m\u001b[0;34m\u001b[0m\u001b[0m\n\u001b[1;32m    498\u001b[0m                 raise ValueError(\"Complex data not supported\\n\"\n",
      "\u001b[0;32m//anaconda3/lib/python3.7/site-packages/numpy/core/numeric.py\u001b[0m in \u001b[0;36masarray\u001b[0;34m(a, dtype, order)\u001b[0m\n\u001b[1;32m    536\u001b[0m \u001b[0;34m\u001b[0m\u001b[0m\n\u001b[1;32m    537\u001b[0m     \"\"\"\n\u001b[0;32m--> 538\u001b[0;31m     \u001b[0;32mreturn\u001b[0m \u001b[0marray\u001b[0m\u001b[0;34m(\u001b[0m\u001b[0ma\u001b[0m\u001b[0;34m,\u001b[0m \u001b[0mdtype\u001b[0m\u001b[0;34m,\u001b[0m \u001b[0mcopy\u001b[0m\u001b[0;34m=\u001b[0m\u001b[0;32mFalse\u001b[0m\u001b[0;34m,\u001b[0m \u001b[0morder\u001b[0m\u001b[0;34m=\u001b[0m\u001b[0morder\u001b[0m\u001b[0;34m)\u001b[0m\u001b[0;34m\u001b[0m\u001b[0;34m\u001b[0m\u001b[0m\n\u001b[0m\u001b[1;32m    539\u001b[0m \u001b[0;34m\u001b[0m\u001b[0m\n\u001b[1;32m    540\u001b[0m \u001b[0;34m\u001b[0m\u001b[0m\n",
      "\u001b[0;31mValueError\u001b[0m: could not convert string to float: 'Mobility/Recovery'"
     ]
    }
   ],
   "source": [
    "from sklearn import preprocessing\n",
    "# Get column names first\n",
    "names = df.columns\n",
    "# Create the Scaler object\n",
    "scaler = preprocessing.StandardScaler()\n",
    "# Fit your data on the scaler object\n"
   ]
  },
  {
   "cell_type": "code",
   "execution_count": 108,
   "metadata": {},
   "outputs": [
    {
     "data": {
      "text/plain": [
       "array([[0.        , 0.02362113, 0.02362113, ..., 0.00787371, 0.01968428,\n",
       "        0.00787371]])"
      ]
     },
     "execution_count": 108,
     "metadata": {},
     "output_type": "execute_result"
    }
   ],
   "source": []
  },
  {
   "cell_type": "code",
   "execution_count": 109,
   "metadata": {},
   "outputs": [
    {
     "data": {
      "image/png": "[encoded data removed]",
      "text/plain": [
       "<Figure size 432x288 with 1 Axes>"
      ]
     },
     "metadata": {
      "needs_background": "light"
     },
     "output_type": "display_data"
    }
   ],
   "source": []
  },
  {
   "cell_type": "code",
   "execution_count": null,
   "metadata": {},
   "outputs": [],
   "source": []
  }
 ],
 "metadata": {
  "kernelspec": {
   "display_name": "Python 3",
   "language": "python",
   "name": "python3"
  },
  "language_info": {
   "codemirror_mode": {
    "name": "ipython",
    "version": 3
   },
   "file_extension": ".py",
   "mimetype": "text/x-python",
   "name": "python",
   "nbconvert_exporter": "python",
   "pygments_lexer": "ipython3",
   "version": "3.7.3"
  }
 },
 "nbformat": 4,
 "nbformat_minor": 2
}
